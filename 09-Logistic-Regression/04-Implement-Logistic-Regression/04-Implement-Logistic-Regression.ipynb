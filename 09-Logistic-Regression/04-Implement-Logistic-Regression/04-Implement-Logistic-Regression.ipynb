{
 "cells": [
  {
   "cell_type": "markdown",
   "metadata": {},
   "source": [
    "## 实现逻辑回归"
   ]
  },
  {
   "cell_type": "code",
   "execution_count": 16,
   "metadata": {
    "collapsed": true
   },
   "outputs": [],
   "source": [
    "import numpy as np\n",
    "import matplotlib.pyplot as plt\n",
    "from sklearn import datasets\n",
    "\n",
    "iris = datasets.load_iris()"
   ]
  },
  {
   "cell_type": "code",
   "execution_count": 17,
   "metadata": {
    "collapsed": true
   },
   "outputs": [],
   "source": [
    "X = iris.data\n",
    "y = iris.target"
   ]
  },
  {
   "cell_type": "code",
   "execution_count": 18,
   "metadata": {
    "collapsed": true
   },
   "outputs": [],
   "source": [
    "# 逻辑分类只能处理二分类问题，所以使用y=0和y=1的行，并且为了可视化，只取2个特征\n",
    "X = X[y<2,:2]\n",
    "y = y[y<2]"
   ]
  },
  {
   "cell_type": "code",
   "execution_count": 19,
   "metadata": {},
   "outputs": [
    {
     "output_type": "execute_result",
     "data": {
      "text/plain": "(100, 2)"
     },
     "metadata": {},
     "execution_count": 19
    }
   ],
   "source": [
    "X.shape"
   ]
  },
  {
   "cell_type": "code",
   "execution_count": 20,
   "metadata": {},
   "outputs": [
    {
     "output_type": "execute_result",
     "data": {
      "text/plain": "(100,)"
     },
     "metadata": {},
     "execution_count": 20
    }
   ],
   "source": [
    "y.shape"
   ]
  },
  {
   "cell_type": "code",
   "execution_count": 21,
   "metadata": {},
   "outputs": [
    {
     "output_type": "display_data",
     "data": {
      "text/plain": "<Figure size 432x288 with 1 Axes>",
      "image/svg+xml": "<?xml version=\"1.0\" encoding=\"utf-8\" standalone=\"no\"?>\r\n<!DOCTYPE svg PUBLIC \"-//W3C//DTD SVG 1.1//EN\"\r\n  \"http://www.w3.org/Graphics/SVG/1.1/DTD/svg11.dtd\">\r\n<!-- Created with matplotlib (https://matplotlib.org/) -->\r\n<svg height=\"249.399937pt\" version=\"1.1\" viewBox=\"0 0 372.103125 249.399937\" width=\"372.103125pt\" xmlns=\"http://www.w3.org/2000/svg\" xmlns:xlink=\"http://www.w3.org/1999/xlink\">\r\n <defs>\r\n  <style type=\"text/css\">\r\n*{stroke-linecap:butt;stroke-linejoin:round;}\r\n  </style>\r\n </defs>\r\n <g id=\"figure_1\">\r\n  <g id=\"patch_1\">\r\n   <path d=\"M 0 249.399937 \r\nL 372.103125 249.399937 \r\nL 372.103125 0 \r\nL 0 0 \r\nz\r\n\" style=\"fill:none;\"/>\r\n  </g>\r\n  <g id=\"axes_1\">\r\n   <g id=\"patch_2\">\r\n    <path d=\"M 30.103125 225.521812 \r\nL 364.903125 225.521812 \r\nL 364.903125 8.081812 \r\nL 30.103125 8.081812 \r\nz\r\n\" style=\"fill:#ffffff;\"/>\r\n   </g>\r\n   <g id=\"PathCollection_1\">\r\n    <defs>\r\n     <path d=\"M 0 3 \r\nC 0.795609 3 1.55874 2.683901 2.12132 2.12132 \r\nC 2.683901 1.55874 3 0.795609 3 0 \r\nC 3 -0.795609 2.683901 -1.55874 2.12132 -2.12132 \r\nC 1.55874 -2.683901 0.795609 -3 0 -3 \r\nC -0.795609 -3 -1.55874 -2.683901 -2.12132 -2.12132 \r\nC -2.683901 -1.55874 -3 -0.795609 -3 0 \r\nC -3 0.795609 -2.683901 1.55874 -2.12132 2.12132 \r\nC -1.55874 2.683901 -0.795609 3 0 3 \r\nz\r\n\" id=\"m3155bb2309\" style=\"stroke:#ff0000;\"/>\r\n    </defs>\r\n    <g clip-path=\"url(#p2b11beb40e)\">\r\n     <use style=\"fill:#ff0000;stroke:#ff0000;\" x=\"135.712356\" xlink:href=\"#m3155bb2309\" y=\"91.811047\"/>\r\n     <use style=\"fill:#ff0000;stroke:#ff0000;\" x=\"113.364901\" xlink:href=\"#m3155bb2309\" y=\"132.216962\"/>\r\n     <use style=\"fill:#ff0000;stroke:#ff0000;\" x=\"91.017446\" xlink:href=\"#m3155bb2309\" y=\"116.054596\"/>\r\n     <use style=\"fill:#ff0000;stroke:#ff0000;\" x=\"79.843719\" xlink:href=\"#m3155bb2309\" y=\"124.135779\"/>\r\n     <use style=\"fill:#ff0000;stroke:#ff0000;\" x=\"124.538629\" xlink:href=\"#m3155bb2309\" y=\"83.729865\"/>\r\n     <use style=\"fill:#ff0000;stroke:#ff0000;\" x=\"169.233538\" xlink:href=\"#m3155bb2309\" y=\"59.486316\"/>\r\n     <use style=\"fill:#ff0000;stroke:#ff0000;\" x=\"79.843719\" xlink:href=\"#m3155bb2309\" y=\"99.89223\"/>\r\n     <use style=\"fill:#ff0000;stroke:#ff0000;\" x=\"124.538629\" xlink:href=\"#m3155bb2309\" y=\"99.89223\"/>\r\n     <use style=\"fill:#ff0000;stroke:#ff0000;\" x=\"57.496264\" xlink:href=\"#m3155bb2309\" y=\"140.298145\"/>\r\n     <use style=\"fill:#ff0000;stroke:#ff0000;\" x=\"113.364901\" xlink:href=\"#m3155bb2309\" y=\"124.135779\"/>\r\n     <use style=\"fill:#ff0000;stroke:#ff0000;\" x=\"169.233538\" xlink:href=\"#m3155bb2309\" y=\"75.648682\"/>\r\n     <use style=\"fill:#ff0000;stroke:#ff0000;\" x=\"102.191174\" xlink:href=\"#m3155bb2309\" y=\"99.89223\"/>\r\n     <use style=\"fill:#ff0000;stroke:#ff0000;\" x=\"102.191174\" xlink:href=\"#m3155bb2309\" y=\"132.216962\"/>\r\n     <use style=\"fill:#ff0000;stroke:#ff0000;\" x=\"46.322537\" xlink:href=\"#m3155bb2309\" y=\"132.216962\"/>\r\n     <use style=\"fill:#ff0000;stroke:#ff0000;\" x=\"213.928448\" xlink:href=\"#m3155bb2309\" y=\"51.405133\"/>\r\n     <use style=\"fill:#ff0000;stroke:#ff0000;\" x=\"202.75472\" xlink:href=\"#m3155bb2309\" y=\"19.080402\"/>\r\n     <use style=\"fill:#ff0000;stroke:#ff0000;\" x=\"169.233538\" xlink:href=\"#m3155bb2309\" y=\"59.486316\"/>\r\n     <use style=\"fill:#ff0000;stroke:#ff0000;\" x=\"135.712356\" xlink:href=\"#m3155bb2309\" y=\"91.811047\"/>\r\n     <use style=\"fill:#ff0000;stroke:#ff0000;\" x=\"202.75472\" xlink:href=\"#m3155bb2309\" y=\"67.567499\"/>\r\n     <use style=\"fill:#ff0000;stroke:#ff0000;\" x=\"135.712356\" xlink:href=\"#m3155bb2309\" y=\"67.567499\"/>\r\n     <use style=\"fill:#ff0000;stroke:#ff0000;\" x=\"169.233538\" xlink:href=\"#m3155bb2309\" y=\"99.89223\"/>\r\n     <use style=\"fill:#ff0000;stroke:#ff0000;\" x=\"135.712356\" xlink:href=\"#m3155bb2309\" y=\"75.648682\"/>\r\n     <use style=\"fill:#ff0000;stroke:#ff0000;\" x=\"79.843719\" xlink:href=\"#m3155bb2309\" y=\"83.729865\"/>\r\n     <use style=\"fill:#ff0000;stroke:#ff0000;\" x=\"135.712356\" xlink:href=\"#m3155bb2309\" y=\"107.973413\"/>\r\n     <use style=\"fill:#ff0000;stroke:#ff0000;\" x=\"102.191174\" xlink:href=\"#m3155bb2309\" y=\"99.89223\"/>\r\n     <use style=\"fill:#ff0000;stroke:#ff0000;\" x=\"124.538629\" xlink:href=\"#m3155bb2309\" y=\"132.216962\"/>\r\n     <use style=\"fill:#ff0000;stroke:#ff0000;\" x=\"124.538629\" xlink:href=\"#m3155bb2309\" y=\"99.89223\"/>\r\n     <use style=\"fill:#ff0000;stroke:#ff0000;\" x=\"146.886083\" xlink:href=\"#m3155bb2309\" y=\"91.811047\"/>\r\n     <use style=\"fill:#ff0000;stroke:#ff0000;\" x=\"146.886083\" xlink:href=\"#m3155bb2309\" y=\"99.89223\"/>\r\n     <use style=\"fill:#ff0000;stroke:#ff0000;\" x=\"91.017446\" xlink:href=\"#m3155bb2309\" y=\"116.054596\"/>\r\n     <use style=\"fill:#ff0000;stroke:#ff0000;\" x=\"102.191174\" xlink:href=\"#m3155bb2309\" y=\"124.135779\"/>\r\n     <use style=\"fill:#ff0000;stroke:#ff0000;\" x=\"169.233538\" xlink:href=\"#m3155bb2309\" y=\"99.89223\"/>\r\n     <use style=\"fill:#ff0000;stroke:#ff0000;\" x=\"146.886083\" xlink:href=\"#m3155bb2309\" y=\"43.32395\"/>\r\n     <use style=\"fill:#ff0000;stroke:#ff0000;\" x=\"180.407265\" xlink:href=\"#m3155bb2309\" y=\"35.242767\"/>\r\n     <use style=\"fill:#ff0000;stroke:#ff0000;\" x=\"113.364901\" xlink:href=\"#m3155bb2309\" y=\"124.135779\"/>\r\n     <use style=\"fill:#ff0000;stroke:#ff0000;\" x=\"124.538629\" xlink:href=\"#m3155bb2309\" y=\"116.054596\"/>\r\n     <use style=\"fill:#ff0000;stroke:#ff0000;\" x=\"180.407265\" xlink:href=\"#m3155bb2309\" y=\"91.811047\"/>\r\n     <use style=\"fill:#ff0000;stroke:#ff0000;\" x=\"113.364901\" xlink:href=\"#m3155bb2309\" y=\"83.729865\"/>\r\n     <use style=\"fill:#ff0000;stroke:#ff0000;\" x=\"57.496264\" xlink:href=\"#m3155bb2309\" y=\"132.216962\"/>\r\n     <use style=\"fill:#ff0000;stroke:#ff0000;\" x=\"135.712356\" xlink:href=\"#m3155bb2309\" y=\"99.89223\"/>\r\n     <use style=\"fill:#ff0000;stroke:#ff0000;\" x=\"124.538629\" xlink:href=\"#m3155bb2309\" y=\"91.811047\"/>\r\n     <use style=\"fill:#ff0000;stroke:#ff0000;\" x=\"68.669992\" xlink:href=\"#m3155bb2309\" y=\"188.785242\"/>\r\n     <use style=\"fill:#ff0000;stroke:#ff0000;\" x=\"57.496264\" xlink:href=\"#m3155bb2309\" y=\"116.054596\"/>\r\n     <use style=\"fill:#ff0000;stroke:#ff0000;\" x=\"124.538629\" xlink:href=\"#m3155bb2309\" y=\"91.811047\"/>\r\n     <use style=\"fill:#ff0000;stroke:#ff0000;\" x=\"135.712356\" xlink:href=\"#m3155bb2309\" y=\"67.567499\"/>\r\n     <use style=\"fill:#ff0000;stroke:#ff0000;\" x=\"102.191174\" xlink:href=\"#m3155bb2309\" y=\"132.216962\"/>\r\n     <use style=\"fill:#ff0000;stroke:#ff0000;\" x=\"135.712356\" xlink:href=\"#m3155bb2309\" y=\"67.567499\"/>\r\n     <use style=\"fill:#ff0000;stroke:#ff0000;\" x=\"79.843719\" xlink:href=\"#m3155bb2309\" y=\"116.054596\"/>\r\n     <use style=\"fill:#ff0000;stroke:#ff0000;\" x=\"158.059811\" xlink:href=\"#m3155bb2309\" y=\"75.648682\"/>\r\n     <use style=\"fill:#ff0000;stroke:#ff0000;\" x=\"124.538629\" xlink:href=\"#m3155bb2309\" y=\"107.973413\"/>\r\n    </g>\r\n   </g>\r\n   <g id=\"PathCollection_2\">\r\n    <defs>\r\n     <path d=\"M 0 3 \r\nC 0.795609 3 1.55874 2.683901 2.12132 2.12132 \r\nC 2.683901 1.55874 3 0.795609 3 0 \r\nC 3 -0.795609 2.683901 -1.55874 2.12132 -2.12132 \r\nC 1.55874 -2.683901 0.795609 -3 0 -3 \r\nC -0.795609 -3 -1.55874 -2.683901 -2.12132 -2.12132 \r\nC -2.683901 -1.55874 -3 -0.795609 -3 0 \r\nC -3 0.795609 -2.683901 1.55874 -2.12132 2.12132 \r\nC -1.55874 2.683901 -0.795609 3 0 3 \r\nz\r\n\" id=\"md62f9dfd54\" style=\"stroke:#0000ff;\"/>\r\n    </defs>\r\n    <g clip-path=\"url(#p2b11beb40e)\">\r\n     <use style=\"fill:#0000ff;stroke:#0000ff;\" x=\"348.013176\" xlink:href=\"#md62f9dfd54\" y=\"116.054596\"/>\r\n     <use style=\"fill:#0000ff;stroke:#0000ff;\" x=\"280.970812\" xlink:href=\"#md62f9dfd54\" y=\"116.054596\"/>\r\n     <use style=\"fill:#0000ff;stroke:#0000ff;\" x=\"336.839449\" xlink:href=\"#md62f9dfd54\" y=\"124.135779\"/>\r\n     <use style=\"fill:#0000ff;stroke:#0000ff;\" x=\"180.407265\" xlink:href=\"#md62f9dfd54\" y=\"188.785242\"/>\r\n     <use style=\"fill:#0000ff;stroke:#0000ff;\" x=\"292.144539\" xlink:href=\"#md62f9dfd54\" y=\"148.379328\"/>\r\n     <use style=\"fill:#0000ff;stroke:#0000ff;\" x=\"202.75472\" xlink:href=\"#md62f9dfd54\" y=\"148.379328\"/>\r\n     <use style=\"fill:#0000ff;stroke:#0000ff;\" x=\"269.797084\" xlink:href=\"#md62f9dfd54\" y=\"107.973413\"/>\r\n     <use style=\"fill:#0000ff;stroke:#0000ff;\" x=\"113.364901\" xlink:href=\"#md62f9dfd54\" y=\"180.704059\"/>\r\n     <use style=\"fill:#0000ff;stroke:#0000ff;\" x=\"303.318267\" xlink:href=\"#md62f9dfd54\" y=\"140.298145\"/>\r\n     <use style=\"fill:#0000ff;stroke:#0000ff;\" x=\"146.886083\" xlink:href=\"#md62f9dfd54\" y=\"156.46051\"/>\r\n     <use style=\"fill:#0000ff;stroke:#0000ff;\" x=\"124.538629\" xlink:href=\"#md62f9dfd54\" y=\"213.02879\"/>\r\n     <use style=\"fill:#0000ff;stroke:#0000ff;\" x=\"225.102175\" xlink:href=\"#md62f9dfd54\" y=\"132.216962\"/>\r\n     <use style=\"fill:#0000ff;stroke:#0000ff;\" x=\"236.275902\" xlink:href=\"#md62f9dfd54\" y=\"196.866425\"/>\r\n     <use style=\"fill:#0000ff;stroke:#0000ff;\" x=\"247.44963\" xlink:href=\"#md62f9dfd54\" y=\"140.298145\"/>\r\n     <use style=\"fill:#0000ff;stroke:#0000ff;\" x=\"191.580993\" xlink:href=\"#md62f9dfd54\" y=\"140.298145\"/>\r\n     <use style=\"fill:#0000ff;stroke:#0000ff;\" x=\"314.491994\" xlink:href=\"#md62f9dfd54\" y=\"124.135779\"/>\r\n     <use style=\"fill:#0000ff;stroke:#0000ff;\" x=\"191.580993\" xlink:href=\"#md62f9dfd54\" y=\"132.216962\"/>\r\n     <use style=\"fill:#0000ff;stroke:#0000ff;\" x=\"213.928448\" xlink:href=\"#md62f9dfd54\" y=\"156.46051\"/>\r\n     <use style=\"fill:#0000ff;stroke:#0000ff;\" x=\"258.623357\" xlink:href=\"#md62f9dfd54\" y=\"196.866425\"/>\r\n     <use style=\"fill:#0000ff;stroke:#0000ff;\" x=\"191.580993\" xlink:href=\"#md62f9dfd54\" y=\"172.622876\"/>\r\n     <use style=\"fill:#0000ff;stroke:#0000ff;\" x=\"225.102175\" xlink:href=\"#md62f9dfd54\" y=\"116.054596\"/>\r\n     <use style=\"fill:#0000ff;stroke:#0000ff;\" x=\"247.44963\" xlink:href=\"#md62f9dfd54\" y=\"148.379328\"/>\r\n     <use style=\"fill:#0000ff;stroke:#0000ff;\" x=\"269.797084\" xlink:href=\"#md62f9dfd54\" y=\"172.622876\"/>\r\n     <use style=\"fill:#0000ff;stroke:#0000ff;\" x=\"247.44963\" xlink:href=\"#md62f9dfd54\" y=\"148.379328\"/>\r\n     <use style=\"fill:#0000ff;stroke:#0000ff;\" x=\"280.970812\" xlink:href=\"#md62f9dfd54\" y=\"140.298145\"/>\r\n     <use style=\"fill:#0000ff;stroke:#0000ff;\" x=\"303.318267\" xlink:href=\"#md62f9dfd54\" y=\"132.216962\"/>\r\n     <use style=\"fill:#0000ff;stroke:#0000ff;\" x=\"325.665721\" xlink:href=\"#md62f9dfd54\" y=\"148.379328\"/>\r\n     <use style=\"fill:#0000ff;stroke:#0000ff;\" x=\"314.491994\" xlink:href=\"#md62f9dfd54\" y=\"132.216962\"/>\r\n     <use style=\"fill:#0000ff;stroke:#0000ff;\" x=\"236.275902\" xlink:href=\"#md62f9dfd54\" y=\"140.298145\"/>\r\n     <use style=\"fill:#0000ff;stroke:#0000ff;\" x=\"202.75472\" xlink:href=\"#md62f9dfd54\" y=\"164.541693\"/>\r\n     <use style=\"fill:#0000ff;stroke:#0000ff;\" x=\"180.407265\" xlink:href=\"#md62f9dfd54\" y=\"180.704059\"/>\r\n     <use style=\"fill:#0000ff;stroke:#0000ff;\" x=\"180.407265\" xlink:href=\"#md62f9dfd54\" y=\"180.704059\"/>\r\n     <use style=\"fill:#0000ff;stroke:#0000ff;\" x=\"213.928448\" xlink:href=\"#md62f9dfd54\" y=\"156.46051\"/>\r\n     <use style=\"fill:#0000ff;stroke:#0000ff;\" x=\"236.275902\" xlink:href=\"#md62f9dfd54\" y=\"156.46051\"/>\r\n     <use style=\"fill:#0000ff;stroke:#0000ff;\" x=\"169.233538\" xlink:href=\"#md62f9dfd54\" y=\"132.216962\"/>\r\n     <use style=\"fill:#0000ff;stroke:#0000ff;\" x=\"236.275902\" xlink:href=\"#md62f9dfd54\" y=\"99.89223\"/>\r\n     <use style=\"fill:#0000ff;stroke:#0000ff;\" x=\"314.491994\" xlink:href=\"#md62f9dfd54\" y=\"124.135779\"/>\r\n     <use style=\"fill:#0000ff;stroke:#0000ff;\" x=\"269.797084\" xlink:href=\"#md62f9dfd54\" y=\"188.785242\"/>\r\n     <use style=\"fill:#0000ff;stroke:#0000ff;\" x=\"191.580993\" xlink:href=\"#md62f9dfd54\" y=\"132.216962\"/>\r\n     <use style=\"fill:#0000ff;stroke:#0000ff;\" x=\"180.407265\" xlink:href=\"#md62f9dfd54\" y=\"172.622876\"/>\r\n     <use style=\"fill:#0000ff;stroke:#0000ff;\" x=\"180.407265\" xlink:href=\"#md62f9dfd54\" y=\"164.541693\"/>\r\n     <use style=\"fill:#0000ff;stroke:#0000ff;\" x=\"247.44963\" xlink:href=\"#md62f9dfd54\" y=\"132.216962\"/>\r\n     <use style=\"fill:#0000ff;stroke:#0000ff;\" x=\"213.928448\" xlink:href=\"#md62f9dfd54\" y=\"164.541693\"/>\r\n     <use style=\"fill:#0000ff;stroke:#0000ff;\" x=\"124.538629\" xlink:href=\"#md62f9dfd54\" y=\"188.785242\"/>\r\n     <use style=\"fill:#0000ff;stroke:#0000ff;\" x=\"191.580993\" xlink:href=\"#md62f9dfd54\" y=\"156.46051\"/>\r\n     <use style=\"fill:#0000ff;stroke:#0000ff;\" x=\"202.75472\" xlink:href=\"#md62f9dfd54\" y=\"132.216962\"/>\r\n     <use style=\"fill:#0000ff;stroke:#0000ff;\" x=\"202.75472\" xlink:href=\"#md62f9dfd54\" y=\"140.298145\"/>\r\n     <use style=\"fill:#0000ff;stroke:#0000ff;\" x=\"258.623357\" xlink:href=\"#md62f9dfd54\" y=\"140.298145\"/>\r\n     <use style=\"fill:#0000ff;stroke:#0000ff;\" x=\"135.712356\" xlink:href=\"#md62f9dfd54\" y=\"172.622876\"/>\r\n     <use style=\"fill:#0000ff;stroke:#0000ff;\" x=\"202.75472\" xlink:href=\"#md62f9dfd54\" y=\"148.379328\"/>\r\n    </g>\r\n   </g>\r\n   <g id=\"matplotlib.axis_1\">\r\n    <g id=\"xtick_1\">\r\n     <g id=\"line2d_1\">\r\n      <defs>\r\n       <path d=\"M 0 0 \r\nL 0 3.5 \r\n\" id=\"m8f7fc79199\" style=\"stroke:#000000;stroke-width:0.8;\"/>\r\n      </defs>\r\n      <g>\r\n       <use style=\"stroke:#000000;stroke-width:0.8;\" x=\"68.669992\" xlink:href=\"#m8f7fc79199\" y=\"225.521812\"/>\r\n      </g>\r\n     </g>\r\n     <g id=\"text_1\">\r\n      <!-- 4.5 -->\r\n      <defs>\r\n       <path d=\"M 37.796875 64.3125 \r\nL 12.890625 25.390625 \r\nL 37.796875 25.390625 \r\nz\r\nM 35.203125 72.90625 \r\nL 47.609375 72.90625 \r\nL 47.609375 25.390625 \r\nL 58.015625 25.390625 \r\nL 58.015625 17.1875 \r\nL 47.609375 17.1875 \r\nL 47.609375 0 \r\nL 37.796875 0 \r\nL 37.796875 17.1875 \r\nL 4.890625 17.1875 \r\nL 4.890625 26.703125 \r\nz\r\n\" id=\"DejaVuSans-52\"/>\r\n       <path d=\"M 10.6875 12.40625 \r\nL 21 12.40625 \r\nL 21 0 \r\nL 10.6875 0 \r\nz\r\n\" id=\"DejaVuSans-46\"/>\r\n       <path d=\"M 10.796875 72.90625 \r\nL 49.515625 72.90625 \r\nL 49.515625 64.59375 \r\nL 19.828125 64.59375 \r\nL 19.828125 46.734375 \r\nQ 21.96875 47.46875 24.109375 47.828125 \r\nQ 26.265625 48.1875 28.421875 48.1875 \r\nQ 40.625 48.1875 47.75 41.5 \r\nQ 54.890625 34.8125 54.890625 23.390625 \r\nQ 54.890625 11.625 47.5625 5.09375 \r\nQ 40.234375 -1.421875 26.90625 -1.421875 \r\nQ 22.3125 -1.421875 17.546875 -0.640625 \r\nQ 12.796875 0.140625 7.71875 1.703125 \r\nL 7.71875 11.625 \r\nQ 12.109375 9.234375 16.796875 8.0625 \r\nQ 21.484375 6.890625 26.703125 6.890625 \r\nQ 35.15625 6.890625 40.078125 11.328125 \r\nQ 45.015625 15.765625 45.015625 23.390625 \r\nQ 45.015625 31 40.078125 35.4375 \r\nQ 35.15625 39.890625 26.703125 39.890625 \r\nQ 22.75 39.890625 18.8125 39.015625 \r\nQ 14.890625 38.140625 10.796875 36.28125 \r\nz\r\n\" id=\"DejaVuSans-53\"/>\r\n      </defs>\r\n      <g transform=\"translate(60.718429 240.120249)scale(0.1 -0.1)\">\r\n       <use xlink:href=\"#DejaVuSans-52\"/>\r\n       <use x=\"63.623047\" xlink:href=\"#DejaVuSans-46\"/>\r\n       <use x=\"95.410156\" xlink:href=\"#DejaVuSans-53\"/>\r\n      </g>\r\n     </g>\r\n    </g>\r\n    <g id=\"xtick_2\">\r\n     <g id=\"line2d_2\">\r\n      <g>\r\n       <use style=\"stroke:#000000;stroke-width:0.8;\" x=\"124.538629\" xlink:href=\"#m8f7fc79199\" y=\"225.521812\"/>\r\n      </g>\r\n     </g>\r\n     <g id=\"text_2\">\r\n      <!-- 5.0 -->\r\n      <defs>\r\n       <path d=\"M 31.78125 66.40625 \r\nQ 24.171875 66.40625 20.328125 58.90625 \r\nQ 16.5 51.421875 16.5 36.375 \r\nQ 16.5 21.390625 20.328125 13.890625 \r\nQ 24.171875 6.390625 31.78125 6.390625 \r\nQ 39.453125 6.390625 43.28125 13.890625 \r\nQ 47.125 21.390625 47.125 36.375 \r\nQ 47.125 51.421875 43.28125 58.90625 \r\nQ 39.453125 66.40625 31.78125 66.40625 \r\nz\r\nM 31.78125 74.21875 \r\nQ 44.046875 74.21875 50.515625 64.515625 \r\nQ 56.984375 54.828125 56.984375 36.375 \r\nQ 56.984375 17.96875 50.515625 8.265625 \r\nQ 44.046875 -1.421875 31.78125 -1.421875 \r\nQ 19.53125 -1.421875 13.0625 8.265625 \r\nQ 6.59375 17.96875 6.59375 36.375 \r\nQ 6.59375 54.828125 13.0625 64.515625 \r\nQ 19.53125 74.21875 31.78125 74.21875 \r\nz\r\n\" id=\"DejaVuSans-48\"/>\r\n      </defs>\r\n      <g transform=\"translate(116.587066 240.120249)scale(0.1 -0.1)\">\r\n       <use xlink:href=\"#DejaVuSans-53\"/>\r\n       <use x=\"63.623047\" xlink:href=\"#DejaVuSans-46\"/>\r\n       <use x=\"95.410156\" xlink:href=\"#DejaVuSans-48\"/>\r\n      </g>\r\n     </g>\r\n    </g>\r\n    <g id=\"xtick_3\">\r\n     <g id=\"line2d_3\">\r\n      <g>\r\n       <use style=\"stroke:#000000;stroke-width:0.8;\" x=\"180.407265\" xlink:href=\"#m8f7fc79199\" y=\"225.521812\"/>\r\n      </g>\r\n     </g>\r\n     <g id=\"text_3\">\r\n      <!-- 5.5 -->\r\n      <g transform=\"translate(172.455703 240.120249)scale(0.1 -0.1)\">\r\n       <use xlink:href=\"#DejaVuSans-53\"/>\r\n       <use x=\"63.623047\" xlink:href=\"#DejaVuSans-46\"/>\r\n       <use x=\"95.410156\" xlink:href=\"#DejaVuSans-53\"/>\r\n      </g>\r\n     </g>\r\n    </g>\r\n    <g id=\"xtick_4\">\r\n     <g id=\"line2d_4\">\r\n      <g>\r\n       <use style=\"stroke:#000000;stroke-width:0.8;\" x=\"236.275902\" xlink:href=\"#m8f7fc79199\" y=\"225.521812\"/>\r\n      </g>\r\n     </g>\r\n     <g id=\"text_4\">\r\n      <!-- 6.0 -->\r\n      <defs>\r\n       <path d=\"M 33.015625 40.375 \r\nQ 26.375 40.375 22.484375 35.828125 \r\nQ 18.609375 31.296875 18.609375 23.390625 \r\nQ 18.609375 15.53125 22.484375 10.953125 \r\nQ 26.375 6.390625 33.015625 6.390625 \r\nQ 39.65625 6.390625 43.53125 10.953125 \r\nQ 47.40625 15.53125 47.40625 23.390625 \r\nQ 47.40625 31.296875 43.53125 35.828125 \r\nQ 39.65625 40.375 33.015625 40.375 \r\nz\r\nM 52.59375 71.296875 \r\nL 52.59375 62.3125 \r\nQ 48.875 64.0625 45.09375 64.984375 \r\nQ 41.3125 65.921875 37.59375 65.921875 \r\nQ 27.828125 65.921875 22.671875 59.328125 \r\nQ 17.53125 52.734375 16.796875 39.40625 \r\nQ 19.671875 43.65625 24.015625 45.921875 \r\nQ 28.375 48.1875 33.59375 48.1875 \r\nQ 44.578125 48.1875 50.953125 41.515625 \r\nQ 57.328125 34.859375 57.328125 23.390625 \r\nQ 57.328125 12.15625 50.6875 5.359375 \r\nQ 44.046875 -1.421875 33.015625 -1.421875 \r\nQ 20.359375 -1.421875 13.671875 8.265625 \r\nQ 6.984375 17.96875 6.984375 36.375 \r\nQ 6.984375 53.65625 15.1875 63.9375 \r\nQ 23.390625 74.21875 37.203125 74.21875 \r\nQ 40.921875 74.21875 44.703125 73.484375 \r\nQ 48.484375 72.75 52.59375 71.296875 \r\nz\r\n\" id=\"DejaVuSans-54\"/>\r\n      </defs>\r\n      <g transform=\"translate(228.32434 240.120249)scale(0.1 -0.1)\">\r\n       <use xlink:href=\"#DejaVuSans-54\"/>\r\n       <use x=\"63.623047\" xlink:href=\"#DejaVuSans-46\"/>\r\n       <use x=\"95.410156\" xlink:href=\"#DejaVuSans-48\"/>\r\n      </g>\r\n     </g>\r\n    </g>\r\n    <g id=\"xtick_5\">\r\n     <g id=\"line2d_5\">\r\n      <g>\r\n       <use style=\"stroke:#000000;stroke-width:0.8;\" x=\"292.144539\" xlink:href=\"#m8f7fc79199\" y=\"225.521812\"/>\r\n      </g>\r\n     </g>\r\n     <g id=\"text_5\">\r\n      <!-- 6.5 -->\r\n      <g transform=\"translate(284.192977 240.120249)scale(0.1 -0.1)\">\r\n       <use xlink:href=\"#DejaVuSans-54\"/>\r\n       <use x=\"63.623047\" xlink:href=\"#DejaVuSans-46\"/>\r\n       <use x=\"95.410156\" xlink:href=\"#DejaVuSans-53\"/>\r\n      </g>\r\n     </g>\r\n    </g>\r\n    <g id=\"xtick_6\">\r\n     <g id=\"line2d_6\">\r\n      <g>\r\n       <use style=\"stroke:#000000;stroke-width:0.8;\" x=\"348.013176\" xlink:href=\"#m8f7fc79199\" y=\"225.521812\"/>\r\n      </g>\r\n     </g>\r\n     <g id=\"text_6\">\r\n      <!-- 7.0 -->\r\n      <defs>\r\n       <path d=\"M 8.203125 72.90625 \r\nL 55.078125 72.90625 \r\nL 55.078125 68.703125 \r\nL 28.609375 0 \r\nL 18.3125 0 \r\nL 43.21875 64.59375 \r\nL 8.203125 64.59375 \r\nz\r\n\" id=\"DejaVuSans-55\"/>\r\n      </defs>\r\n      <g transform=\"translate(340.061614 240.120249)scale(0.1 -0.1)\">\r\n       <use xlink:href=\"#DejaVuSans-55\"/>\r\n       <use x=\"63.623047\" xlink:href=\"#DejaVuSans-46\"/>\r\n       <use x=\"95.410156\" xlink:href=\"#DejaVuSans-48\"/>\r\n      </g>\r\n     </g>\r\n    </g>\r\n   </g>\r\n   <g id=\"matplotlib.axis_2\">\r\n    <g id=\"ytick_1\">\r\n     <g id=\"line2d_7\">\r\n      <defs>\r\n       <path d=\"M 0 0 \r\nL -3.5 0 \r\n\" id=\"md5b55afc1e\" style=\"stroke:#000000;stroke-width:0.8;\"/>\r\n      </defs>\r\n      <g>\r\n       <use style=\"stroke:#000000;stroke-width:0.8;\" x=\"30.103125\" xlink:href=\"#md5b55afc1e\" y=\"213.02879\"/>\r\n      </g>\r\n     </g>\r\n     <g id=\"text_7\">\r\n      <!-- 2.0 -->\r\n      <defs>\r\n       <path d=\"M 19.1875 8.296875 \r\nL 53.609375 8.296875 \r\nL 53.609375 0 \r\nL 7.328125 0 \r\nL 7.328125 8.296875 \r\nQ 12.9375 14.109375 22.625 23.890625 \r\nQ 32.328125 33.6875 34.8125 36.53125 \r\nQ 39.546875 41.84375 41.421875 45.53125 \r\nQ 43.3125 49.21875 43.3125 52.78125 \r\nQ 43.3125 58.59375 39.234375 62.25 \r\nQ 35.15625 65.921875 28.609375 65.921875 \r\nQ 23.96875 65.921875 18.8125 64.3125 \r\nQ 13.671875 62.703125 7.8125 59.421875 \r\nL 7.8125 69.390625 \r\nQ 13.765625 71.78125 18.9375 73 \r\nQ 24.125 74.21875 28.421875 74.21875 \r\nQ 39.75 74.21875 46.484375 68.546875 \r\nQ 53.21875 62.890625 53.21875 53.421875 \r\nQ 53.21875 48.921875 51.53125 44.890625 \r\nQ 49.859375 40.875 45.40625 35.40625 \r\nQ 44.1875 33.984375 37.640625 27.21875 \r\nQ 31.109375 20.453125 19.1875 8.296875 \r\nz\r\n\" id=\"DejaVuSans-50\"/>\r\n      </defs>\r\n      <g transform=\"translate(7.2 216.828009)scale(0.1 -0.1)\">\r\n       <use xlink:href=\"#DejaVuSans-50\"/>\r\n       <use x=\"63.623047\" xlink:href=\"#DejaVuSans-46\"/>\r\n       <use x=\"95.410156\" xlink:href=\"#DejaVuSans-48\"/>\r\n      </g>\r\n     </g>\r\n    </g>\r\n    <g id=\"ytick_2\">\r\n     <g id=\"line2d_8\">\r\n      <g>\r\n       <use style=\"stroke:#000000;stroke-width:0.8;\" x=\"30.103125\" xlink:href=\"#md5b55afc1e\" y=\"172.622876\"/>\r\n      </g>\r\n     </g>\r\n     <g id=\"text_8\">\r\n      <!-- 2.5 -->\r\n      <g transform=\"translate(7.2 176.422095)scale(0.1 -0.1)\">\r\n       <use xlink:href=\"#DejaVuSans-50\"/>\r\n       <use x=\"63.623047\" xlink:href=\"#DejaVuSans-46\"/>\r\n       <use x=\"95.410156\" xlink:href=\"#DejaVuSans-53\"/>\r\n      </g>\r\n     </g>\r\n    </g>\r\n    <g id=\"ytick_3\">\r\n     <g id=\"line2d_9\">\r\n      <g>\r\n       <use style=\"stroke:#000000;stroke-width:0.8;\" x=\"30.103125\" xlink:href=\"#md5b55afc1e\" y=\"132.216962\"/>\r\n      </g>\r\n     </g>\r\n     <g id=\"text_9\">\r\n      <!-- 3.0 -->\r\n      <defs>\r\n       <path d=\"M 40.578125 39.3125 \r\nQ 47.65625 37.796875 51.625 33 \r\nQ 55.609375 28.21875 55.609375 21.1875 \r\nQ 55.609375 10.40625 48.1875 4.484375 \r\nQ 40.765625 -1.421875 27.09375 -1.421875 \r\nQ 22.515625 -1.421875 17.65625 -0.515625 \r\nQ 12.796875 0.390625 7.625 2.203125 \r\nL 7.625 11.71875 \r\nQ 11.71875 9.328125 16.59375 8.109375 \r\nQ 21.484375 6.890625 26.8125 6.890625 \r\nQ 36.078125 6.890625 40.9375 10.546875 \r\nQ 45.796875 14.203125 45.796875 21.1875 \r\nQ 45.796875 27.640625 41.28125 31.265625 \r\nQ 36.765625 34.90625 28.71875 34.90625 \r\nL 20.21875 34.90625 \r\nL 20.21875 43.015625 \r\nL 29.109375 43.015625 \r\nQ 36.375 43.015625 40.234375 45.921875 \r\nQ 44.09375 48.828125 44.09375 54.296875 \r\nQ 44.09375 59.90625 40.109375 62.90625 \r\nQ 36.140625 65.921875 28.71875 65.921875 \r\nQ 24.65625 65.921875 20.015625 65.03125 \r\nQ 15.375 64.15625 9.8125 62.3125 \r\nL 9.8125 71.09375 \r\nQ 15.4375 72.65625 20.34375 73.4375 \r\nQ 25.25 74.21875 29.59375 74.21875 \r\nQ 40.828125 74.21875 47.359375 69.109375 \r\nQ 53.90625 64.015625 53.90625 55.328125 \r\nQ 53.90625 49.265625 50.4375 45.09375 \r\nQ 46.96875 40.921875 40.578125 39.3125 \r\nz\r\n\" id=\"DejaVuSans-51\"/>\r\n      </defs>\r\n      <g transform=\"translate(7.2 136.016181)scale(0.1 -0.1)\">\r\n       <use xlink:href=\"#DejaVuSans-51\"/>\r\n       <use x=\"63.623047\" xlink:href=\"#DejaVuSans-46\"/>\r\n       <use x=\"95.410156\" xlink:href=\"#DejaVuSans-48\"/>\r\n      </g>\r\n     </g>\r\n    </g>\r\n    <g id=\"ytick_4\">\r\n     <g id=\"line2d_10\">\r\n      <g>\r\n       <use style=\"stroke:#000000;stroke-width:0.8;\" x=\"30.103125\" xlink:href=\"#md5b55afc1e\" y=\"91.811047\"/>\r\n      </g>\r\n     </g>\r\n     <g id=\"text_10\">\r\n      <!-- 3.5 -->\r\n      <g transform=\"translate(7.2 95.610266)scale(0.1 -0.1)\">\r\n       <use xlink:href=\"#DejaVuSans-51\"/>\r\n       <use x=\"63.623047\" xlink:href=\"#DejaVuSans-46\"/>\r\n       <use x=\"95.410156\" xlink:href=\"#DejaVuSans-53\"/>\r\n      </g>\r\n     </g>\r\n    </g>\r\n    <g id=\"ytick_5\">\r\n     <g id=\"line2d_11\">\r\n      <g>\r\n       <use style=\"stroke:#000000;stroke-width:0.8;\" x=\"30.103125\" xlink:href=\"#md5b55afc1e\" y=\"51.405133\"/>\r\n      </g>\r\n     </g>\r\n     <g id=\"text_11\">\r\n      <!-- 4.0 -->\r\n      <g transform=\"translate(7.2 55.204352)scale(0.1 -0.1)\">\r\n       <use xlink:href=\"#DejaVuSans-52\"/>\r\n       <use x=\"63.623047\" xlink:href=\"#DejaVuSans-46\"/>\r\n       <use x=\"95.410156\" xlink:href=\"#DejaVuSans-48\"/>\r\n      </g>\r\n     </g>\r\n    </g>\r\n    <g id=\"ytick_6\">\r\n     <g id=\"line2d_12\">\r\n      <g>\r\n       <use style=\"stroke:#000000;stroke-width:0.8;\" x=\"30.103125\" xlink:href=\"#md5b55afc1e\" y=\"10.999219\"/>\r\n      </g>\r\n     </g>\r\n     <g id=\"text_12\">\r\n      <!-- 4.5 -->\r\n      <g transform=\"translate(7.2 14.798437)scale(0.1 -0.1)\">\r\n       <use xlink:href=\"#DejaVuSans-52\"/>\r\n       <use x=\"63.623047\" xlink:href=\"#DejaVuSans-46\"/>\r\n       <use x=\"95.410156\" xlink:href=\"#DejaVuSans-53\"/>\r\n      </g>\r\n     </g>\r\n    </g>\r\n   </g>\r\n   <g id=\"patch_3\">\r\n    <path d=\"M 30.103125 225.521812 \r\nL 30.103125 8.081812 \r\n\" style=\"fill:none;stroke:#000000;stroke-linecap:square;stroke-linejoin:miter;stroke-width:0.8;\"/>\r\n   </g>\r\n   <g id=\"patch_4\">\r\n    <path d=\"M 364.903125 225.521812 \r\nL 364.903125 8.081812 \r\n\" style=\"fill:none;stroke:#000000;stroke-linecap:square;stroke-linejoin:miter;stroke-width:0.8;\"/>\r\n   </g>\r\n   <g id=\"patch_5\">\r\n    <path d=\"M 30.103125 225.521812 \r\nL 364.903125 225.521812 \r\n\" style=\"fill:none;stroke:#000000;stroke-linecap:square;stroke-linejoin:miter;stroke-width:0.8;\"/>\r\n   </g>\r\n   <g id=\"patch_6\">\r\n    <path d=\"M 30.103125 8.081812 \r\nL 364.903125 8.081812 \r\n\" style=\"fill:none;stroke:#000000;stroke-linecap:square;stroke-linejoin:miter;stroke-width:0.8;\"/>\r\n   </g>\r\n  </g>\r\n </g>\r\n <defs>\r\n  <clipPath id=\"p2b11beb40e\">\r\n   <rect height=\"217.44\" width=\"334.8\" x=\"30.103125\" y=\"8.081812\"/>\r\n  </clipPath>\r\n </defs>\r\n</svg>\r\n",
      "image/png": "[encoded data removed]"
     },
     "metadata": {
      "needs_background": "light"
     }
    }
   ],
   "source": [
    "plt.scatter(X[y==0,0], X[y==0,1], color=\"red\")\n",
    "plt.scatter(X[y==1,0], X[y==1,1], color=\"blue\")\n",
    "plt.show()"
   ]
  },
  {
   "cell_type": "markdown",
   "metadata": {},
   "source": [
    "### 使用逻辑回归"
   ]
  },
  {
   "cell_type": "code",
   "execution_count": 22,
   "metadata": {
    "collapsed": true
   },
   "outputs": [],
   "source": [
    "from playML.model_selection import train_test_split\n",
    "\n",
    "X_train, X_test, y_train, y_test = train_test_split(X, y, seed=666)"
   ]
  },
  {
   "cell_type": "code",
   "execution_count": 23,
   "metadata": {},
   "outputs": [
    {
     "output_type": "execute_result",
     "data": {
      "text/plain": "LogisticRegression()"
     },
     "metadata": {},
     "execution_count": 23
    }
   ],
   "source": [
    "from playML.LogisticRegression import LogisticRegression\n",
    "\n",
    "log_reg = LogisticRegression()\n",
    "log_reg.fit(X_train, y_train)"
   ]
  },
  {
   "cell_type": "code",
   "execution_count": 24,
   "metadata": {},
   "outputs": [
    {
     "output_type": "execute_result",
     "data": {
      "text/plain": "1.0"
     },
     "metadata": {},
     "execution_count": 24
    }
   ],
   "source": [
    "log_reg.score(X_test, y_test)"
   ]
  },
  {
   "cell_type": "code",
   "execution_count": 25,
   "metadata": {
    "scrolled": true
   },
   "outputs": [
    {
     "output_type": "execute_result",
     "data": {
      "text/plain": "array([0.92972035, 0.98664939, 0.14852024, 0.01685947, 0.0369836 ,\n       0.0186637 , 0.04936918, 0.99669244, 0.97993941, 0.74524655,\n       0.04473194, 0.00339285, 0.26131273, 0.0369836 , 0.84192923,\n       0.79892262, 0.82890209, 0.32358166, 0.06535323, 0.20735334])"
     },
     "metadata": {},
     "execution_count": 25
    }
   ],
   "source": [
    "log_reg.predict_proba(X_test)"
   ]
  },
  {
   "cell_type": "code",
   "execution_count": 26,
   "metadata": {},
   "outputs": [
    {
     "output_type": "execute_result",
     "data": {
      "text/plain": "array([1, 1, 0, 0, 0, 0, 0, 1, 1, 1, 0, 0, 0, 0, 1, 1, 1, 0, 0, 0])"
     },
     "metadata": {},
     "execution_count": 26
    }
   ],
   "source": [
    "log_reg.predict(X_test)"
   ]
  },
  {
   "cell_type": "code",
   "execution_count": 27,
   "metadata": {},
   "outputs": [
    {
     "output_type": "execute_result",
     "data": {
      "text/plain": "array([1, 1, 0, 0, 0, 0, 0, 1, 1, 1, 0, 0, 0, 0, 1, 1, 1, 0, 0, 0])"
     },
     "metadata": {},
     "execution_count": 27
    }
   ],
   "source": [
    "y_test"
   ]
  },
  {
   "cell_type": "code",
   "execution_count": null,
   "metadata": {},
   "outputs": [],
   "source": []
  }
 ],
 "metadata": {
  "kernelspec": {
   "display_name": "Python 3.6.8 64-bit ('anaconda': conda)",
   "language": "python",
   "name": "python36864bitanacondaconda085db2e8b14649f4b32196068f7124e9"
  },
  "language_info": {
   "codemirror_mode": {
    "name": "ipython",
    "version": 3
   },
   "file_extension": ".py",
   "mimetype": "text/x-python",
   "name": "python",
   "nbconvert_exporter": "python",
   "pygments_lexer": "ipython3",
   "version": "3.7.7-final"
  }
 },
 "nbformat": 4,
 "nbformat_minor": 2
}