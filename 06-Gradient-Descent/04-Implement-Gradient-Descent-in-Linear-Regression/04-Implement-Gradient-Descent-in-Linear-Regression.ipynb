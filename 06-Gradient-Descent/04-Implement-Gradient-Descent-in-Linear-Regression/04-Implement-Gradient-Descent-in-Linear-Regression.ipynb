{
 "cells": [
  {
   "cell_type": "markdown",
   "metadata": {},
   "source": [
    "## 在线性回归模型中使用梯度下降法"
   ]
  },
  {
   "cell_type": "code",
   "execution_count": 1,
   "metadata": {
    "collapsed": true
   },
   "outputs": [],
   "source": [
    "import numpy as np\n",
    "import matplotlib.pyplot as plt"
   ]
  },
  {
   "cell_type": "code",
   "execution_count": 2,
   "metadata": {
    "collapsed": true
   },
   "outputs": [],
   "source": [
    "np.random.seed(666)\n",
    "x = 2 * np.random.random(size=100)\n",
    "y = x * 3. + 4. + np.random.normal(size=100)"
   ]
  },
  {
   "cell_type": "code",
   "execution_count": 15,
   "metadata": {
    "collapsed": true
   },
   "outputs": [
    {
     "output_type": "stream",
     "name": "stdout",
     "text": "(100, 1)\n(100,)\n"
    }
   ],
   "source": [
    "# 行是样本数，列是变量数\n",
    "# 行是无法掌握的(取决于数据)，列是可以掌握的(取决于需要计算的特征个数)\n",
    "X = x.reshape(-1, 1)\n",
    "print(X.shape)\n",
    "print(y.shape)"
   ]
  },
  {
   "cell_type": "code",
   "execution_count": 4,
   "metadata": {},
   "outputs": [
    {
     "output_type": "execute_result",
     "data": {
      "text/plain": "array([[1.40087424],\n       [1.68837329],\n       [1.35302867],\n       [1.45571611],\n       [1.90291591],\n       [0.02540639],\n       [0.8271754 ],\n       [0.09762559],\n       [0.19985712],\n       [1.01613261],\n       [0.40049508],\n       [1.48830834],\n       [0.38578401],\n       [1.4016895 ],\n       [0.58645621],\n       [1.54895891],\n       [0.01021768],\n       [0.22571531],\n       [0.22190734],\n       [0.49533646]])"
     },
     "metadata": {},
     "execution_count": 4
    }
   ],
   "source": [
    "X[:20]"
   ]
  },
  {
   "cell_type": "code",
   "execution_count": 5,
   "metadata": {},
   "outputs": [
    {
     "output_type": "execute_result",
     "data": {
      "text/plain": "array([8.91412688, 8.89446981, 8.85921604, 9.04490343, 8.75831915,\n       4.01914255, 6.84103696, 4.81582242, 3.68561238, 6.46344854,\n       4.61756153, 8.45774339, 3.21438541, 7.98486624, 4.18885101,\n       8.46060979, 4.29706975, 4.06803046, 3.58490782, 7.0558176 ])"
     },
     "metadata": {},
     "execution_count": 5
    }
   ],
   "source": [
    "y[:20]"
   ]
  },
  {
   "cell_type": "code",
   "execution_count": 6,
   "metadata": {},
   "outputs": [
    {
     "output_type": "display_data",
     "data": {
      "text/plain": "<Figure size 432x288 with 1 Axes>",
      "image/svg+xml": "<?xml version=\"1.0\" encoding=\"utf-8\" standalone=\"no\"?>\r\n<!DOCTYPE svg PUBLIC \"-//W3C//DTD SVG 1.1//EN\"\r\n  \"http://www.w3.org/Graphics/SVG/1.1/DTD/svg11.dtd\">\r\n<!-- Created with matplotlib (https://matplotlib.org/) -->\r\n<svg height=\"248.518125pt\" version=\"1.1\" viewBox=\"0 0 368.925 248.518125\" width=\"368.925pt\" xmlns=\"http://www.w3.org/2000/svg\" xmlns:xlink=\"http://www.w3.org/1999/xlink\">\r\n <defs>\r\n  <style type=\"text/css\">\r\n*{stroke-linecap:butt;stroke-linejoin:round;}\r\n  </style>\r\n </defs>\r\n <g id=\"figure_1\">\r\n  <g id=\"patch_1\">\r\n   <path d=\"M -0 248.518125 \r\nL 368.925 248.518125 \r\nL 368.925 0 \r\nL -0 0 \r\nz\r\n\" style=\"fill:none;\"/>\r\n  </g>\r\n  <g id=\"axes_1\">\r\n   <g id=\"patch_2\">\r\n    <path d=\"M 26.925 224.64 \r\nL 361.725 224.64 \r\nL 361.725 7.2 \r\nL 26.925 7.2 \r\nz\r\n\" style=\"fill:#ffffff;\"/>\r\n   </g>\r\n   <g id=\"PathCollection_1\">\r\n    <defs>\r\n     <path d=\"M 0 3 \r\nC 0.795609 3 1.55874 2.683901 2.12132 2.12132 \r\nC 2.683901 1.55874 3 0.795609 3 0 \r\nC 3 -0.795609 2.683901 -1.55874 2.12132 -2.12132 \r\nC 1.55874 -2.683901 0.795609 -3 0 -3 \r\nC -0.795609 -3 -1.55874 -2.683901 -2.12132 -2.12132 \r\nC -2.683901 -1.55874 -3 -0.795609 -3 0 \r\nC -3 0.795609 -2.683901 1.55874 -2.12132 2.12132 \r\nC -1.55874 2.683901 -0.795609 3 0 3 \r\nz\r\n\" id=\"m008e64ffda\" style=\"stroke:#1f77b4;\"/>\r\n    </defs>\r\n    <g clip-path=\"url(#p10b7f1d9a4)\">\r\n     <use style=\"fill:#1f77b4;stroke:#1f77b4;\" x=\"254.687077\" xlink:href=\"#m008e64ffda\" y=\"74.902887\"/>\r\n     <use style=\"fill:#1f77b4;stroke:#1f77b4;\" x=\"298.271603\" xlink:href=\"#m008e64ffda\" y=\"75.335087\"/>\r\n     <use style=\"fill:#1f77b4;stroke:#1f77b4;\" x=\"247.433742\" xlink:href=\"#m008e64ffda\" y=\"76.110212\"/>\r\n     <use style=\"fill:#1f77b4;stroke:#1f77b4;\" x=\"263.001042\" xlink:href=\"#m008e64ffda\" y=\"72.027501\"/>\r\n     <use style=\"fill:#1f77b4;stroke:#1f77b4;\" x=\"330.796021\" xlink:href=\"#m008e64ffda\" y=\"78.328634\"/>\r\n     <use style=\"fill:#1f77b4;stroke:#1f77b4;\" x=\"46.167719\" xlink:href=\"#m008e64ffda\" y=\"182.528988\"/>\r\n     <use style=\"fill:#1f77b4;stroke:#1f77b4;\" x=\"167.714986\" xlink:href=\"#m008e64ffda\" y=\"120.483949\"/>\r\n     <use style=\"fill:#1f77b4;stroke:#1f77b4;\" x=\"57.116067\" xlink:href=\"#m008e64ffda\" y=\"165.012375\"/>\r\n     <use style=\"fill:#1f77b4;stroke:#1f77b4;\" x=\"72.614251\" xlink:href=\"#m008e64ffda\" y=\"189.862321\"/>\r\n     <use style=\"fill:#1f77b4;stroke:#1f77b4;\" x=\"196.360684\" xlink:href=\"#m008e64ffda\" y=\"128.785992\"/>\r\n     <use style=\"fill:#1f77b4;stroke:#1f77b4;\" x=\"103.030736\" xlink:href=\"#m008e64ffda\" y=\"169.37154\"/>\r\n     <use style=\"fill:#1f77b4;stroke:#1f77b4;\" x=\"267.941985\" xlink:href=\"#m008e64ffda\" y=\"84.937398\"/>\r\n     <use style=\"fill:#1f77b4;stroke:#1f77b4;\" x=\"100.800554\" xlink:href=\"#m008e64ffda\" y=\"200.223196\"/>\r\n     <use style=\"fill:#1f77b4;stroke:#1f77b4;\" x=\"254.810669\" xlink:href=\"#m008e64ffda\" y=\"95.334556\"/>\r\n     <use style=\"fill:#1f77b4;stroke:#1f77b4;\" x=\"131.222232\" xlink:href=\"#m008e64ffda\" y=\"178.797605\"/>\r\n     <use style=\"fill:#1f77b4;stroke:#1f77b4;\" x=\"277.136543\" xlink:href=\"#m008e64ffda\" y=\"84.874375\"/>\r\n     <use style=\"fill:#1f77b4;stroke:#1f77b4;\" x=\"43.865127\" xlink:href=\"#m008e64ffda\" y=\"176.418198\"/>\r\n     <use style=\"fill:#1f77b4;stroke:#1f77b4;\" x=\"76.534322\" xlink:href=\"#m008e64ffda\" y=\"181.454089\"/>\r\n     <use style=\"fill:#1f77b4;stroke:#1f77b4;\" x=\"75.957039\" xlink:href=\"#m008e64ffda\" y=\"192.076514\"/>\r\n     <use style=\"fill:#1f77b4;stroke:#1f77b4;\" x=\"117.408581\" xlink:href=\"#m008e64ffda\" y=\"115.761564\"/>\r\n     <use style=\"fill:#1f77b4;stroke:#1f77b4;\" x=\"49.361332\" xlink:href=\"#m008e64ffda\" y=\"181.897302\"/>\r\n     <use style=\"fill:#1f77b4;stroke:#1f77b4;\" x=\"262.838254\" xlink:href=\"#m008e64ffda\" y=\"106.720996\"/>\r\n     <use style=\"fill:#1f77b4;stroke:#1f77b4;\" x=\"145.413958\" xlink:href=\"#m008e64ffda\" y=\"113.172633\"/>\r\n     <use style=\"fill:#1f77b4;stroke:#1f77b4;\" x=\"102.198645\" xlink:href=\"#m008e64ffda\" y=\"119.032167\"/>\r\n     <use style=\"fill:#1f77b4;stroke:#1f77b4;\" x=\"317.977318\" xlink:href=\"#m008e64ffda\" y=\"49.610587\"/>\r\n     <use style=\"fill:#1f77b4;stroke:#1f77b4;\" x=\"338.948713\" xlink:href=\"#m008e64ffda\" y=\"40.904221\"/>\r\n     <use style=\"fill:#1f77b4;stroke:#1f77b4;\" x=\"203.860655\" xlink:href=\"#m008e64ffda\" y=\"126.622021\"/>\r\n     <use style=\"fill:#1f77b4;stroke:#1f77b4;\" x=\"120.884324\" xlink:href=\"#m008e64ffda\" y=\"107.805274\"/>\r\n     <use style=\"fill:#1f77b4;stroke:#1f77b4;\" x=\"219.326793\" xlink:href=\"#m008e64ffda\" y=\"125.056668\"/>\r\n     <use style=\"fill:#1f77b4;stroke:#1f77b4;\" x=\"141.064802\" xlink:href=\"#m008e64ffda\" y=\"157.233278\"/>\r\n     <use style=\"fill:#1f77b4;stroke:#1f77b4;\" x=\"311.828383\" xlink:href=\"#m008e64ffda\" y=\"74.648664\"/>\r\n     <use style=\"fill:#1f77b4;stroke:#1f77b4;\" x=\"232.240563\" xlink:href=\"#m008e64ffda\" y=\"77.160926\"/>\r\n     <use style=\"fill:#1f77b4;stroke:#1f77b4;\" x=\"290.596774\" xlink:href=\"#m008e64ffda\" y=\"88.95596\"/>\r\n     <use style=\"fill:#1f77b4;stroke:#1f77b4;\" x=\"208.270022\" xlink:href=\"#m008e64ffda\" y=\"60.71717\"/>\r\n     <use style=\"fill:#1f77b4;stroke:#1f77b4;\" x=\"168.662269\" xlink:href=\"#m008e64ffda\" y=\"88.017922\"/>\r\n     <use style=\"fill:#1f77b4;stroke:#1f77b4;\" x=\"267.606353\" xlink:href=\"#m008e64ffda\" y=\"86.29622\"/>\r\n     <use style=\"fill:#1f77b4;stroke:#1f77b4;\" x=\"154.376918\" xlink:href=\"#m008e64ffda\" y=\"128.664389\"/>\r\n     <use style=\"fill:#1f77b4;stroke:#1f77b4;\" x=\"65.106463\" xlink:href=\"#m008e64ffda\" y=\"171.207127\"/>\r\n     <use style=\"fill:#1f77b4;stroke:#1f77b4;\" x=\"277.352882\" xlink:href=\"#m008e64ffda\" y=\"72.714715\"/>\r\n     <use style=\"fill:#1f77b4;stroke:#1f77b4;\" x=\"108.840521\" xlink:href=\"#m008e64ffda\" y=\"155.876851\"/>\r\n     <use style=\"fill:#1f77b4;stroke:#1f77b4;\" x=\"66.372491\" xlink:href=\"#m008e64ffda\" y=\"153.054558\"/>\r\n     <use style=\"fill:#1f77b4;stroke:#1f77b4;\" x=\"189.906883\" xlink:href=\"#m008e64ffda\" y=\"162.532962\"/>\r\n     <use style=\"fill:#1f77b4;stroke:#1f77b4;\" x=\"88.909715\" xlink:href=\"#m008e64ffda\" y=\"163.997583\"/>\r\n     <use style=\"fill:#1f77b4;stroke:#1f77b4;\" x=\"293.504878\" xlink:href=\"#m008e64ffda\" y=\"90.872913\"/>\r\n     <use style=\"fill:#1f77b4;stroke:#1f77b4;\" x=\"100.338652\" xlink:href=\"#m008e64ffda\" y=\"193.182898\"/>\r\n     <use style=\"fill:#1f77b4;stroke:#1f77b4;\" x=\"124.303517\" xlink:href=\"#m008e64ffda\" y=\"186.787634\"/>\r\n     <use style=\"fill:#1f77b4;stroke:#1f77b4;\" x=\"212.420496\" xlink:href=\"#m008e64ffda\" y=\"115.660721\"/>\r\n     <use style=\"fill:#1f77b4;stroke:#1f77b4;\" x=\"315.915815\" xlink:href=\"#m008e64ffda\" y=\"49.176381\"/>\r\n     <use style=\"fill:#1f77b4;stroke:#1f77b4;\" x=\"300.576421\" xlink:href=\"#m008e64ffda\" y=\"39.735586\"/>\r\n     <use style=\"fill:#1f77b4;stroke:#1f77b4;\" x=\"169.077636\" xlink:href=\"#m008e64ffda\" y=\"148.211758\"/>\r\n     <use style=\"fill:#1f77b4;stroke:#1f77b4;\" x=\"161.617246\" xlink:href=\"#m008e64ffda\" y=\"125.003845\"/>\r\n     <use style=\"fill:#1f77b4;stroke:#1f77b4;\" x=\"47.234161\" xlink:href=\"#m008e64ffda\" y=\"214.453011\"/>\r\n     <use style=\"fill:#1f77b4;stroke:#1f77b4;\" x=\"133.036951\" xlink:href=\"#m008e64ffda\" y=\"118.135075\"/>\r\n     <use style=\"fill:#1f77b4;stroke:#1f77b4;\" x=\"149.580888\" xlink:href=\"#m008e64ffda\" y=\"156.141747\"/>\r\n     <use style=\"fill:#1f77b4;stroke:#1f77b4;\" x=\"313.224109\" xlink:href=\"#m008e64ffda\" y=\"60.995715\"/>\r\n     <use style=\"fill:#1f77b4;stroke:#1f77b4;\" x=\"280.670954\" xlink:href=\"#m008e64ffda\" y=\"74.728574\"/>\r\n     <use style=\"fill:#1f77b4;stroke:#1f77b4;\" x=\"276.198895\" xlink:href=\"#m008e64ffda\" y=\"70.633155\"/>\r\n     <use style=\"fill:#1f77b4;stroke:#1f77b4;\" x=\"169.675813\" xlink:href=\"#m008e64ffda\" y=\"102.382183\"/>\r\n     <use style=\"fill:#1f77b4;stroke:#1f77b4;\" x=\"277.605191\" xlink:href=\"#m008e64ffda\" y=\"93.99114\"/>\r\n     <use style=\"fill:#1f77b4;stroke:#1f77b4;\" x=\"183.093309\" xlink:href=\"#m008e64ffda\" y=\"115.46533\"/>\r\n     <use style=\"fill:#1f77b4;stroke:#1f77b4;\" x=\"97.428438\" xlink:href=\"#m008e64ffda\" y=\"127.483655\"/>\r\n     <use style=\"fill:#1f77b4;stroke:#1f77b4;\" x=\"310.350686\" xlink:href=\"#m008e64ffda\" y=\"75.382837\"/>\r\n     <use style=\"fill:#1f77b4;stroke:#1f77b4;\" x=\"260.252315\" xlink:href=\"#m008e64ffda\" y=\"17.386989\"/>\r\n     <use style=\"fill:#1f77b4;stroke:#1f77b4;\" x=\"246.029017\" xlink:href=\"#m008e64ffda\" y=\"118.827816\"/>\r\n     <use style=\"fill:#1f77b4;stroke:#1f77b4;\" x=\"120.105647\" xlink:href=\"#m008e64ffda\" y=\"163.579652\"/>\r\n     <use style=\"fill:#1f77b4;stroke:#1f77b4;\" x=\"172.934269\" xlink:href=\"#m008e64ffda\" y=\"117.9036\"/>\r\n     <use style=\"fill:#1f77b4;stroke:#1f77b4;\" x=\"47.304826\" xlink:href=\"#m008e64ffda\" y=\"205.584373\"/>\r\n     <use style=\"fill:#1f77b4;stroke:#1f77b4;\" x=\"113.565731\" xlink:href=\"#m008e64ffda\" y=\"155.213656\"/>\r\n     <use style=\"fill:#1f77b4;stroke:#1f77b4;\" x=\"197.302114\" xlink:href=\"#m008e64ffda\" y=\"141.516711\"/>\r\n     <use style=\"fill:#1f77b4;stroke:#1f77b4;\" x=\"130.852674\" xlink:href=\"#m008e64ffda\" y=\"160.033383\"/>\r\n     <use style=\"fill:#1f77b4;stroke:#1f77b4;\" x=\"194.489106\" xlink:href=\"#m008e64ffda\" y=\"177.426081\"/>\r\n     <use style=\"fill:#1f77b4;stroke:#1f77b4;\" x=\"193.391415\" xlink:href=\"#m008e64ffda\" y=\"110.992635\"/>\r\n     <use style=\"fill:#1f77b4;stroke:#1f77b4;\" x=\"73.779428\" xlink:href=\"#m008e64ffda\" y=\"145.342304\"/>\r\n     <use style=\"fill:#1f77b4;stroke:#1f77b4;\" x=\"177.676673\" xlink:href=\"#m008e64ffda\" y=\"121.690639\"/>\r\n     <use style=\"fill:#1f77b4;stroke:#1f77b4;\" x=\"336.172084\" xlink:href=\"#m008e64ffda\" y=\"59.671735\"/>\r\n     <use style=\"fill:#1f77b4;stroke:#1f77b4;\" x=\"266.218899\" xlink:href=\"#m008e64ffda\" y=\"100.185817\"/>\r\n     <use style=\"fill:#1f77b4;stroke:#1f77b4;\" x=\"260.482242\" xlink:href=\"#m008e64ffda\" y=\"102.424269\"/>\r\n     <use style=\"fill:#1f77b4;stroke:#1f77b4;\" x=\"313.084857\" xlink:href=\"#m008e64ffda\" y=\"33.603448\"/>\r\n     <use style=\"fill:#1f77b4;stroke:#1f77b4;\" x=\"334.196906\" xlink:href=\"#m008e64ffda\" y=\"63.705625\"/>\r\n     <use style=\"fill:#1f77b4;stroke:#1f77b4;\" x=\"102.061318\" xlink:href=\"#m008e64ffda\" y=\"179.308137\"/>\r\n     <use style=\"fill:#1f77b4;stroke:#1f77b4;\" x=\"258.978186\" xlink:href=\"#m008e64ffda\" y=\"75.189339\"/>\r\n     <use style=\"fill:#1f77b4;stroke:#1f77b4;\" x=\"91.411108\" xlink:href=\"#m008e64ffda\" y=\"165.596558\"/>\r\n     <use style=\"fill:#1f77b4;stroke:#1f77b4;\" x=\"304.96261\" xlink:href=\"#m008e64ffda\" y=\"61.764322\"/>\r\n     <use style=\"fill:#1f77b4;stroke:#1f77b4;\" x=\"231.457015\" xlink:href=\"#m008e64ffda\" y=\"81.334826\"/>\r\n     <use style=\"fill:#1f77b4;stroke:#1f77b4;\" x=\"333.220744\" xlink:href=\"#m008e64ffda\" y=\"65.76648\"/>\r\n     <use style=\"fill:#1f77b4;stroke:#1f77b4;\" x=\"201.23481\" xlink:href=\"#m008e64ffda\" y=\"93.567537\"/>\r\n     <use style=\"fill:#1f77b4;stroke:#1f77b4;\" x=\"53.362504\" xlink:href=\"#m008e64ffda\" y=\"155.318505\"/>\r\n     <use style=\"fill:#1f77b4;stroke:#1f77b4;\" x=\"262.701944\" xlink:href=\"#m008e64ffda\" y=\"77.1559\"/>\r\n     <use style=\"fill:#1f77b4;stroke:#1f77b4;\" x=\"43.501595\" xlink:href=\"#m008e64ffda\" y=\"137.121921\"/>\r\n     <use style=\"fill:#1f77b4;stroke:#1f77b4;\" x=\"57.565165\" xlink:href=\"#m008e64ffda\" y=\"166.625608\"/>\r\n     <use style=\"fill:#1f77b4;stroke:#1f77b4;\" x=\"343.085946\" xlink:href=\"#m008e64ffda\" y=\"88.478014\"/>\r\n     <use style=\"fill:#1f77b4;stroke:#1f77b4;\" x=\"106.672129\" xlink:href=\"#m008e64ffda\" y=\"119.002857\"/>\r\n     <use style=\"fill:#1f77b4;stroke:#1f77b4;\" x=\"329.556764\" xlink:href=\"#m008e64ffda\" y=\"41.715342\"/>\r\n     <use style=\"fill:#1f77b4;stroke:#1f77b4;\" x=\"179.222203\" xlink:href=\"#m008e64ffda\" y=\"146.612439\"/>\r\n     <use style=\"fill:#1f77b4;stroke:#1f77b4;\" x=\"345.148405\" xlink:href=\"#m008e64ffda\" y=\"47.50591\"/>\r\n     <use style=\"fill:#1f77b4;stroke:#1f77b4;\" x=\"238.637113\" xlink:href=\"#m008e64ffda\" y=\"72.435374\"/>\r\n     <use style=\"fill:#1f77b4;stroke:#1f77b4;\" x=\"255.23392\" xlink:href=\"#m008e64ffda\" y=\"118.28547\"/>\r\n     <use style=\"fill:#1f77b4;stroke:#1f77b4;\" x=\"172.56435\" xlink:href=\"#m008e64ffda\" y=\"133.022328\"/>\r\n     <use style=\"fill:#1f77b4;stroke:#1f77b4;\" x=\"93.185063\" xlink:href=\"#m008e64ffda\" y=\"121.955584\"/>\r\n     <use style=\"fill:#1f77b4;stroke:#1f77b4;\" x=\"78.133823\" xlink:href=\"#m008e64ffda\" y=\"184.682984\"/>\r\n    </g>\r\n   </g>\r\n   <g id=\"matplotlib.axis_1\">\r\n    <g id=\"xtick_1\">\r\n     <g id=\"line2d_1\">\r\n      <defs>\r\n       <path d=\"M 0 0 \r\nL 0 3.5 \r\n\" id=\"m065fab1733\" style=\"stroke:#000000;stroke-width:0.8;\"/>\r\n      </defs>\r\n      <g>\r\n       <use style=\"stroke:#000000;stroke-width:0.8;\" x=\"42.316139\" xlink:href=\"#m065fab1733\" y=\"224.64\"/>\r\n      </g>\r\n     </g>\r\n     <g id=\"text_1\">\r\n      <!-- 0.00 -->\r\n      <defs>\r\n       <path d=\"M 31.78125 66.40625 \r\nQ 24.171875 66.40625 20.328125 58.90625 \r\nQ 16.5 51.421875 16.5 36.375 \r\nQ 16.5 21.390625 20.328125 13.890625 \r\nQ 24.171875 6.390625 31.78125 6.390625 \r\nQ 39.453125 6.390625 43.28125 13.890625 \r\nQ 47.125 21.390625 47.125 36.375 \r\nQ 47.125 51.421875 43.28125 58.90625 \r\nQ 39.453125 66.40625 31.78125 66.40625 \r\nz\r\nM 31.78125 74.21875 \r\nQ 44.046875 74.21875 50.515625 64.515625 \r\nQ 56.984375 54.828125 56.984375 36.375 \r\nQ 56.984375 17.96875 50.515625 8.265625 \r\nQ 44.046875 -1.421875 31.78125 -1.421875 \r\nQ 19.53125 -1.421875 13.0625 8.265625 \r\nQ 6.59375 17.96875 6.59375 36.375 \r\nQ 6.59375 54.828125 13.0625 64.515625 \r\nQ 19.53125 74.21875 31.78125 74.21875 \r\nz\r\n\" id=\"DejaVuSans-48\"/>\r\n       <path d=\"M 10.6875 12.40625 \r\nL 21 12.40625 \r\nL 21 0 \r\nL 10.6875 0 \r\nz\r\n\" id=\"DejaVuSans-46\"/>\r\n      </defs>\r\n      <g transform=\"translate(31.183326 239.238437)scale(0.1 -0.1)\">\r\n       <use xlink:href=\"#DejaVuSans-48\"/>\r\n       <use x=\"63.623047\" xlink:href=\"#DejaVuSans-46\"/>\r\n       <use x=\"95.410156\" xlink:href=\"#DejaVuSans-48\"/>\r\n       <use x=\"159.033203\" xlink:href=\"#DejaVuSans-48\"/>\r\n      </g>\r\n     </g>\r\n    </g>\r\n    <g id=\"xtick_2\">\r\n     <g id=\"line2d_2\">\r\n      <g>\r\n       <use style=\"stroke:#000000;stroke-width:0.8;\" x=\"80.215854\" xlink:href=\"#m065fab1733\" y=\"224.64\"/>\r\n      </g>\r\n     </g>\r\n     <g id=\"text_2\">\r\n      <!-- 0.25 -->\r\n      <defs>\r\n       <path d=\"M 19.1875 8.296875 \r\nL 53.609375 8.296875 \r\nL 53.609375 0 \r\nL 7.328125 0 \r\nL 7.328125 8.296875 \r\nQ 12.9375 14.109375 22.625 23.890625 \r\nQ 32.328125 33.6875 34.8125 36.53125 \r\nQ 39.546875 41.84375 41.421875 45.53125 \r\nQ 43.3125 49.21875 43.3125 52.78125 \r\nQ 43.3125 58.59375 39.234375 62.25 \r\nQ 35.15625 65.921875 28.609375 65.921875 \r\nQ 23.96875 65.921875 18.8125 64.3125 \r\nQ 13.671875 62.703125 7.8125 59.421875 \r\nL 7.8125 69.390625 \r\nQ 13.765625 71.78125 18.9375 73 \r\nQ 24.125 74.21875 28.421875 74.21875 \r\nQ 39.75 74.21875 46.484375 68.546875 \r\nQ 53.21875 62.890625 53.21875 53.421875 \r\nQ 53.21875 48.921875 51.53125 44.890625 \r\nQ 49.859375 40.875 45.40625 35.40625 \r\nQ 44.1875 33.984375 37.640625 27.21875 \r\nQ 31.109375 20.453125 19.1875 8.296875 \r\nz\r\n\" id=\"DejaVuSans-50\"/>\r\n       <path d=\"M 10.796875 72.90625 \r\nL 49.515625 72.90625 \r\nL 49.515625 64.59375 \r\nL 19.828125 64.59375 \r\nL 19.828125 46.734375 \r\nQ 21.96875 47.46875 24.109375 47.828125 \r\nQ 26.265625 48.1875 28.421875 48.1875 \r\nQ 40.625 48.1875 47.75 41.5 \r\nQ 54.890625 34.8125 54.890625 23.390625 \r\nQ 54.890625 11.625 47.5625 5.09375 \r\nQ 40.234375 -1.421875 26.90625 -1.421875 \r\nQ 22.3125 -1.421875 17.546875 -0.640625 \r\nQ 12.796875 0.140625 7.71875 1.703125 \r\nL 7.71875 11.625 \r\nQ 12.109375 9.234375 16.796875 8.0625 \r\nQ 21.484375 6.890625 26.703125 6.890625 \r\nQ 35.15625 6.890625 40.078125 11.328125 \r\nQ 45.015625 15.765625 45.015625 23.390625 \r\nQ 45.015625 31 40.078125 35.4375 \r\nQ 35.15625 39.890625 26.703125 39.890625 \r\nQ 22.75 39.890625 18.8125 39.015625 \r\nQ 14.890625 38.140625 10.796875 36.28125 \r\nz\r\n\" id=\"DejaVuSans-53\"/>\r\n      </defs>\r\n      <g transform=\"translate(69.083041 239.238437)scale(0.1 -0.1)\">\r\n       <use xlink:href=\"#DejaVuSans-48\"/>\r\n       <use x=\"63.623047\" xlink:href=\"#DejaVuSans-46\"/>\r\n       <use x=\"95.410156\" xlink:href=\"#DejaVuSans-50\"/>\r\n       <use x=\"159.033203\" xlink:href=\"#DejaVuSans-53\"/>\r\n      </g>\r\n     </g>\r\n    </g>\r\n    <g id=\"xtick_3\">\r\n     <g id=\"line2d_3\">\r\n      <g>\r\n       <use style=\"stroke:#000000;stroke-width:0.8;\" x=\"118.115569\" xlink:href=\"#m065fab1733\" y=\"224.64\"/>\r\n      </g>\r\n     </g>\r\n     <g id=\"text_3\">\r\n      <!-- 0.50 -->\r\n      <g transform=\"translate(106.982756 239.238437)scale(0.1 -0.1)\">\r\n       <use xlink:href=\"#DejaVuSans-48\"/>\r\n       <use x=\"63.623047\" xlink:href=\"#DejaVuSans-46\"/>\r\n       <use x=\"95.410156\" xlink:href=\"#DejaVuSans-53\"/>\r\n       <use x=\"159.033203\" xlink:href=\"#DejaVuSans-48\"/>\r\n      </g>\r\n     </g>\r\n    </g>\r\n    <g id=\"xtick_4\">\r\n     <g id=\"line2d_4\">\r\n      <g>\r\n       <use style=\"stroke:#000000;stroke-width:0.8;\" x=\"156.015283\" xlink:href=\"#m065fab1733\" y=\"224.64\"/>\r\n      </g>\r\n     </g>\r\n     <g id=\"text_4\">\r\n      <!-- 0.75 -->\r\n      <defs>\r\n       <path d=\"M 8.203125 72.90625 \r\nL 55.078125 72.90625 \r\nL 55.078125 68.703125 \r\nL 28.609375 0 \r\nL 18.3125 0 \r\nL 43.21875 64.59375 \r\nL 8.203125 64.59375 \r\nz\r\n\" id=\"DejaVuSans-55\"/>\r\n      </defs>\r\n      <g transform=\"translate(144.882471 239.238437)scale(0.1 -0.1)\">\r\n       <use xlink:href=\"#DejaVuSans-48\"/>\r\n       <use x=\"63.623047\" xlink:href=\"#DejaVuSans-46\"/>\r\n       <use x=\"95.410156\" xlink:href=\"#DejaVuSans-55\"/>\r\n       <use x=\"159.033203\" xlink:href=\"#DejaVuSans-53\"/>\r\n      </g>\r\n     </g>\r\n    </g>\r\n    <g id=\"xtick_5\">\r\n     <g id=\"line2d_5\">\r\n      <g>\r\n       <use style=\"stroke:#000000;stroke-width:0.8;\" x=\"193.914998\" xlink:href=\"#m065fab1733\" y=\"224.64\"/>\r\n      </g>\r\n     </g>\r\n     <g id=\"text_5\">\r\n      <!-- 1.00 -->\r\n      <defs>\r\n       <path d=\"M 12.40625 8.296875 \r\nL 28.515625 8.296875 \r\nL 28.515625 63.921875 \r\nL 10.984375 60.40625 \r\nL 10.984375 69.390625 \r\nL 28.421875 72.90625 \r\nL 38.28125 72.90625 \r\nL 38.28125 8.296875 \r\nL 54.390625 8.296875 \r\nL 54.390625 0 \r\nL 12.40625 0 \r\nz\r\n\" id=\"DejaVuSans-49\"/>\r\n      </defs>\r\n      <g transform=\"translate(182.782186 239.238437)scale(0.1 -0.1)\">\r\n       <use xlink:href=\"#DejaVuSans-49\"/>\r\n       <use x=\"63.623047\" xlink:href=\"#DejaVuSans-46\"/>\r\n       <use x=\"95.410156\" xlink:href=\"#DejaVuSans-48\"/>\r\n       <use x=\"159.033203\" xlink:href=\"#DejaVuSans-48\"/>\r\n      </g>\r\n     </g>\r\n    </g>\r\n    <g id=\"xtick_6\">\r\n     <g id=\"line2d_6\">\r\n      <g>\r\n       <use style=\"stroke:#000000;stroke-width:0.8;\" x=\"231.814713\" xlink:href=\"#m065fab1733\" y=\"224.64\"/>\r\n      </g>\r\n     </g>\r\n     <g id=\"text_6\">\r\n      <!-- 1.25 -->\r\n      <g transform=\"translate(220.681901 239.238437)scale(0.1 -0.1)\">\r\n       <use xlink:href=\"#DejaVuSans-49\"/>\r\n       <use x=\"63.623047\" xlink:href=\"#DejaVuSans-46\"/>\r\n       <use x=\"95.410156\" xlink:href=\"#DejaVuSans-50\"/>\r\n       <use x=\"159.033203\" xlink:href=\"#DejaVuSans-53\"/>\r\n      </g>\r\n     </g>\r\n    </g>\r\n    <g id=\"xtick_7\">\r\n     <g id=\"line2d_7\">\r\n      <g>\r\n       <use style=\"stroke:#000000;stroke-width:0.8;\" x=\"269.714428\" xlink:href=\"#m065fab1733\" y=\"224.64\"/>\r\n      </g>\r\n     </g>\r\n     <g id=\"text_7\">\r\n      <!-- 1.50 -->\r\n      <g transform=\"translate(258.581616 239.238437)scale(0.1 -0.1)\">\r\n       <use xlink:href=\"#DejaVuSans-49\"/>\r\n       <use x=\"63.623047\" xlink:href=\"#DejaVuSans-46\"/>\r\n       <use x=\"95.410156\" xlink:href=\"#DejaVuSans-53\"/>\r\n       <use x=\"159.033203\" xlink:href=\"#DejaVuSans-48\"/>\r\n      </g>\r\n     </g>\r\n    </g>\r\n    <g id=\"xtick_8\">\r\n     <g id=\"line2d_8\">\r\n      <g>\r\n       <use style=\"stroke:#000000;stroke-width:0.8;\" x=\"307.614143\" xlink:href=\"#m065fab1733\" y=\"224.64\"/>\r\n      </g>\r\n     </g>\r\n     <g id=\"text_8\">\r\n      <!-- 1.75 -->\r\n      <g transform=\"translate(296.481331 239.238437)scale(0.1 -0.1)\">\r\n       <use xlink:href=\"#DejaVuSans-49\"/>\r\n       <use x=\"63.623047\" xlink:href=\"#DejaVuSans-46\"/>\r\n       <use x=\"95.410156\" xlink:href=\"#DejaVuSans-55\"/>\r\n       <use x=\"159.033203\" xlink:href=\"#DejaVuSans-53\"/>\r\n      </g>\r\n     </g>\r\n    </g>\r\n    <g id=\"xtick_9\">\r\n     <g id=\"line2d_9\">\r\n      <g>\r\n       <use style=\"stroke:#000000;stroke-width:0.8;\" x=\"345.513858\" xlink:href=\"#m065fab1733\" y=\"224.64\"/>\r\n      </g>\r\n     </g>\r\n     <g id=\"text_9\">\r\n      <!-- 2.00 -->\r\n      <g transform=\"translate(334.381045 239.238437)scale(0.1 -0.1)\">\r\n       <use xlink:href=\"#DejaVuSans-50\"/>\r\n       <use x=\"63.623047\" xlink:href=\"#DejaVuSans-46\"/>\r\n       <use x=\"95.410156\" xlink:href=\"#DejaVuSans-48\"/>\r\n       <use x=\"159.033203\" xlink:href=\"#DejaVuSans-48\"/>\r\n      </g>\r\n     </g>\r\n    </g>\r\n   </g>\r\n   <g id=\"matplotlib.axis_2\">\r\n    <g id=\"ytick_1\">\r\n     <g id=\"line2d_10\">\r\n      <defs>\r\n       <path d=\"M 0 0 \r\nL -3.5 0 \r\n\" id=\"m074a495d51\" style=\"stroke:#000000;stroke-width:0.8;\"/>\r\n      </defs>\r\n      <g>\r\n       <use style=\"stroke:#000000;stroke-width:0.8;\" x=\"26.925\" xlink:href=\"#m074a495d51\" y=\"182.949876\"/>\r\n      </g>\r\n     </g>\r\n     <g id=\"text_10\">\r\n      <!-- 4 -->\r\n      <defs>\r\n       <path d=\"M 37.796875 64.3125 \r\nL 12.890625 25.390625 \r\nL 37.796875 25.390625 \r\nz\r\nM 35.203125 72.90625 \r\nL 47.609375 72.90625 \r\nL 47.609375 25.390625 \r\nL 58.015625 25.390625 \r\nL 58.015625 17.1875 \r\nL 47.609375 17.1875 \r\nL 47.609375 0 \r\nL 37.796875 0 \r\nL 37.796875 17.1875 \r\nL 4.890625 17.1875 \r\nL 4.890625 26.703125 \r\nz\r\n\" id=\"DejaVuSans-52\"/>\r\n      </defs>\r\n      <g transform=\"translate(13.5625 186.749094)scale(0.1 -0.1)\">\r\n       <use xlink:href=\"#DejaVuSans-52\"/>\r\n      </g>\r\n     </g>\r\n    </g>\r\n    <g id=\"ytick_2\">\r\n     <g id=\"line2d_11\">\r\n      <g>\r\n       <use style=\"stroke:#000000;stroke-width:0.8;\" x=\"26.925\" xlink:href=\"#m074a495d51\" y=\"138.975843\"/>\r\n      </g>\r\n     </g>\r\n     <g id=\"text_11\">\r\n      <!-- 6 -->\r\n      <defs>\r\n       <path d=\"M 33.015625 40.375 \r\nQ 26.375 40.375 22.484375 35.828125 \r\nQ 18.609375 31.296875 18.609375 23.390625 \r\nQ 18.609375 15.53125 22.484375 10.953125 \r\nQ 26.375 6.390625 33.015625 6.390625 \r\nQ 39.65625 6.390625 43.53125 10.953125 \r\nQ 47.40625 15.53125 47.40625 23.390625 \r\nQ 47.40625 31.296875 43.53125 35.828125 \r\nQ 39.65625 40.375 33.015625 40.375 \r\nz\r\nM 52.59375 71.296875 \r\nL 52.59375 62.3125 \r\nQ 48.875 64.0625 45.09375 64.984375 \r\nQ 41.3125 65.921875 37.59375 65.921875 \r\nQ 27.828125 65.921875 22.671875 59.328125 \r\nQ 17.53125 52.734375 16.796875 39.40625 \r\nQ 19.671875 43.65625 24.015625 45.921875 \r\nQ 28.375 48.1875 33.59375 48.1875 \r\nQ 44.578125 48.1875 50.953125 41.515625 \r\nQ 57.328125 34.859375 57.328125 23.390625 \r\nQ 57.328125 12.15625 50.6875 5.359375 \r\nQ 44.046875 -1.421875 33.015625 -1.421875 \r\nQ 20.359375 -1.421875 13.671875 8.265625 \r\nQ 6.984375 17.96875 6.984375 36.375 \r\nQ 6.984375 53.65625 15.1875 63.9375 \r\nQ 23.390625 74.21875 37.203125 74.21875 \r\nQ 40.921875 74.21875 44.703125 73.484375 \r\nQ 48.484375 72.75 52.59375 71.296875 \r\nz\r\n\" id=\"DejaVuSans-54\"/>\r\n      </defs>\r\n      <g transform=\"translate(13.5625 142.775061)scale(0.1 -0.1)\">\r\n       <use xlink:href=\"#DejaVuSans-54\"/>\r\n      </g>\r\n     </g>\r\n    </g>\r\n    <g id=\"ytick_3\">\r\n     <g id=\"line2d_12\">\r\n      <g>\r\n       <use style=\"stroke:#000000;stroke-width:0.8;\" x=\"26.925\" xlink:href=\"#m074a495d51\" y=\"95.00181\"/>\r\n      </g>\r\n     </g>\r\n     <g id=\"text_12\">\r\n      <!-- 8 -->\r\n      <defs>\r\n       <path d=\"M 31.78125 34.625 \r\nQ 24.75 34.625 20.71875 30.859375 \r\nQ 16.703125 27.09375 16.703125 20.515625 \r\nQ 16.703125 13.921875 20.71875 10.15625 \r\nQ 24.75 6.390625 31.78125 6.390625 \r\nQ 38.8125 6.390625 42.859375 10.171875 \r\nQ 46.921875 13.96875 46.921875 20.515625 \r\nQ 46.921875 27.09375 42.890625 30.859375 \r\nQ 38.875 34.625 31.78125 34.625 \r\nz\r\nM 21.921875 38.8125 \r\nQ 15.578125 40.375 12.03125 44.71875 \r\nQ 8.5 49.078125 8.5 55.328125 \r\nQ 8.5 64.0625 14.71875 69.140625 \r\nQ 20.953125 74.21875 31.78125 74.21875 \r\nQ 42.671875 74.21875 48.875 69.140625 \r\nQ 55.078125 64.0625 55.078125 55.328125 \r\nQ 55.078125 49.078125 51.53125 44.71875 \r\nQ 48 40.375 41.703125 38.8125 \r\nQ 48.828125 37.15625 52.796875 32.3125 \r\nQ 56.78125 27.484375 56.78125 20.515625 \r\nQ 56.78125 9.90625 50.3125 4.234375 \r\nQ 43.84375 -1.421875 31.78125 -1.421875 \r\nQ 19.734375 -1.421875 13.25 4.234375 \r\nQ 6.78125 9.90625 6.78125 20.515625 \r\nQ 6.78125 27.484375 10.78125 32.3125 \r\nQ 14.796875 37.15625 21.921875 38.8125 \r\nz\r\nM 18.3125 54.390625 \r\nQ 18.3125 48.734375 21.84375 45.5625 \r\nQ 25.390625 42.390625 31.78125 42.390625 \r\nQ 38.140625 42.390625 41.71875 45.5625 \r\nQ 45.3125 48.734375 45.3125 54.390625 \r\nQ 45.3125 60.0625 41.71875 63.234375 \r\nQ 38.140625 66.40625 31.78125 66.40625 \r\nQ 25.390625 66.40625 21.84375 63.234375 \r\nQ 18.3125 60.0625 18.3125 54.390625 \r\nz\r\n\" id=\"DejaVuSans-56\"/>\r\n      </defs>\r\n      <g transform=\"translate(13.5625 98.801028)scale(0.1 -0.1)\">\r\n       <use xlink:href=\"#DejaVuSans-56\"/>\r\n      </g>\r\n     </g>\r\n    </g>\r\n    <g id=\"ytick_4\">\r\n     <g id=\"line2d_13\">\r\n      <g>\r\n       <use style=\"stroke:#000000;stroke-width:0.8;\" x=\"26.925\" xlink:href=\"#m074a495d51\" y=\"51.027777\"/>\r\n      </g>\r\n     </g>\r\n     <g id=\"text_13\">\r\n      <!-- 10 -->\r\n      <g transform=\"translate(7.2 54.826995)scale(0.1 -0.1)\">\r\n       <use xlink:href=\"#DejaVuSans-49\"/>\r\n       <use x=\"63.623047\" xlink:href=\"#DejaVuSans-48\"/>\r\n      </g>\r\n     </g>\r\n    </g>\r\n   </g>\r\n   <g id=\"patch_3\">\r\n    <path d=\"M 26.925 224.64 \r\nL 26.925 7.2 \r\n\" style=\"fill:none;stroke:#000000;stroke-linecap:square;stroke-linejoin:miter;stroke-width:0.8;\"/>\r\n   </g>\r\n   <g id=\"patch_4\">\r\n    <path d=\"M 361.725 224.64 \r\nL 361.725 7.2 \r\n\" style=\"fill:none;stroke:#000000;stroke-linecap:square;stroke-linejoin:miter;stroke-width:0.8;\"/>\r\n   </g>\r\n   <g id=\"patch_5\">\r\n    <path d=\"M 26.925 224.64 \r\nL 361.725 224.64 \r\n\" style=\"fill:none;stroke:#000000;stroke-linecap:square;stroke-linejoin:miter;stroke-width:0.8;\"/>\r\n   </g>\r\n   <g id=\"patch_6\">\r\n    <path d=\"M 26.925 7.2 \r\nL 361.725 7.2 \r\n\" style=\"fill:none;stroke:#000000;stroke-linecap:square;stroke-linejoin:miter;stroke-width:0.8;\"/>\r\n   </g>\r\n  </g>\r\n </g>\r\n <defs>\r\n  <clipPath id=\"p10b7f1d9a4\">\r\n   <rect height=\"217.44\" width=\"334.8\" x=\"26.925\" y=\"7.2\"/>\r\n  </clipPath>\r\n </defs>\r\n</svg>\r\n",
      "image/png": "[encoded data removed]"
     },
     "metadata": {
      "needs_background": "light"
     }
    }
   ],
   "source": [
    "plt.scatter(x, y)\n",
    "plt.show()"
   ]
  },
  {
   "cell_type": "markdown",
   "metadata": {},
   "source": [
    "### 使用梯度下降法训练"
   ]
  },
  {
   "cell_type": "code",
   "execution_count": 7,
   "metadata": {
    "collapsed": true
   },
   "outputs": [],
   "source": [
    "def J(theta, X_b, y):\n",
    "    try:\n",
    "        return np.sum((y - X_b.dot(theta))**2) / len(X_b)\n",
    "    except:\n",
    "        return float('inf')"
   ]
  },
  {
   "cell_type": "code",
   "execution_count": 8,
   "metadata": {
    "collapsed": true
   },
   "outputs": [],
   "source": [
    "def dJ(theta, X_b, y):\n",
    "    # 先开一个theta这么大的空间\n",
    "    res = np.empty(len(theta))\n",
    "    # 对于常数项的导数\n",
    "    res[0] = np.sum(X_b.dot(theta) - y)\n",
    "    for i in range(1, len(theta)):\n",
    "        # 前后两个都是向量，所以直接点乘没有问题\n",
    "        # 第一个维度是数据数，所有的都需要，而i表示是第几个变量\n",
    "        res[i] = (X_b.dot(theta) - y).dot(X_b[:,i])\n",
    "    return res * 2 / len(X_b)"
   ]
  },
  {
   "cell_type": "code",
   "execution_count": 9,
   "metadata": {
    "collapsed": true
   },
   "outputs": [],
   "source": [
    "def gradient_descent(X_b, y, initial_theta, eta, n_iters = 1e4, epsilon=1e-8):\n",
    "    \n",
    "    theta = initial_theta\n",
    "    cur_iter = 0\n",
    "\n",
    "    while cur_iter < n_iters:\n",
    "        gradient = dJ(theta, X_b, y)\n",
    "        last_theta = theta\n",
    "        theta = theta - eta * gradient\n",
    "        if(abs(J(theta, X_b, y) - J(last_theta, X_b, y)) < epsilon):\n",
    "            break\n",
    "            \n",
    "        cur_iter += 1\n",
    "\n",
    "    return theta"
   ]
  },
  {
   "cell_type": "code",
   "execution_count": 16,
   "metadata": {
    "collapsed": true
   },
   "outputs": [],
   "source": [
    "X_b = np.hstack([np.ones((len(x), 1)), X])\n",
    "initial_theta = np.zeros(X_b.shape[1])\n",
    "eta = 0.01\n",
    "\n",
    "theta = gradient_descent(X_b, y, initial_theta, eta)"
   ]
  },
  {
   "cell_type": "code",
   "execution_count": 17,
   "metadata": {},
   "outputs": [
    {
     "output_type": "execute_result",
     "data": {
      "text/plain": "array([4.02145786, 3.00706277])"
     },
     "metadata": {},
     "execution_count": 17
    }
   ],
   "source": [
    "theta"
   ]
  },
  {
   "cell_type": "markdown",
   "metadata": {},
   "source": [
    "### 封装我们的线性回归算法"
   ]
  },
  {
   "cell_type": "code",
   "execution_count": 12,
   "metadata": {},
   "outputs": [
    {
     "output_type": "execute_result",
     "data": {
      "text/plain": "LinearRegression()"
     },
     "metadata": {},
     "execution_count": 12
    }
   ],
   "source": [
    "from playML.LinearRegression import LinearRegression\n",
    "\n",
    "lin_reg = LinearRegression()\n",
    "lin_reg.fit_gd(X, y)"
   ]
  },
  {
   "cell_type": "code",
   "execution_count": 13,
   "metadata": {},
   "outputs": [
    {
     "output_type": "execute_result",
     "data": {
      "text/plain": "array([3.00706277])"
     },
     "metadata": {},
     "execution_count": 13
    }
   ],
   "source": [
    "lin_reg.coef_"
   ]
  },
  {
   "cell_type": "code",
   "execution_count": 14,
   "metadata": {},
   "outputs": [
    {
     "output_type": "execute_result",
     "data": {
      "text/plain": "4.021457858204859"
     },
     "metadata": {},
     "execution_count": 14
    }
   ],
   "source": [
    "lin_reg.intercept_"
   ]
  }
 ],
 "metadata": {
  "kernelspec": {
   "display_name": "Python 3.6.8 64-bit ('anaconda': conda)",
   "language": "python",
   "name": "python36864bitanacondaconda085db2e8b14649f4b32196068f7124e9"
  },
  "language_info": {
   "codemirror_mode": {
    "name": "ipython",
    "version": 3
   },
   "file_extension": ".py",
   "mimetype": "text/x-python",
   "name": "python",
   "nbconvert_exporter": "python",
   "pygments_lexer": "ipython3",
   "version": "3.7.7-final"
  }
 },
 "nbformat": 4,
 "nbformat_minor": 2
}