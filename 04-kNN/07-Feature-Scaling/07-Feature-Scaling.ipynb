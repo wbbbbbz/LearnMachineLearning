{
 "cells": [
  {
   "cell_type": "markdown",
   "metadata": {},
   "source": [
    "## 07 数据归一化处理"
   ]
  },
  {
   "cell_type": "code",
   "execution_count": 1,
   "metadata": {
    "collapsed": true
   },
   "outputs": [],
   "source": [
    "import numpy as np\n",
    "import matplotlib.pyplot as plt"
   ]
  },
  {
   "cell_type": "markdown",
   "metadata": {},
   "source": [
    "### 最值归一化 Normalization"
   ]
  },
  {
   "cell_type": "code",
   "execution_count": 2,
   "metadata": {
    "collapsed": true
   },
   "outputs": [],
   "source": [
    "x = np.random.randint(0, 100, 100) "
   ]
  },
  {
   "cell_type": "code",
   "execution_count": 3,
   "metadata": {},
   "outputs": [
    {
     "output_type": "execute_result",
     "data": {
      "text/plain": "array([78, 13, 15, 46, 98, 40, 74, 73, 16, 12, 78, 50, 64, 81, 93, 30, 87,\n       53, 66, 87, 27, 73, 76, 25, 10, 16,  5, 59, 83, 25, 87, 73, 42, 29,\n       22, 10, 26, 23, 31, 71, 53, 23, 12, 68,  3,  3, 11, 29, 51, 60, 93,\n       52, 77, 80, 46, 69, 57, 25, 21, 61, 38, 44,  2, 23,  3, 80, 31,  7,\n       39, 26, 96, 20, 78, 57, 11,  5, 19, 33, 26, 21, 61,  2,  6, 49, 16,\n       12, 72,  8, 12,  2,  4, 22,  6, 88, 47, 39, 48, 36, 25, 76])"
     },
     "metadata": {},
     "execution_count": 3
    }
   ],
   "source": [
    "x"
   ]
  },
  {
   "cell_type": "code",
   "execution_count": 4,
   "metadata": {},
   "outputs": [
    {
     "output_type": "execute_result",
     "data": {
      "text/plain": "array([0.79166667, 0.11458333, 0.13541667, 0.45833333, 1.        ,\n       0.39583333, 0.75      , 0.73958333, 0.14583333, 0.10416667,\n       0.79166667, 0.5       , 0.64583333, 0.82291667, 0.94791667,\n       0.29166667, 0.88541667, 0.53125   , 0.66666667, 0.88541667,\n       0.26041667, 0.73958333, 0.77083333, 0.23958333, 0.08333333,\n       0.14583333, 0.03125   , 0.59375   , 0.84375   , 0.23958333,\n       0.88541667, 0.73958333, 0.41666667, 0.28125   , 0.20833333,\n       0.08333333, 0.25      , 0.21875   , 0.30208333, 0.71875   ,\n       0.53125   , 0.21875   , 0.10416667, 0.6875    , 0.01041667,\n       0.01041667, 0.09375   , 0.28125   , 0.51041667, 0.60416667,\n       0.94791667, 0.52083333, 0.78125   , 0.8125    , 0.45833333,\n       0.69791667, 0.57291667, 0.23958333, 0.19791667, 0.61458333,\n       0.375     , 0.4375    , 0.        , 0.21875   , 0.01041667,\n       0.8125    , 0.30208333, 0.05208333, 0.38541667, 0.25      ,\n       0.97916667, 0.1875    , 0.79166667, 0.57291667, 0.09375   ,\n       0.03125   , 0.17708333, 0.32291667, 0.25      , 0.19791667,\n       0.61458333, 0.        , 0.04166667, 0.48958333, 0.14583333,\n       0.10416667, 0.72916667, 0.0625    , 0.10416667, 0.        ,\n       0.02083333, 0.20833333, 0.04166667, 0.89583333, 0.46875   ,\n       0.38541667, 0.47916667, 0.35416667, 0.23958333, 0.77083333])"
     },
     "metadata": {},
     "execution_count": 4
    }
   ],
   "source": [
    "# 最值归一化\n",
    "(x - np.min(x)) / (np.max(x) - np.min(x))"
   ]
  },
  {
   "cell_type": "code",
   "execution_count": 5,
   "metadata": {
    "collapsed": true
   },
   "outputs": [],
   "source": [
    "X = np.random.randint(0, 100, (50, 2))"
   ]
  },
  {
   "cell_type": "code",
   "execution_count": 6,
   "metadata": {
    "collapsed": true
   },
   "outputs": [],
   "source": [
    "# 因为np.array只能存储一种数据，所以要进行类型的转化\n",
    "X = np.array(X, dtype=float)"
   ]
  },
  {
   "cell_type": "code",
   "execution_count": 7,
   "metadata": {},
   "outputs": [
    {
     "output_type": "execute_result",
     "data": {
      "text/plain": "array([[10., 29.],\n       [85., 61.],\n       [79., 30.],\n       [45., 11.],\n       [ 0., 40.],\n       [85., 44.],\n       [48., 33.],\n       [22., 39.],\n       [20., 13.],\n       [53., 75.]])"
     },
     "metadata": {},
     "execution_count": 7
    }
   ],
   "source": [
    "X[:10,:]"
   ]
  },
  {
   "cell_type": "code",
   "execution_count": 8,
   "metadata": {
    "collapsed": true
   },
   "outputs": [],
   "source": [
    "# 每一个列进行转化\n",
    "X[:,0] = (X[:,0] - np.min(X[:,0])) / (np.max(X[:,0]) - np.min(X[:,0]))\n",
    "X[:,1] = (X[:,1] - np.min(X[:,1])) / (np.max(X[:,1]) - np.min(X[:,1]))"
   ]
  },
  {
   "cell_type": "code",
   "execution_count": 9,
   "metadata": {},
   "outputs": [
    {
     "output_type": "execute_result",
     "data": {
      "text/plain": "array([[0.10204082, 0.28723404],\n       [0.86734694, 0.62765957],\n       [0.80612245, 0.29787234],\n       [0.45918367, 0.09574468],\n       [0.        , 0.40425532],\n       [0.86734694, 0.44680851],\n       [0.48979592, 0.32978723],\n       [0.2244898 , 0.39361702],\n       [0.20408163, 0.11702128],\n       [0.54081633, 0.77659574]])"
     },
     "metadata": {},
     "execution_count": 9
    }
   ],
   "source": [
    "X[:10,:]"
   ]
  },
  {
   "cell_type": "code",
   "execution_count": 24,
   "metadata": {},
   "outputs": [
    {
     "output_type": "display_data",
     "data": {
      "text/plain": "<Figure size 432x288 with 1 Axes>",
      "image/svg+xml": "<?xml version=\"1.0\" encoding=\"utf-8\" standalone=\"no\"?>\r\n<!DOCTYPE svg PUBLIC \"-//W3C//DTD SVG 1.1//EN\"\r\n  \"http://www.w3.org/Graphics/SVG/1.1/DTD/svg11.dtd\">\r\n<!-- Created with matplotlib (https://matplotlib.org/) -->\r\n<svg height=\"248.518125pt\" version=\"1.1\" viewBox=\"0 0 372.103125 248.518125\" width=\"372.103125pt\" xmlns=\"http://www.w3.org/2000/svg\" xmlns:xlink=\"http://www.w3.org/1999/xlink\">\r\n <defs>\r\n  <style type=\"text/css\">\r\n*{stroke-linecap:butt;stroke-linejoin:round;}\r\n  </style>\r\n </defs>\r\n <g id=\"figure_1\">\r\n  <g id=\"patch_1\">\r\n   <path d=\"M 0 248.518125 \r\nL 372.103125 248.518125 \r\nL 372.103125 0 \r\nL 0 0 \r\nz\r\n\" style=\"fill:none;\"/>\r\n  </g>\r\n  <g id=\"axes_1\">\r\n   <g id=\"patch_2\">\r\n    <path d=\"M 30.103125 224.64 \r\nL 364.903125 224.64 \r\nL 364.903125 7.2 \r\nL 30.103125 7.2 \r\nz\r\n\" style=\"fill:#ffffff;\"/>\r\n   </g>\r\n   <g id=\"PathCollection_1\">\r\n    <defs>\r\n     <path d=\"M 0 3 \r\nC 0.795609 3 1.55874 2.683901 2.12132 2.12132 \r\nC 2.683901 1.55874 3 0.795609 3 0 \r\nC 3 -0.795609 2.683901 -1.55874 2.12132 -2.12132 \r\nC 1.55874 -2.683901 0.795609 -3 0 -3 \r\nC -0.795609 -3 -1.55874 -2.683901 -2.12132 -2.12132 \r\nC -2.683901 -1.55874 -3 -0.795609 -3 0 \r\nC -3 0.795609 -2.683901 1.55874 -2.12132 2.12132 \r\nC -1.55874 2.683901 -0.795609 3 0 3 \r\nz\r\n\" id=\"m5e504da126\" style=\"stroke:#1f77b4;\"/>\r\n    </defs>\r\n    <g clip-path=\"url(#pd3efd073e6)\">\r\n     <use style=\"fill:#1f77b4;stroke:#1f77b4;\" x=\"78.511291\" xlink:href=\"#m5e504da126\" y=\"156.848649\"/>\r\n     <use style=\"fill:#1f77b4;stroke:#1f77b4;\" x=\"307.341741\" xlink:href=\"#m5e504da126\" y=\"91.36281\"/>\r\n     <use style=\"fill:#1f77b4;stroke:#1f77b4;\" x=\"289.035305\" xlink:href=\"#m5e504da126\" y=\"154.802217\"/>\r\n     <use style=\"fill:#1f77b4;stroke:#1f77b4;\" x=\"185.298834\" xlink:href=\"#m5e504da126\" y=\"193.684434\"/>\r\n     <use style=\"fill:#1f77b4;stroke:#1f77b4;\" x=\"48.000564\" xlink:href=\"#m5e504da126\" y=\"134.337892\"/>\r\n     <use style=\"fill:#1f77b4;stroke:#1f77b4;\" x=\"307.341741\" xlink:href=\"#m5e504da126\" y=\"126.152162\"/>\r\n     <use style=\"fill:#1f77b4;stroke:#1f77b4;\" x=\"194.452052\" xlink:href=\"#m5e504da126\" y=\"148.662919\"/>\r\n     <use style=\"fill:#1f77b4;stroke:#1f77b4;\" x=\"115.124163\" xlink:href=\"#m5e504da126\" y=\"136.384325\"/>\r\n     <use style=\"fill:#1f77b4;stroke:#1f77b4;\" x=\"109.022018\" xlink:href=\"#m5e504da126\" y=\"189.591569\"/>\r\n     <use style=\"fill:#1f77b4;stroke:#1f77b4;\" x=\"209.707416\" xlink:href=\"#m5e504da126\" y=\"62.712756\"/>\r\n     <use style=\"fill:#1f77b4;stroke:#1f77b4;\" x=\"264.626724\" xlink:href=\"#m5e504da126\" y=\"25.876971\"/>\r\n     <use style=\"fill:#1f77b4;stroke:#1f77b4;\" x=\"197.503125\" xlink:href=\"#m5e504da126\" y=\"56.573458\"/>\r\n     <use style=\"fill:#1f77b4;stroke:#1f77b4;\" x=\"331.750322\" xlink:href=\"#m5e504da126\" y=\"29.969836\"/>\r\n     <use style=\"fill:#1f77b4;stroke:#1f77b4;\" x=\"163.941326\" xlink:href=\"#m5e504da126\" y=\"136.384325\"/>\r\n     <use style=\"fill:#1f77b4;stroke:#1f77b4;\" x=\"313.443886\" xlink:href=\"#m5e504da126\" y=\"212.102326\"/>\r\n     <use style=\"fill:#1f77b4;stroke:#1f77b4;\" x=\"130.379526\" xlink:href=\"#m5e504da126\" y=\"142.523622\"/>\r\n     <use style=\"fill:#1f77b4;stroke:#1f77b4;\" x=\"102.919872\" xlink:href=\"#m5e504da126\" y=\"21.784107\"/>\r\n     <use style=\"fill:#1f77b4;stroke:#1f77b4;\" x=\"203.60527\" xlink:href=\"#m5e504da126\" y=\"189.591569\"/>\r\n     <use style=\"fill:#1f77b4;stroke:#1f77b4;\" x=\"224.962779\" xlink:href=\"#m5e504da126\" y=\"124.10573\"/>\r\n     <use style=\"fill:#1f77b4;stroke:#1f77b4;\" x=\"310.392814\" xlink:href=\"#m5e504da126\" y=\"144.570055\"/>\r\n     <use style=\"fill:#1f77b4;stroke:#1f77b4;\" x=\"289.035305\" xlink:href=\"#m5e504da126\" y=\"124.10573\"/>\r\n     <use style=\"fill:#1f77b4;stroke:#1f77b4;\" x=\"258.524578\" xlink:href=\"#m5e504da126\" y=\"97.502108\"/>\r\n     <use style=\"fill:#1f77b4;stroke:#1f77b4;\" x=\"154.788108\" xlink:href=\"#m5e504da126\" y=\"181.405839\"/>\r\n     <use style=\"fill:#1f77b4;stroke:#1f77b4;\" x=\"261.575651\" xlink:href=\"#m5e504da126\" y=\"195.730866\"/>\r\n     <use style=\"fill:#1f77b4;stroke:#1f77b4;\" x=\"148.685962\" xlink:href=\"#m5e504da126\" y=\"79.084216\"/>\r\n     <use style=\"fill:#1f77b4;stroke:#1f77b4;\" x=\"69.358073\" xlink:href=\"#m5e504da126\" y=\"169.127244\"/>\r\n     <use style=\"fill:#1f77b4;stroke:#1f77b4;\" x=\"142.583817\" xlink:href=\"#m5e504da126\" y=\"144.570055\"/>\r\n     <use style=\"fill:#1f77b4;stroke:#1f77b4;\" x=\"78.511291\" xlink:href=\"#m5e504da126\" y=\"205.963029\"/>\r\n     <use style=\"fill:#1f77b4;stroke:#1f77b4;\" x=\"255.473506\" xlink:href=\"#m5e504da126\" y=\"115.92\"/>\r\n     <use style=\"fill:#1f77b4;stroke:#1f77b4;\" x=\"255.473506\" xlink:href=\"#m5e504da126\" y=\"128.198595\"/>\r\n     <use style=\"fill:#1f77b4;stroke:#1f77b4;\" x=\"267.677796\" xlink:href=\"#m5e504da126\" y=\"32.016269\"/>\r\n     <use style=\"fill:#1f77b4;stroke:#1f77b4;\" x=\"191.40098\" xlink:href=\"#m5e504da126\" y=\"144.570055\"/>\r\n     <use style=\"fill:#1f77b4;stroke:#1f77b4;\" x=\"69.358073\" xlink:href=\"#m5e504da126\" y=\"130.245027\"/>\r\n     <use style=\"fill:#1f77b4;stroke:#1f77b4;\" x=\"99.8688\" xlink:href=\"#m5e504da126\" y=\"87.269945\"/>\r\n     <use style=\"fill:#1f77b4;stroke:#1f77b4;\" x=\"139.532744\" xlink:href=\"#m5e504da126\" y=\"101.594973\"/>\r\n     <use style=\"fill:#1f77b4;stroke:#1f77b4;\" x=\"347.005686\" xlink:href=\"#m5e504da126\" y=\"130.245027\"/>\r\n     <use style=\"fill:#1f77b4;stroke:#1f77b4;\" x=\"66.307\" xlink:href=\"#m5e504da126\" y=\"138.430757\"/>\r\n     <use style=\"fill:#1f77b4;stroke:#1f77b4;\" x=\"319.546032\" xlink:href=\"#m5e504da126\" y=\"162.987947\"/>\r\n     <use style=\"fill:#1f77b4;stroke:#1f77b4;\" x=\"243.269215\" xlink:href=\"#m5e504da126\" y=\"177.312974\"/>\r\n     <use style=\"fill:#1f77b4;stroke:#1f77b4;\" x=\"273.779942\" xlink:href=\"#m5e504da126\" y=\"138.430757\"/>\r\n     <use style=\"fill:#1f77b4;stroke:#1f77b4;\" x=\"322.597104\" xlink:href=\"#m5e504da126\" y=\"197.777299\"/>\r\n     <use style=\"fill:#1f77b4;stroke:#1f77b4;\" x=\"154.788108\" xlink:href=\"#m5e504da126\" y=\"19.737674\"/>\r\n     <use style=\"fill:#1f77b4;stroke:#1f77b4;\" x=\"221.911706\" xlink:href=\"#m5e504da126\" y=\"130.245027\"/>\r\n     <use style=\"fill:#1f77b4;stroke:#1f77b4;\" x=\"69.358073\" xlink:href=\"#m5e504da126\" y=\"134.337892\"/>\r\n     <use style=\"fill:#1f77b4;stroke:#1f77b4;\" x=\"228.013852\" xlink:href=\"#m5e504da126\" y=\"105.687838\"/>\r\n     <use style=\"fill:#1f77b4;stroke:#1f77b4;\" x=\"160.890253\" xlink:href=\"#m5e504da126\" y=\"99.54854\"/>\r\n     <use style=\"fill:#1f77b4;stroke:#1f77b4;\" x=\"252.422433\" xlink:href=\"#m5e504da126\" y=\"193.684434\"/>\r\n     <use style=\"fill:#1f77b4;stroke:#1f77b4;\" x=\"334.801395\" xlink:href=\"#m5e504da126\" y=\"89.316378\"/>\r\n     <use style=\"fill:#1f77b4;stroke:#1f77b4;\" x=\"139.532744\" xlink:href=\"#m5e504da126\" y=\"177.312974\"/>\r\n     <use style=\"fill:#1f77b4;stroke:#1f77b4;\" x=\"93.766654\" xlink:href=\"#m5e504da126\" y=\"50.434161\"/>\r\n    </g>\r\n   </g>\r\n   <g id=\"matplotlib.axis_1\">\r\n    <g id=\"xtick_1\">\r\n     <g id=\"line2d_1\">\r\n      <defs>\r\n       <path d=\"M 0 0 \r\nL 0 3.5 \r\n\" id=\"mbc0994a8b2\" style=\"stroke:#000000;stroke-width:0.8;\"/>\r\n      </defs>\r\n      <g>\r\n       <use style=\"stroke:#000000;stroke-width:0.8;\" x=\"48.000564\" xlink:href=\"#mbc0994a8b2\" y=\"224.64\"/>\r\n      </g>\r\n     </g>\r\n     <g id=\"text_1\">\r\n      <!-- 0.0 -->\r\n      <defs>\r\n       <path d=\"M 31.78125 66.40625 \r\nQ 24.171875 66.40625 20.328125 58.90625 \r\nQ 16.5 51.421875 16.5 36.375 \r\nQ 16.5 21.390625 20.328125 13.890625 \r\nQ 24.171875 6.390625 31.78125 6.390625 \r\nQ 39.453125 6.390625 43.28125 13.890625 \r\nQ 47.125 21.390625 47.125 36.375 \r\nQ 47.125 51.421875 43.28125 58.90625 \r\nQ 39.453125 66.40625 31.78125 66.40625 \r\nz\r\nM 31.78125 74.21875 \r\nQ 44.046875 74.21875 50.515625 64.515625 \r\nQ 56.984375 54.828125 56.984375 36.375 \r\nQ 56.984375 17.96875 50.515625 8.265625 \r\nQ 44.046875 -1.421875 31.78125 -1.421875 \r\nQ 19.53125 -1.421875 13.0625 8.265625 \r\nQ 6.59375 17.96875 6.59375 36.375 \r\nQ 6.59375 54.828125 13.0625 64.515625 \r\nQ 19.53125 74.21875 31.78125 74.21875 \r\nz\r\n\" id=\"DejaVuSans-48\"/>\r\n       <path d=\"M 10.6875 12.40625 \r\nL 21 12.40625 \r\nL 21 0 \r\nL 10.6875 0 \r\nz\r\n\" id=\"DejaVuSans-46\"/>\r\n      </defs>\r\n      <g transform=\"translate(40.049002 239.238437)scale(0.1 -0.1)\">\r\n       <use xlink:href=\"#DejaVuSans-48\"/>\r\n       <use x=\"63.623047\" xlink:href=\"#DejaVuSans-46\"/>\r\n       <use x=\"95.410156\" xlink:href=\"#DejaVuSans-48\"/>\r\n      </g>\r\n     </g>\r\n    </g>\r\n    <g id=\"xtick_2\">\r\n     <g id=\"line2d_2\">\r\n      <g>\r\n       <use style=\"stroke:#000000;stroke-width:0.8;\" x=\"107.801589\" xlink:href=\"#mbc0994a8b2\" y=\"224.64\"/>\r\n      </g>\r\n     </g>\r\n     <g id=\"text_2\">\r\n      <!-- 0.2 -->\r\n      <defs>\r\n       <path d=\"M 19.1875 8.296875 \r\nL 53.609375 8.296875 \r\nL 53.609375 0 \r\nL 7.328125 0 \r\nL 7.328125 8.296875 \r\nQ 12.9375 14.109375 22.625 23.890625 \r\nQ 32.328125 33.6875 34.8125 36.53125 \r\nQ 39.546875 41.84375 41.421875 45.53125 \r\nQ 43.3125 49.21875 43.3125 52.78125 \r\nQ 43.3125 58.59375 39.234375 62.25 \r\nQ 35.15625 65.921875 28.609375 65.921875 \r\nQ 23.96875 65.921875 18.8125 64.3125 \r\nQ 13.671875 62.703125 7.8125 59.421875 \r\nL 7.8125 69.390625 \r\nQ 13.765625 71.78125 18.9375 73 \r\nQ 24.125 74.21875 28.421875 74.21875 \r\nQ 39.75 74.21875 46.484375 68.546875 \r\nQ 53.21875 62.890625 53.21875 53.421875 \r\nQ 53.21875 48.921875 51.53125 44.890625 \r\nQ 49.859375 40.875 45.40625 35.40625 \r\nQ 44.1875 33.984375 37.640625 27.21875 \r\nQ 31.109375 20.453125 19.1875 8.296875 \r\nz\r\n\" id=\"DejaVuSans-50\"/>\r\n      </defs>\r\n      <g transform=\"translate(99.850026 239.238437)scale(0.1 -0.1)\">\r\n       <use xlink:href=\"#DejaVuSans-48\"/>\r\n       <use x=\"63.623047\" xlink:href=\"#DejaVuSans-46\"/>\r\n       <use x=\"95.410156\" xlink:href=\"#DejaVuSans-50\"/>\r\n      </g>\r\n     </g>\r\n    </g>\r\n    <g id=\"xtick_3\">\r\n     <g id=\"line2d_3\">\r\n      <g>\r\n       <use style=\"stroke:#000000;stroke-width:0.8;\" x=\"167.602613\" xlink:href=\"#mbc0994a8b2\" y=\"224.64\"/>\r\n      </g>\r\n     </g>\r\n     <g id=\"text_3\">\r\n      <!-- 0.4 -->\r\n      <defs>\r\n       <path d=\"M 37.796875 64.3125 \r\nL 12.890625 25.390625 \r\nL 37.796875 25.390625 \r\nz\r\nM 35.203125 72.90625 \r\nL 47.609375 72.90625 \r\nL 47.609375 25.390625 \r\nL 58.015625 25.390625 \r\nL 58.015625 17.1875 \r\nL 47.609375 17.1875 \r\nL 47.609375 0 \r\nL 37.796875 0 \r\nL 37.796875 17.1875 \r\nL 4.890625 17.1875 \r\nL 4.890625 26.703125 \r\nz\r\n\" id=\"DejaVuSans-52\"/>\r\n      </defs>\r\n      <g transform=\"translate(159.65105 239.238437)scale(0.1 -0.1)\">\r\n       <use xlink:href=\"#DejaVuSans-48\"/>\r\n       <use x=\"63.623047\" xlink:href=\"#DejaVuSans-46\"/>\r\n       <use x=\"95.410156\" xlink:href=\"#DejaVuSans-52\"/>\r\n      </g>\r\n     </g>\r\n    </g>\r\n    <g id=\"xtick_4\">\r\n     <g id=\"line2d_4\">\r\n      <g>\r\n       <use style=\"stroke:#000000;stroke-width:0.8;\" x=\"227.403637\" xlink:href=\"#mbc0994a8b2\" y=\"224.64\"/>\r\n      </g>\r\n     </g>\r\n     <g id=\"text_4\">\r\n      <!-- 0.6 -->\r\n      <defs>\r\n       <path d=\"M 33.015625 40.375 \r\nQ 26.375 40.375 22.484375 35.828125 \r\nQ 18.609375 31.296875 18.609375 23.390625 \r\nQ 18.609375 15.53125 22.484375 10.953125 \r\nQ 26.375 6.390625 33.015625 6.390625 \r\nQ 39.65625 6.390625 43.53125 10.953125 \r\nQ 47.40625 15.53125 47.40625 23.390625 \r\nQ 47.40625 31.296875 43.53125 35.828125 \r\nQ 39.65625 40.375 33.015625 40.375 \r\nz\r\nM 52.59375 71.296875 \r\nL 52.59375 62.3125 \r\nQ 48.875 64.0625 45.09375 64.984375 \r\nQ 41.3125 65.921875 37.59375 65.921875 \r\nQ 27.828125 65.921875 22.671875 59.328125 \r\nQ 17.53125 52.734375 16.796875 39.40625 \r\nQ 19.671875 43.65625 24.015625 45.921875 \r\nQ 28.375 48.1875 33.59375 48.1875 \r\nQ 44.578125 48.1875 50.953125 41.515625 \r\nQ 57.328125 34.859375 57.328125 23.390625 \r\nQ 57.328125 12.15625 50.6875 5.359375 \r\nQ 44.046875 -1.421875 33.015625 -1.421875 \r\nQ 20.359375 -1.421875 13.671875 8.265625 \r\nQ 6.984375 17.96875 6.984375 36.375 \r\nQ 6.984375 53.65625 15.1875 63.9375 \r\nQ 23.390625 74.21875 37.203125 74.21875 \r\nQ 40.921875 74.21875 44.703125 73.484375 \r\nQ 48.484375 72.75 52.59375 71.296875 \r\nz\r\n\" id=\"DejaVuSans-54\"/>\r\n      </defs>\r\n      <g transform=\"translate(219.452075 239.238437)scale(0.1 -0.1)\">\r\n       <use xlink:href=\"#DejaVuSans-48\"/>\r\n       <use x=\"63.623047\" xlink:href=\"#DejaVuSans-46\"/>\r\n       <use x=\"95.410156\" xlink:href=\"#DejaVuSans-54\"/>\r\n      </g>\r\n     </g>\r\n    </g>\r\n    <g id=\"xtick_5\">\r\n     <g id=\"line2d_5\">\r\n      <g>\r\n       <use style=\"stroke:#000000;stroke-width:0.8;\" x=\"287.204661\" xlink:href=\"#mbc0994a8b2\" y=\"224.64\"/>\r\n      </g>\r\n     </g>\r\n     <g id=\"text_5\">\r\n      <!-- 0.8 -->\r\n      <defs>\r\n       <path d=\"M 31.78125 34.625 \r\nQ 24.75 34.625 20.71875 30.859375 \r\nQ 16.703125 27.09375 16.703125 20.515625 \r\nQ 16.703125 13.921875 20.71875 10.15625 \r\nQ 24.75 6.390625 31.78125 6.390625 \r\nQ 38.8125 6.390625 42.859375 10.171875 \r\nQ 46.921875 13.96875 46.921875 20.515625 \r\nQ 46.921875 27.09375 42.890625 30.859375 \r\nQ 38.875 34.625 31.78125 34.625 \r\nz\r\nM 21.921875 38.8125 \r\nQ 15.578125 40.375 12.03125 44.71875 \r\nQ 8.5 49.078125 8.5 55.328125 \r\nQ 8.5 64.0625 14.71875 69.140625 \r\nQ 20.953125 74.21875 31.78125 74.21875 \r\nQ 42.671875 74.21875 48.875 69.140625 \r\nQ 55.078125 64.0625 55.078125 55.328125 \r\nQ 55.078125 49.078125 51.53125 44.71875 \r\nQ 48 40.375 41.703125 38.8125 \r\nQ 48.828125 37.15625 52.796875 32.3125 \r\nQ 56.78125 27.484375 56.78125 20.515625 \r\nQ 56.78125 9.90625 50.3125 4.234375 \r\nQ 43.84375 -1.421875 31.78125 -1.421875 \r\nQ 19.734375 -1.421875 13.25 4.234375 \r\nQ 6.78125 9.90625 6.78125 20.515625 \r\nQ 6.78125 27.484375 10.78125 32.3125 \r\nQ 14.796875 37.15625 21.921875 38.8125 \r\nz\r\nM 18.3125 54.390625 \r\nQ 18.3125 48.734375 21.84375 45.5625 \r\nQ 25.390625 42.390625 31.78125 42.390625 \r\nQ 38.140625 42.390625 41.71875 45.5625 \r\nQ 45.3125 48.734375 45.3125 54.390625 \r\nQ 45.3125 60.0625 41.71875 63.234375 \r\nQ 38.140625 66.40625 31.78125 66.40625 \r\nQ 25.390625 66.40625 21.84375 63.234375 \r\nQ 18.3125 60.0625 18.3125 54.390625 \r\nz\r\n\" id=\"DejaVuSans-56\"/>\r\n      </defs>\r\n      <g transform=\"translate(279.253099 239.238437)scale(0.1 -0.1)\">\r\n       <use xlink:href=\"#DejaVuSans-48\"/>\r\n       <use x=\"63.623047\" xlink:href=\"#DejaVuSans-46\"/>\r\n       <use x=\"95.410156\" xlink:href=\"#DejaVuSans-56\"/>\r\n      </g>\r\n     </g>\r\n    </g>\r\n    <g id=\"xtick_6\">\r\n     <g id=\"line2d_6\">\r\n      <g>\r\n       <use style=\"stroke:#000000;stroke-width:0.8;\" x=\"347.005686\" xlink:href=\"#mbc0994a8b2\" y=\"224.64\"/>\r\n      </g>\r\n     </g>\r\n     <g id=\"text_6\">\r\n      <!-- 1.0 -->\r\n      <defs>\r\n       <path d=\"M 12.40625 8.296875 \r\nL 28.515625 8.296875 \r\nL 28.515625 63.921875 \r\nL 10.984375 60.40625 \r\nL 10.984375 69.390625 \r\nL 28.421875 72.90625 \r\nL 38.28125 72.90625 \r\nL 38.28125 8.296875 \r\nL 54.390625 8.296875 \r\nL 54.390625 0 \r\nL 12.40625 0 \r\nz\r\n\" id=\"DejaVuSans-49\"/>\r\n      </defs>\r\n      <g transform=\"translate(339.054123 239.238437)scale(0.1 -0.1)\">\r\n       <use xlink:href=\"#DejaVuSans-49\"/>\r\n       <use x=\"63.623047\" xlink:href=\"#DejaVuSans-46\"/>\r\n       <use x=\"95.410156\" xlink:href=\"#DejaVuSans-48\"/>\r\n      </g>\r\n     </g>\r\n    </g>\r\n   </g>\r\n   <g id=\"matplotlib.axis_2\">\r\n    <g id=\"ytick_1\">\r\n     <g id=\"line2d_7\">\r\n      <defs>\r\n       <path d=\"M 0 0 \r\nL -3.5 0 \r\n\" id=\"mfc419dcab5\" style=\"stroke:#000000;stroke-width:0.8;\"/>\r\n      </defs>\r\n      <g>\r\n       <use style=\"stroke:#000000;stroke-width:0.8;\" x=\"30.103125\" xlink:href=\"#mfc419dcab5\" y=\"212.102326\"/>\r\n      </g>\r\n     </g>\r\n     <g id=\"text_7\">\r\n      <!-- 0.0 -->\r\n      <g transform=\"translate(7.2 215.901545)scale(0.1 -0.1)\">\r\n       <use xlink:href=\"#DejaVuSans-48\"/>\r\n       <use x=\"63.623047\" xlink:href=\"#DejaVuSans-46\"/>\r\n       <use x=\"95.410156\" xlink:href=\"#DejaVuSans-48\"/>\r\n      </g>\r\n     </g>\r\n    </g>\r\n    <g id=\"ytick_2\">\r\n     <g id=\"line2d_8\">\r\n      <g>\r\n       <use style=\"stroke:#000000;stroke-width:0.8;\" x=\"30.103125\" xlink:href=\"#mfc419dcab5\" y=\"173.629396\"/>\r\n      </g>\r\n     </g>\r\n     <g id=\"text_8\">\r\n      <!-- 0.2 -->\r\n      <g transform=\"translate(7.2 177.428614)scale(0.1 -0.1)\">\r\n       <use xlink:href=\"#DejaVuSans-48\"/>\r\n       <use x=\"63.623047\" xlink:href=\"#DejaVuSans-46\"/>\r\n       <use x=\"95.410156\" xlink:href=\"#DejaVuSans-50\"/>\r\n      </g>\r\n     </g>\r\n    </g>\r\n    <g id=\"ytick_3\">\r\n     <g id=\"line2d_9\">\r\n      <g>\r\n       <use style=\"stroke:#000000;stroke-width:0.8;\" x=\"30.103125\" xlink:href=\"#mfc419dcab5\" y=\"135.156465\"/>\r\n      </g>\r\n     </g>\r\n     <g id=\"text_9\">\r\n      <!-- 0.4 -->\r\n      <g transform=\"translate(7.2 138.955684)scale(0.1 -0.1)\">\r\n       <use xlink:href=\"#DejaVuSans-48\"/>\r\n       <use x=\"63.623047\" xlink:href=\"#DejaVuSans-46\"/>\r\n       <use x=\"95.410156\" xlink:href=\"#DejaVuSans-52\"/>\r\n      </g>\r\n     </g>\r\n    </g>\r\n    <g id=\"ytick_4\">\r\n     <g id=\"line2d_10\">\r\n      <g>\r\n       <use style=\"stroke:#000000;stroke-width:0.8;\" x=\"30.103125\" xlink:href=\"#mfc419dcab5\" y=\"96.683535\"/>\r\n      </g>\r\n     </g>\r\n     <g id=\"text_10\">\r\n      <!-- 0.6 -->\r\n      <g transform=\"translate(7.2 100.482754)scale(0.1 -0.1)\">\r\n       <use xlink:href=\"#DejaVuSans-48\"/>\r\n       <use x=\"63.623047\" xlink:href=\"#DejaVuSans-46\"/>\r\n       <use x=\"95.410156\" xlink:href=\"#DejaVuSans-54\"/>\r\n      </g>\r\n     </g>\r\n    </g>\r\n    <g id=\"ytick_5\">\r\n     <g id=\"line2d_11\">\r\n      <g>\r\n       <use style=\"stroke:#000000;stroke-width:0.8;\" x=\"30.103125\" xlink:href=\"#mfc419dcab5\" y=\"58.210604\"/>\r\n      </g>\r\n     </g>\r\n     <g id=\"text_11\">\r\n      <!-- 0.8 -->\r\n      <g transform=\"translate(7.2 62.009823)scale(0.1 -0.1)\">\r\n       <use xlink:href=\"#DejaVuSans-48\"/>\r\n       <use x=\"63.623047\" xlink:href=\"#DejaVuSans-46\"/>\r\n       <use x=\"95.410156\" xlink:href=\"#DejaVuSans-56\"/>\r\n      </g>\r\n     </g>\r\n    </g>\r\n    <g id=\"ytick_6\">\r\n     <g id=\"line2d_12\">\r\n      <g>\r\n       <use style=\"stroke:#000000;stroke-width:0.8;\" x=\"30.103125\" xlink:href=\"#mfc419dcab5\" y=\"19.737674\"/>\r\n      </g>\r\n     </g>\r\n     <g id=\"text_12\">\r\n      <!-- 1.0 -->\r\n      <g transform=\"translate(7.2 23.536893)scale(0.1 -0.1)\">\r\n       <use xlink:href=\"#DejaVuSans-49\"/>\r\n       <use x=\"63.623047\" xlink:href=\"#DejaVuSans-46\"/>\r\n       <use x=\"95.410156\" xlink:href=\"#DejaVuSans-48\"/>\r\n      </g>\r\n     </g>\r\n    </g>\r\n   </g>\r\n   <g id=\"patch_3\">\r\n    <path d=\"M 30.103125 224.64 \r\nL 30.103125 7.2 \r\n\" style=\"fill:none;stroke:#000000;stroke-linecap:square;stroke-linejoin:miter;stroke-width:0.8;\"/>\r\n   </g>\r\n   <g id=\"patch_4\">\r\n    <path d=\"M 364.903125 224.64 \r\nL 364.903125 7.2 \r\n\" style=\"fill:none;stroke:#000000;stroke-linecap:square;stroke-linejoin:miter;stroke-width:0.8;\"/>\r\n   </g>\r\n   <g id=\"patch_5\">\r\n    <path d=\"M 30.103125 224.64 \r\nL 364.903125 224.64 \r\n\" style=\"fill:none;stroke:#000000;stroke-linecap:square;stroke-linejoin:miter;stroke-width:0.8;\"/>\r\n   </g>\r\n   <g id=\"patch_6\">\r\n    <path d=\"M 30.103125 7.2 \r\nL 364.903125 7.2 \r\n\" style=\"fill:none;stroke:#000000;stroke-linecap:square;stroke-linejoin:miter;stroke-width:0.8;\"/>\r\n   </g>\r\n  </g>\r\n </g>\r\n <defs>\r\n  <clipPath id=\"pd3efd073e6\">\r\n   <rect height=\"217.44\" width=\"334.8\" x=\"30.103125\" y=\"7.2\"/>\r\n  </clipPath>\r\n </defs>\r\n</svg>\r\n",
      "image/png": "[encoded data removed]"
     },
     "metadata": {
      "needs_background": "light"
     }
    }
   ],
   "source": [
    "plt.scatter(X[:,0], X[:,1])\n",
    "plt.show()"
   ]
  },
  {
   "cell_type": "code",
   "execution_count": 25,
   "metadata": {},
   "outputs": [
    {
     "output_type": "execute_result",
     "data": {
      "text/plain": "0.5081632653061224"
     },
     "metadata": {},
     "execution_count": 25
    }
   ],
   "source": [
    "np.mean(X[:,0])"
   ]
  },
  {
   "cell_type": "code",
   "execution_count": 12,
   "metadata": {},
   "outputs": [
    {
     "output_type": "execute_result",
     "data": {
      "text/plain": "0.29073575683062286"
     },
     "metadata": {},
     "execution_count": 12
    }
   ],
   "source": [
    "np.std(X[:,0])"
   ]
  },
  {
   "cell_type": "code",
   "execution_count": 13,
   "metadata": {},
   "outputs": [
    {
     "output_type": "execute_result",
     "data": {
      "text/plain": "0.4412765957446808"
     },
     "metadata": {},
     "execution_count": 13
    }
   ],
   "source": [
    "np.mean(X[:,1])"
   ]
  },
  {
   "cell_type": "code",
   "execution_count": 14,
   "metadata": {},
   "outputs": [
    {
     "output_type": "execute_result",
     "data": {
      "text/plain": "0.2656103266657896"
     },
     "metadata": {},
     "execution_count": 14
    }
   ],
   "source": [
    "np.std(X[:,1])"
   ]
  },
  {
   "cell_type": "markdown",
   "metadata": {},
   "source": [
    "### 均值方差归一化 Standardization"
   ]
  },
  {
   "cell_type": "code",
   "execution_count": 15,
   "metadata": {
    "collapsed": true
   },
   "outputs": [],
   "source": [
    "X2 = np.random.randint(0, 100, (50, 2))"
   ]
  },
  {
   "cell_type": "code",
   "execution_count": 16,
   "metadata": {
    "collapsed": true
   },
   "outputs": [],
   "source": [
    "X2 = np.array(X2, dtype=float)"
   ]
  },
  {
   "cell_type": "code",
   "execution_count": 17,
   "metadata": {},
   "outputs": [
    {
     "output_type": "execute_result",
     "data": {
      "text/plain": "array([[87., 12.],\n       [89., 13.],\n       [ 6., 25.],\n       [95., 75.],\n       [12., 55.],\n       [23., 60.],\n       [29., 62.],\n       [28., 91.],\n       [69., 48.],\n       [99., 15.]])"
     },
     "metadata": {},
     "execution_count": 17
    }
   ],
   "source": [
    "X2[:10,:]"
   ]
  },
  {
   "cell_type": "code",
   "execution_count": 18,
   "metadata": {
    "collapsed": true
   },
   "outputs": [],
   "source": [
    "# 均值方差归一化，使用numpy中的std函数\n",
    "X2[:,0] = (X2[:,0] - np.mean(X2[:,0])) / np.std(X2[:,0])\n",
    "X2[:,1] = (X2[:,1] - np.mean(X2[:,1])) / np.std(X2[:,1])"
   ]
  },
  {
   "cell_type": "code",
   "execution_count": 26,
   "metadata": {},
   "outputs": [
    {
     "output_type": "display_data",
     "data": {
      "text/plain": "<Figure size 432x288 with 1 Axes>",
      "image/svg+xml": "<?xml version=\"1.0\" encoding=\"utf-8\" standalone=\"no\"?>\r\n<!DOCTYPE svg PUBLIC \"-//W3C//DTD SVG 1.1//EN\"\r\n  \"http://www.w3.org/Graphics/SVG/1.1/DTD/svg11.dtd\">\r\n<!-- Created with matplotlib (https://matplotlib.org/) -->\r\n<svg height=\"248.518125pt\" version=\"1.1\" viewBox=\"0 0 380.482813 248.518125\" width=\"380.482813pt\" xmlns=\"http://www.w3.org/2000/svg\" xmlns:xlink=\"http://www.w3.org/1999/xlink\">\r\n <defs>\r\n  <style type=\"text/css\">\r\n*{stroke-linecap:butt;stroke-linejoin:round;}\r\n  </style>\r\n </defs>\r\n <g id=\"figure_1\">\r\n  <g id=\"patch_1\">\r\n   <path d=\"M -0 248.518125 \r\nL 380.482813 248.518125 \r\nL 380.482813 0 \r\nL -0 0 \r\nz\r\n\" style=\"fill:none;\"/>\r\n  </g>\r\n  <g id=\"axes_1\">\r\n   <g id=\"patch_2\">\r\n    <path d=\"M 38.482813 224.64 \r\nL 373.282813 224.64 \r\nL 373.282813 7.2 \r\nL 38.482813 7.2 \r\nz\r\n\" style=\"fill:#ffffff;\"/>\r\n   </g>\r\n   <g id=\"PathCollection_1\">\r\n    <defs>\r\n     <path d=\"M 0 3 \r\nC 0.795609 3 1.55874 2.683901 2.12132 2.12132 \r\nC 2.683901 1.55874 3 0.795609 3 0 \r\nC 3 -0.795609 2.683901 -1.55874 2.12132 -2.12132 \r\nC 1.55874 -2.683901 0.795609 -3 0 -3 \r\nC -0.795609 -3 -1.55874 -2.683901 -2.12132 -2.12132 \r\nC -2.683901 -1.55874 -3 -0.795609 -3 0 \r\nC -3 0.795609 -2.683901 1.55874 -2.12132 2.12132 \r\nC -1.55874 2.683901 -0.795609 3 0 3 \r\nz\r\n\" id=\"m8ce1d5bffb\" style=\"stroke:#1f77b4;\"/>\r\n    </defs>\r\n    <g clip-path=\"url(#pba980ef39a)\">\r\n     <use style=\"fill:#1f77b4;stroke:#1f77b4;\" x=\"319.349993\" xlink:href=\"#m8ce1d5bffb\" y=\"188.903445\"/>\r\n     <use style=\"fill:#1f77b4;stroke:#1f77b4;\" x=\"325.653726\" xlink:href=\"#m8ce1d5bffb\" y=\"186.818203\"/>\r\n     <use style=\"fill:#1f77b4;stroke:#1f77b4;\" x=\"64.048837\" xlink:href=\"#m8ce1d5bffb\" y=\"161.795308\"/>\r\n     <use style=\"fill:#1f77b4;stroke:#1f77b4;\" x=\"344.564922\" xlink:href=\"#m8ce1d5bffb\" y=\"57.533244\"/>\r\n     <use style=\"fill:#1f77b4;stroke:#1f77b4;\" x=\"82.960033\" xlink:href=\"#m8ce1d5bffb\" y=\"99.23807\"/>\r\n     <use style=\"fill:#1f77b4;stroke:#1f77b4;\" x=\"117.630561\" xlink:href=\"#m8ce1d5bffb\" y=\"88.811863\"/>\r\n     <use style=\"fill:#1f77b4;stroke:#1f77b4;\" x=\"136.541758\" xlink:href=\"#m8ce1d5bffb\" y=\"84.641381\"/>\r\n     <use style=\"fill:#1f77b4;stroke:#1f77b4;\" x=\"133.389891\" xlink:href=\"#m8ce1d5bffb\" y=\"24.169384\"/>\r\n     <use style=\"fill:#1f77b4;stroke:#1f77b4;\" x=\"262.616403\" xlink:href=\"#m8ce1d5bffb\" y=\"113.834759\"/>\r\n     <use style=\"fill:#1f77b4;stroke:#1f77b4;\" x=\"357.172387\" xlink:href=\"#m8ce1d5bffb\" y=\"182.647721\"/>\r\n     <use style=\"fill:#1f77b4;stroke:#1f77b4;\" x=\"105.023096\" xlink:href=\"#m8ce1d5bffb\" y=\"74.215174\"/>\r\n     <use style=\"fill:#1f77b4;stroke:#1f77b4;\" x=\"76.656301\" xlink:href=\"#m8ce1d5bffb\" y=\"101.323311\"/>\r\n     <use style=\"fill:#1f77b4;stroke:#1f77b4;\" x=\"76.656301\" xlink:href=\"#m8ce1d5bffb\" y=\"213.92634\"/>\r\n     <use style=\"fill:#1f77b4;stroke:#1f77b4;\" x=\"335.109324\" xlink:href=\"#m8ce1d5bffb\" y=\"42.936555\"/>\r\n     <use style=\"fill:#1f77b4;stroke:#1f77b4;\" x=\"272.072001\" xlink:href=\"#m8ce1d5bffb\" y=\"199.329651\"/>\r\n     <use style=\"fill:#1f77b4;stroke:#1f77b4;\" x=\"354.020521\" xlink:href=\"#m8ce1d5bffb\" y=\"190.988686\"/>\r\n     <use style=\"fill:#1f77b4;stroke:#1f77b4;\" x=\"70.352569\" xlink:href=\"#m8ce1d5bffb\" y=\"118.005241\"/>\r\n     <use style=\"fill:#1f77b4;stroke:#1f77b4;\" x=\"180.667883\" xlink:href=\"#m8ce1d5bffb\" y=\"40.851314\"/>\r\n     <use style=\"fill:#1f77b4;stroke:#1f77b4;\" x=\"246.857072\" xlink:href=\"#m8ce1d5bffb\" y=\"165.965791\"/>\r\n     <use style=\"fill:#1f77b4;stroke:#1f77b4;\" x=\"180.667883\" xlink:href=\"#m8ce1d5bffb\" y=\"143.028137\"/>\r\n     <use style=\"fill:#1f77b4;stroke:#1f77b4;\" x=\"227.945875\" xlink:href=\"#m8ce1d5bffb\" y=\"203.500134\"/>\r\n     <use style=\"fill:#1f77b4;stroke:#1f77b4;\" x=\"171.212285\" xlink:href=\"#m8ce1d5bffb\" y=\"17.91366\"/>\r\n     <use style=\"fill:#1f77b4;stroke:#1f77b4;\" x=\"145.997356\" xlink:href=\"#m8ce1d5bffb\" y=\"211.841099\"/>\r\n     <use style=\"fill:#1f77b4;stroke:#1f77b4;\" x=\"303.590663\" xlink:href=\"#m8ce1d5bffb\" y=\"82.55614\"/>\r\n     <use style=\"fill:#1f77b4;stroke:#1f77b4;\" x=\"108.174962\" xlink:href=\"#m8ce1d5bffb\" y=\"193.073927\"/>\r\n     <use style=\"fill:#1f77b4;stroke:#1f77b4;\" x=\"227.945875\" xlink:href=\"#m8ce1d5bffb\" y=\"42.936555\"/>\r\n     <use style=\"fill:#1f77b4;stroke:#1f77b4;\" x=\"357.172387\" xlink:href=\"#m8ce1d5bffb\" y=\"168.051032\"/>\r\n     <use style=\"fill:#1f77b4;stroke:#1f77b4;\" x=\"243.705206\" xlink:href=\"#m8ce1d5bffb\" y=\"203.500134\"/>\r\n     <use style=\"fill:#1f77b4;stroke:#1f77b4;\" x=\"111.326829\" xlink:href=\"#m8ce1d5bffb\" y=\"92.982346\"/>\r\n     <use style=\"fill:#1f77b4;stroke:#1f77b4;\" x=\"265.768269\" xlink:href=\"#m8ce1d5bffb\" y=\"120.090483\"/>\r\n     <use style=\"fill:#1f77b4;stroke:#1f77b4;\" x=\"328.805592\" xlink:href=\"#m8ce1d5bffb\" y=\"172.221514\"/>\r\n     <use style=\"fill:#1f77b4;stroke:#1f77b4;\" x=\"73.504435\" xlink:href=\"#m8ce1d5bffb\" y=\"40.851314\"/>\r\n     <use style=\"fill:#1f77b4;stroke:#1f77b4;\" x=\"130.238025\" xlink:href=\"#m8ce1d5bffb\" y=\"147.198619\"/>\r\n     <use style=\"fill:#1f77b4;stroke:#1f77b4;\" x=\"265.768269\" xlink:href=\"#m8ce1d5bffb\" y=\"193.073927\"/>\r\n     <use style=\"fill:#1f77b4;stroke:#1f77b4;\" x=\"347.716788\" xlink:href=\"#m8ce1d5bffb\" y=\"111.749517\"/>\r\n     <use style=\"fill:#1f77b4;stroke:#1f77b4;\" x=\"313.046261\" xlink:href=\"#m8ce1d5bffb\" y=\"140.942895\"/>\r\n     <use style=\"fill:#1f77b4;stroke:#1f77b4;\" x=\"341.413056\" xlink:href=\"#m8ce1d5bffb\" y=\"45.021797\"/>\r\n     <use style=\"fill:#1f77b4;stroke:#1f77b4;\" x=\"262.616403\" xlink:href=\"#m8ce1d5bffb\" y=\"57.533244\"/>\r\n     <use style=\"fill:#1f77b4;stroke:#1f77b4;\" x=\"202.730946\" xlink:href=\"#m8ce1d5bffb\" y=\"163.880549\"/>\r\n     <use style=\"fill:#1f77b4;stroke:#1f77b4;\" x=\"262.616403\" xlink:href=\"#m8ce1d5bffb\" y=\"199.329651\"/>\r\n     <use style=\"fill:#1f77b4;stroke:#1f77b4;\" x=\"218.490277\" xlink:href=\"#m8ce1d5bffb\" y=\"78.385657\"/>\r\n     <use style=\"fill:#1f77b4;stroke:#1f77b4;\" x=\"64.048837\" xlink:href=\"#m8ce1d5bffb\" y=\"55.448003\"/>\r\n     <use style=\"fill:#1f77b4;stroke:#1f77b4;\" x=\"130.238025\" xlink:href=\"#m8ce1d5bffb\" y=\"120.090483\"/>\r\n     <use style=\"fill:#1f77b4;stroke:#1f77b4;\" x=\"164.908553\" xlink:href=\"#m8ce1d5bffb\" y=\"36.680832\"/>\r\n     <use style=\"fill:#1f77b4;stroke:#1f77b4;\" x=\"227.945875\" xlink:href=\"#m8ce1d5bffb\" y=\"147.198619\"/>\r\n     <use style=\"fill:#1f77b4;stroke:#1f77b4;\" x=\"205.882813\" xlink:href=\"#m8ce1d5bffb\" y=\"201.414892\"/>\r\n     <use style=\"fill:#1f77b4;stroke:#1f77b4;\" x=\"73.504435\" xlink:href=\"#m8ce1d5bffb\" y=\"132.60193\"/>\r\n     <use style=\"fill:#1f77b4;stroke:#1f77b4;\" x=\"54.593238\" xlink:href=\"#m8ce1d5bffb\" y=\"17.91366\"/>\r\n     <use style=\"fill:#1f77b4;stroke:#1f77b4;\" x=\"67.200703\" xlink:href=\"#m8ce1d5bffb\" y=\"109.664276\"/>\r\n     <use style=\"fill:#1f77b4;stroke:#1f77b4;\" x=\"325.653726\" xlink:href=\"#m8ce1d5bffb\" y=\"140.942895\"/>\r\n    </g>\r\n   </g>\r\n   <g id=\"matplotlib.axis_1\">\r\n    <g id=\"xtick_1\">\r\n     <g id=\"line2d_1\">\r\n      <defs>\r\n       <path d=\"M 0 0 \r\nL 0 3.5 \r\n\" id=\"m6d3332120a\" style=\"stroke:#000000;stroke-width:0.8;\"/>\r\n      </defs>\r\n      <g>\r\n       <use style=\"stroke:#000000;stroke-width:0.8;\" x=\"55.953861\" xlink:href=\"#m6d3332120a\" y=\"224.64\"/>\r\n      </g>\r\n     </g>\r\n     <g id=\"text_1\">\r\n      <!-- −1.5 -->\r\n      <defs>\r\n       <path d=\"M 10.59375 35.5 \r\nL 73.1875 35.5 \r\nL 73.1875 27.203125 \r\nL 10.59375 27.203125 \r\nz\r\n\" id=\"DejaVuSans-8722\"/>\r\n       <path d=\"M 12.40625 8.296875 \r\nL 28.515625 8.296875 \r\nL 28.515625 63.921875 \r\nL 10.984375 60.40625 \r\nL 10.984375 69.390625 \r\nL 28.421875 72.90625 \r\nL 38.28125 72.90625 \r\nL 38.28125 8.296875 \r\nL 54.390625 8.296875 \r\nL 54.390625 0 \r\nL 12.40625 0 \r\nz\r\n\" id=\"DejaVuSans-49\"/>\r\n       <path d=\"M 10.6875 12.40625 \r\nL 21 12.40625 \r\nL 21 0 \r\nL 10.6875 0 \r\nz\r\n\" id=\"DejaVuSans-46\"/>\r\n       <path d=\"M 10.796875 72.90625 \r\nL 49.515625 72.90625 \r\nL 49.515625 64.59375 \r\nL 19.828125 64.59375 \r\nL 19.828125 46.734375 \r\nQ 21.96875 47.46875 24.109375 47.828125 \r\nQ 26.265625 48.1875 28.421875 48.1875 \r\nQ 40.625 48.1875 47.75 41.5 \r\nQ 54.890625 34.8125 54.890625 23.390625 \r\nQ 54.890625 11.625 47.5625 5.09375 \r\nQ 40.234375 -1.421875 26.90625 -1.421875 \r\nQ 22.3125 -1.421875 17.546875 -0.640625 \r\nQ 12.796875 0.140625 7.71875 1.703125 \r\nL 7.71875 11.625 \r\nQ 12.109375 9.234375 16.796875 8.0625 \r\nQ 21.484375 6.890625 26.703125 6.890625 \r\nQ 35.15625 6.890625 40.078125 11.328125 \r\nQ 45.015625 15.765625 45.015625 23.390625 \r\nQ 45.015625 31 40.078125 35.4375 \r\nQ 35.15625 39.890625 26.703125 39.890625 \r\nQ 22.75 39.890625 18.8125 39.015625 \r\nQ 14.890625 38.140625 10.796875 36.28125 \r\nz\r\n\" id=\"DejaVuSans-53\"/>\r\n      </defs>\r\n      <g transform=\"translate(43.812455 239.238438)scale(0.1 -0.1)\">\r\n       <use xlink:href=\"#DejaVuSans-8722\"/>\r\n       <use x=\"83.789062\" xlink:href=\"#DejaVuSans-49\"/>\r\n       <use x=\"147.412109\" xlink:href=\"#DejaVuSans-46\"/>\r\n       <use x=\"179.199219\" xlink:href=\"#DejaVuSans-53\"/>\r\n      </g>\r\n     </g>\r\n    </g>\r\n    <g id=\"xtick_2\">\r\n     <g id=\"line2d_2\">\r\n      <g>\r\n       <use style=\"stroke:#000000;stroke-width:0.8;\" x=\"105.741066\" xlink:href=\"#m6d3332120a\" y=\"224.64\"/>\r\n      </g>\r\n     </g>\r\n     <g id=\"text_2\">\r\n      <!-- −1.0 -->\r\n      <defs>\r\n       <path d=\"M 31.78125 66.40625 \r\nQ 24.171875 66.40625 20.328125 58.90625 \r\nQ 16.5 51.421875 16.5 36.375 \r\nQ 16.5 21.390625 20.328125 13.890625 \r\nQ 24.171875 6.390625 31.78125 6.390625 \r\nQ 39.453125 6.390625 43.28125 13.890625 \r\nQ 47.125 21.390625 47.125 36.375 \r\nQ 47.125 51.421875 43.28125 58.90625 \r\nQ 39.453125 66.40625 31.78125 66.40625 \r\nz\r\nM 31.78125 74.21875 \r\nQ 44.046875 74.21875 50.515625 64.515625 \r\nQ 56.984375 54.828125 56.984375 36.375 \r\nQ 56.984375 17.96875 50.515625 8.265625 \r\nQ 44.046875 -1.421875 31.78125 -1.421875 \r\nQ 19.53125 -1.421875 13.0625 8.265625 \r\nQ 6.59375 17.96875 6.59375 36.375 \r\nQ 6.59375 54.828125 13.0625 64.515625 \r\nQ 19.53125 74.21875 31.78125 74.21875 \r\nz\r\n\" id=\"DejaVuSans-48\"/>\r\n      </defs>\r\n      <g transform=\"translate(93.59966 239.238438)scale(0.1 -0.1)\">\r\n       <use xlink:href=\"#DejaVuSans-8722\"/>\r\n       <use x=\"83.789062\" xlink:href=\"#DejaVuSans-49\"/>\r\n       <use x=\"147.412109\" xlink:href=\"#DejaVuSans-46\"/>\r\n       <use x=\"179.199219\" xlink:href=\"#DejaVuSans-48\"/>\r\n      </g>\r\n     </g>\r\n    </g>\r\n    <g id=\"xtick_3\">\r\n     <g id=\"line2d_3\">\r\n      <g>\r\n       <use style=\"stroke:#000000;stroke-width:0.8;\" x=\"155.528272\" xlink:href=\"#m6d3332120a\" y=\"224.64\"/>\r\n      </g>\r\n     </g>\r\n     <g id=\"text_3\">\r\n      <!-- −0.5 -->\r\n      <g transform=\"translate(143.386865 239.238438)scale(0.1 -0.1)\">\r\n       <use xlink:href=\"#DejaVuSans-8722\"/>\r\n       <use x=\"83.789062\" xlink:href=\"#DejaVuSans-48\"/>\r\n       <use x=\"147.412109\" xlink:href=\"#DejaVuSans-46\"/>\r\n       <use x=\"179.199219\" xlink:href=\"#DejaVuSans-53\"/>\r\n      </g>\r\n     </g>\r\n    </g>\r\n    <g id=\"xtick_4\">\r\n     <g id=\"line2d_4\">\r\n      <g>\r\n       <use style=\"stroke:#000000;stroke-width:0.8;\" x=\"205.315477\" xlink:href=\"#m6d3332120a\" y=\"224.64\"/>\r\n      </g>\r\n     </g>\r\n     <g id=\"text_4\">\r\n      <!-- 0.0 -->\r\n      <g transform=\"translate(197.363914 239.238438)scale(0.1 -0.1)\">\r\n       <use xlink:href=\"#DejaVuSans-48\"/>\r\n       <use x=\"63.623047\" xlink:href=\"#DejaVuSans-46\"/>\r\n       <use x=\"95.410156\" xlink:href=\"#DejaVuSans-48\"/>\r\n      </g>\r\n     </g>\r\n    </g>\r\n    <g id=\"xtick_5\">\r\n     <g id=\"line2d_5\">\r\n      <g>\r\n       <use style=\"stroke:#000000;stroke-width:0.8;\" x=\"255.102682\" xlink:href=\"#m6d3332120a\" y=\"224.64\"/>\r\n      </g>\r\n     </g>\r\n     <g id=\"text_5\">\r\n      <!-- 0.5 -->\r\n      <g transform=\"translate(247.151119 239.238438)scale(0.1 -0.1)\">\r\n       <use xlink:href=\"#DejaVuSans-48\"/>\r\n       <use x=\"63.623047\" xlink:href=\"#DejaVuSans-46\"/>\r\n       <use x=\"95.410156\" xlink:href=\"#DejaVuSans-53\"/>\r\n      </g>\r\n     </g>\r\n    </g>\r\n    <g id=\"xtick_6\">\r\n     <g id=\"line2d_6\">\r\n      <g>\r\n       <use style=\"stroke:#000000;stroke-width:0.8;\" x=\"304.889887\" xlink:href=\"#m6d3332120a\" y=\"224.64\"/>\r\n      </g>\r\n     </g>\r\n     <g id=\"text_6\">\r\n      <!-- 1.0 -->\r\n      <g transform=\"translate(296.938324 239.238438)scale(0.1 -0.1)\">\r\n       <use xlink:href=\"#DejaVuSans-49\"/>\r\n       <use x=\"63.623047\" xlink:href=\"#DejaVuSans-46\"/>\r\n       <use x=\"95.410156\" xlink:href=\"#DejaVuSans-48\"/>\r\n      </g>\r\n     </g>\r\n    </g>\r\n    <g id=\"xtick_7\">\r\n     <g id=\"line2d_7\">\r\n      <g>\r\n       <use style=\"stroke:#000000;stroke-width:0.8;\" x=\"354.677092\" xlink:href=\"#m6d3332120a\" y=\"224.64\"/>\r\n      </g>\r\n     </g>\r\n     <g id=\"text_7\">\r\n      <!-- 1.5 -->\r\n      <g transform=\"translate(346.725529 239.238438)scale(0.1 -0.1)\">\r\n       <use xlink:href=\"#DejaVuSans-49\"/>\r\n       <use x=\"63.623047\" xlink:href=\"#DejaVuSans-46\"/>\r\n       <use x=\"95.410156\" xlink:href=\"#DejaVuSans-53\"/>\r\n      </g>\r\n     </g>\r\n    </g>\r\n   </g>\r\n   <g id=\"matplotlib.axis_2\">\r\n    <g id=\"ytick_1\">\r\n     <g id=\"line2d_8\">\r\n      <defs>\r\n       <path d=\"M 0 0 \r\nL -3.5 0 \r\n\" id=\"mbe6297d3dd\" style=\"stroke:#000000;stroke-width:0.8;\"/>\r\n      </defs>\r\n      <g>\r\n       <use style=\"stroke:#000000;stroke-width:0.8;\" x=\"38.482813\" xlink:href=\"#mbe6297d3dd\" y=\"212.791244\"/>\r\n      </g>\r\n     </g>\r\n     <g id=\"text_8\">\r\n      <!-- −1.5 -->\r\n      <g transform=\"translate(7.2 216.590463)scale(0.1 -0.1)\">\r\n       <use xlink:href=\"#DejaVuSans-8722\"/>\r\n       <use x=\"83.789062\" xlink:href=\"#DejaVuSans-49\"/>\r\n       <use x=\"147.412109\" xlink:href=\"#DejaVuSans-46\"/>\r\n       <use x=\"179.199219\" xlink:href=\"#DejaVuSans-53\"/>\r\n      </g>\r\n     </g>\r\n    </g>\r\n    <g id=\"ytick_2\">\r\n     <g id=\"line2d_9\">\r\n      <g>\r\n       <use style=\"stroke:#000000;stroke-width:0.8;\" x=\"38.482813\" xlink:href=\"#mbe6297d3dd\" y=\"182.711185\"/>\r\n      </g>\r\n     </g>\r\n     <g id=\"text_9\">\r\n      <!-- −1.0 -->\r\n      <g transform=\"translate(7.2 186.510404)scale(0.1 -0.1)\">\r\n       <use xlink:href=\"#DejaVuSans-8722\"/>\r\n       <use x=\"83.789062\" xlink:href=\"#DejaVuSans-49\"/>\r\n       <use x=\"147.412109\" xlink:href=\"#DejaVuSans-46\"/>\r\n       <use x=\"179.199219\" xlink:href=\"#DejaVuSans-48\"/>\r\n      </g>\r\n     </g>\r\n    </g>\r\n    <g id=\"ytick_3\">\r\n     <g id=\"line2d_10\">\r\n      <g>\r\n       <use style=\"stroke:#000000;stroke-width:0.8;\" x=\"38.482813\" xlink:href=\"#mbe6297d3dd\" y=\"152.631126\"/>\r\n      </g>\r\n     </g>\r\n     <g id=\"text_10\">\r\n      <!-- −0.5 -->\r\n      <g transform=\"translate(7.2 156.430345)scale(0.1 -0.1)\">\r\n       <use xlink:href=\"#DejaVuSans-8722\"/>\r\n       <use x=\"83.789062\" xlink:href=\"#DejaVuSans-48\"/>\r\n       <use x=\"147.412109\" xlink:href=\"#DejaVuSans-46\"/>\r\n       <use x=\"179.199219\" xlink:href=\"#DejaVuSans-53\"/>\r\n      </g>\r\n     </g>\r\n    </g>\r\n    <g id=\"ytick_4\">\r\n     <g id=\"line2d_11\">\r\n      <g>\r\n       <use style=\"stroke:#000000;stroke-width:0.8;\" x=\"38.482813\" xlink:href=\"#mbe6297d3dd\" y=\"122.551067\"/>\r\n      </g>\r\n     </g>\r\n     <g id=\"text_11\">\r\n      <!-- 0.0 -->\r\n      <g transform=\"translate(15.579688 126.350286)scale(0.1 -0.1)\">\r\n       <use xlink:href=\"#DejaVuSans-48\"/>\r\n       <use x=\"63.623047\" xlink:href=\"#DejaVuSans-46\"/>\r\n       <use x=\"95.410156\" xlink:href=\"#DejaVuSans-48\"/>\r\n      </g>\r\n     </g>\r\n    </g>\r\n    <g id=\"ytick_5\">\r\n     <g id=\"line2d_12\">\r\n      <g>\r\n       <use style=\"stroke:#000000;stroke-width:0.8;\" x=\"38.482813\" xlink:href=\"#mbe6297d3dd\" y=\"92.471008\"/>\r\n      </g>\r\n     </g>\r\n     <g id=\"text_12\">\r\n      <!-- 0.5 -->\r\n      <g transform=\"translate(15.579688 96.270227)scale(0.1 -0.1)\">\r\n       <use xlink:href=\"#DejaVuSans-48\"/>\r\n       <use x=\"63.623047\" xlink:href=\"#DejaVuSans-46\"/>\r\n       <use x=\"95.410156\" xlink:href=\"#DejaVuSans-53\"/>\r\n      </g>\r\n     </g>\r\n    </g>\r\n    <g id=\"ytick_6\">\r\n     <g id=\"line2d_13\">\r\n      <g>\r\n       <use style=\"stroke:#000000;stroke-width:0.8;\" x=\"38.482813\" xlink:href=\"#mbe6297d3dd\" y=\"62.390949\"/>\r\n      </g>\r\n     </g>\r\n     <g id=\"text_13\">\r\n      <!-- 1.0 -->\r\n      <g transform=\"translate(15.579688 66.190168)scale(0.1 -0.1)\">\r\n       <use xlink:href=\"#DejaVuSans-49\"/>\r\n       <use x=\"63.623047\" xlink:href=\"#DejaVuSans-46\"/>\r\n       <use x=\"95.410156\" xlink:href=\"#DejaVuSans-48\"/>\r\n      </g>\r\n     </g>\r\n    </g>\r\n    <g id=\"ytick_7\">\r\n     <g id=\"line2d_14\">\r\n      <g>\r\n       <use style=\"stroke:#000000;stroke-width:0.8;\" x=\"38.482813\" xlink:href=\"#mbe6297d3dd\" y=\"32.31089\"/>\r\n      </g>\r\n     </g>\r\n     <g id=\"text_14\">\r\n      <!-- 1.5 -->\r\n      <g transform=\"translate(15.579688 36.110109)scale(0.1 -0.1)\">\r\n       <use xlink:href=\"#DejaVuSans-49\"/>\r\n       <use x=\"63.623047\" xlink:href=\"#DejaVuSans-46\"/>\r\n       <use x=\"95.410156\" xlink:href=\"#DejaVuSans-53\"/>\r\n      </g>\r\n     </g>\r\n    </g>\r\n   </g>\r\n   <g id=\"patch_3\">\r\n    <path d=\"M 38.482813 224.64 \r\nL 38.482813 7.2 \r\n\" style=\"fill:none;stroke:#000000;stroke-linecap:square;stroke-linejoin:miter;stroke-width:0.8;\"/>\r\n   </g>\r\n   <g id=\"patch_4\">\r\n    <path d=\"M 373.282813 224.64 \r\nL 373.282813 7.2 \r\n\" style=\"fill:none;stroke:#000000;stroke-linecap:square;stroke-linejoin:miter;stroke-width:0.8;\"/>\r\n   </g>\r\n   <g id=\"patch_5\">\r\n    <path d=\"M 38.482812 224.64 \r\nL 373.282813 224.64 \r\n\" style=\"fill:none;stroke:#000000;stroke-linecap:square;stroke-linejoin:miter;stroke-width:0.8;\"/>\r\n   </g>\r\n   <g id=\"patch_6\">\r\n    <path d=\"M 38.482812 7.2 \r\nL 373.282813 7.2 \r\n\" style=\"fill:none;stroke:#000000;stroke-linecap:square;stroke-linejoin:miter;stroke-width:0.8;\"/>\r\n   </g>\r\n  </g>\r\n </g>\r\n <defs>\r\n  <clipPath id=\"pba980ef39a\">\r\n   <rect height=\"217.44\" width=\"334.8\" x=\"38.482813\" y=\"7.2\"/>\r\n  </clipPath>\r\n </defs>\r\n</svg>\r\n",
      "image/png": "[encoded data removed]"
     },
     "metadata": {
      "needs_background": "light"
     }
    }
   ],
   "source": [
    "plt.scatter(X2[:,0], X2[:,1])\n",
    "plt.show()"
   ]
  },
  {
   "cell_type": "code",
   "execution_count": 27,
   "metadata": {},
   "outputs": [
    {
     "output_type": "execute_result",
     "data": {
      "text/plain": "-8.881784197001253e-18"
     },
     "metadata": {},
     "execution_count": 27
    }
   ],
   "source": [
    "np.mean(X2[:,0])"
   ]
  },
  {
   "cell_type": "code",
   "execution_count": 28,
   "metadata": {},
   "outputs": [
    {
     "output_type": "execute_result",
     "data": {
      "text/plain": "1.0"
     },
     "metadata": {},
     "execution_count": 28
    }
   ],
   "source": [
    "np.std(X2[:,0])"
   ]
  },
  {
   "cell_type": "code",
   "execution_count": 22,
   "metadata": {},
   "outputs": [
    {
     "output_type": "execute_result",
     "data": {
      "text/plain": "-4.440892098500626e-18"
     },
     "metadata": {},
     "execution_count": 22
    }
   ],
   "source": [
    "np.mean(X2[:,1])"
   ]
  },
  {
   "cell_type": "code",
   "execution_count": 23,
   "metadata": {},
   "outputs": [
    {
     "output_type": "execute_result",
     "data": {
      "text/plain": "1.0"
     },
     "metadata": {},
     "execution_count": 23
    }
   ],
   "source": [
    "np.std(X2[:,1])"
   ]
  }
 ],
 "metadata": {
  "kernelspec": {
   "display_name": "Python 3.6.8 64-bit ('anaconda': conda)",
   "language": "python",
   "name": "python36864bitanacondaconda085db2e8b14649f4b32196068f7124e9"
  },
  "language_info": {
   "codemirror_mode": {
    "name": "ipython",
    "version": 3
   },
   "file_extension": ".py",
   "mimetype": "text/x-python",
   "name": "python",
   "nbconvert_exporter": "python",
   "pygments_lexer": "ipython3",
   "version": "3.7.7-final"
  }
 },
 "nbformat": 4,
 "nbformat_minor": 2
}