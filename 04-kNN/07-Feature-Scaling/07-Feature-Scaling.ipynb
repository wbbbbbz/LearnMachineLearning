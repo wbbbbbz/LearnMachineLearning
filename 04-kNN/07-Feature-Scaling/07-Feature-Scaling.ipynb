{
 "cells": [
  {
   "cell_type": "markdown",
   "metadata": {},
   "source": [
    "## 07 数据归一化处理"
   ]
  },
  {
   "cell_type": "code",
   "execution_count": 29,
   "metadata": {
    "collapsed": true
   },
   "outputs": [],
   "source": [
    "import numpy as np\n",
    "import matplotlib.pyplot as plt"
   ]
  },
  {
   "cell_type": "markdown",
   "metadata": {},
   "source": [
    "### 最值归一化 Normalization"
   ]
  },
  {
   "cell_type": "code",
   "execution_count": 30,
   "metadata": {
    "collapsed": true
   },
   "outputs": [],
   "source": [
    "x = np.random.randint(0, 100, 100) "
   ]
  },
  {
   "cell_type": "code",
   "execution_count": 31,
   "metadata": {},
   "outputs": [
    {
     "output_type": "execute_result",
     "data": {
      "text/plain": "array([34,  9, 26, 98, 82,  8,  5, 77, 27, 74,  1, 12, 66, 45, 84,  8, 74,\n       62,  0, 55, 73, 10, 21, 36,  3, 58, 44, 24, 43, 29, 79, 22,  5, 69,\n       43, 73, 71, 49, 95, 11, 79,  5,  1, 31, 30, 81, 68, 57, 14, 77, 98,\n       23, 23, 93, 17, 91,  1, 12, 61, 34, 99, 27, 15, 37, 66, 67, 21, 17,\n       18, 75, 91, 43, 63, 27, 16, 49, 98, 25, 22, 94, 44, 66, 78, 54, 42,\n       36, 19, 89, 49,  2, 66, 81, 18, 83, 54, 93,  3, 61, 12, 36])"
     },
     "metadata": {},
     "execution_count": 31
    }
   ],
   "source": [
    "x"
   ]
  },
  {
   "cell_type": "code",
   "execution_count": 32,
   "metadata": {},
   "outputs": [
    {
     "output_type": "execute_result",
     "data": {
      "text/plain": "array([0.34343434, 0.09090909, 0.26262626, 0.98989899, 0.82828283,\n       0.08080808, 0.05050505, 0.77777778, 0.27272727, 0.74747475,\n       0.01010101, 0.12121212, 0.66666667, 0.45454545, 0.84848485,\n       0.08080808, 0.74747475, 0.62626263, 0.        , 0.55555556,\n       0.73737374, 0.1010101 , 0.21212121, 0.36363636, 0.03030303,\n       0.58585859, 0.44444444, 0.24242424, 0.43434343, 0.29292929,\n       0.7979798 , 0.22222222, 0.05050505, 0.6969697 , 0.43434343,\n       0.73737374, 0.71717172, 0.49494949, 0.95959596, 0.11111111,\n       0.7979798 , 0.05050505, 0.01010101, 0.31313131, 0.3030303 ,\n       0.81818182, 0.68686869, 0.57575758, 0.14141414, 0.77777778,\n       0.98989899, 0.23232323, 0.23232323, 0.93939394, 0.17171717,\n       0.91919192, 0.01010101, 0.12121212, 0.61616162, 0.34343434,\n       1.        , 0.27272727, 0.15151515, 0.37373737, 0.66666667,\n       0.67676768, 0.21212121, 0.17171717, 0.18181818, 0.75757576,\n       0.91919192, 0.43434343, 0.63636364, 0.27272727, 0.16161616,\n       0.49494949, 0.98989899, 0.25252525, 0.22222222, 0.94949495,\n       0.44444444, 0.66666667, 0.78787879, 0.54545455, 0.42424242,\n       0.36363636, 0.19191919, 0.8989899 , 0.49494949, 0.02020202,\n       0.66666667, 0.81818182, 0.18181818, 0.83838384, 0.54545455,\n       0.93939394, 0.03030303, 0.61616162, 0.12121212, 0.36363636])"
     },
     "metadata": {},
     "execution_count": 32
    }
   ],
   "source": [
    "# 最值归一化\n",
    "(x - np.min(x)) / (np.max(x) - np.min(x))"
   ]
  },
  {
   "cell_type": "code",
   "execution_count": 33,
   "metadata": {
    "collapsed": true
   },
   "outputs": [],
   "source": [
    "X = np.random.randint(0, 100, (50, 2))"
   ]
  },
  {
   "cell_type": "code",
   "execution_count": 34,
   "metadata": {
    "collapsed": true
   },
   "outputs": [],
   "source": [
    "# 因为np.array只能存储一种数据，所以要进行类型的转化\n",
    "X = np.array(X, dtype=float)"
   ]
  },
  {
   "cell_type": "code",
   "execution_count": 35,
   "metadata": {},
   "outputs": [
    {
     "output_type": "execute_result",
     "data": {
      "text/plain": "array([[40.,  7.],\n       [48., 68.],\n       [41., 31.],\n       [90., 58.],\n       [78., 36.],\n       [59., 97.],\n       [ 0., 36.],\n       [54., 88.],\n       [83.,  4.],\n       [94., 63.]])"
     },
     "metadata": {},
     "execution_count": 35
    }
   ],
   "source": [
    "X[:10,:]"
   ]
  },
  {
   "cell_type": "code",
   "execution_count": 36,
   "metadata": {
    "collapsed": true
   },
   "outputs": [],
   "source": [
    "# 每一个列进行转化\n",
    "X[:,0] = (X[:,0] - np.min(X[:,0])) / (np.max(X[:,0]) - np.min(X[:,0]))\n",
    "X[:,1] = (X[:,1] - np.min(X[:,1])) / (np.max(X[:,1]) - np.min(X[:,1]))"
   ]
  },
  {
   "cell_type": "code",
   "execution_count": 37,
   "metadata": {},
   "outputs": [
    {
     "output_type": "execute_result",
     "data": {
      "text/plain": "array([[0.40816327, 0.07216495],\n       [0.48979592, 0.70103093],\n       [0.41836735, 0.31958763],\n       [0.91836735, 0.59793814],\n       [0.79591837, 0.37113402],\n       [0.60204082, 1.        ],\n       [0.        , 0.37113402],\n       [0.55102041, 0.90721649],\n       [0.84693878, 0.04123711],\n       [0.95918367, 0.64948454]])"
     },
     "metadata": {},
     "execution_count": 37
    }
   ],
   "source": [
    "X[:10,:]"
   ]
  },
  {
   "cell_type": "code",
   "execution_count": 38,
   "metadata": {},
   "outputs": [
    {
     "output_type": "display_data",
     "data": {
      "text/plain": "<Figure size 432x288 with 1 Axes>",
      "image/svg+xml": "<?xml version=\"1.0\" encoding=\"utf-8\" standalone=\"no\"?>\r\n<!DOCTYPE svg PUBLIC \"-//W3C//DTD SVG 1.1//EN\"\r\n  \"http://www.w3.org/Graphics/SVG/1.1/DTD/svg11.dtd\">\r\n<!-- Created with matplotlib (https://matplotlib.org/) -->\r\n<svg height=\"248.518125pt\" version=\"1.1\" viewBox=\"0 0 372.103125 248.518125\" width=\"372.103125pt\" xmlns=\"http://www.w3.org/2000/svg\" xmlns:xlink=\"http://www.w3.org/1999/xlink\">\r\n <defs>\r\n  <style type=\"text/css\">\r\n*{stroke-linecap:butt;stroke-linejoin:round;}\r\n  </style>\r\n </defs>\r\n <g id=\"figure_1\">\r\n  <g id=\"patch_1\">\r\n   <path d=\"M 0 248.518125 \r\nL 372.103125 248.518125 \r\nL 372.103125 0 \r\nL 0 0 \r\nz\r\n\" style=\"fill:none;\"/>\r\n  </g>\r\n  <g id=\"axes_1\">\r\n   <g id=\"patch_2\">\r\n    <path d=\"M 30.103125 224.64 \r\nL 364.903125 224.64 \r\nL 364.903125 7.2 \r\nL 30.103125 7.2 \r\nz\r\n\" style=\"fill:#ffffff;\"/>\r\n   </g>\r\n   <g id=\"PathCollection_1\">\r\n    <defs>\r\n     <path d=\"M 0 3 \r\nC 0.795609 3 1.55874 2.683901 2.12132 2.12132 \r\nC 2.683901 1.55874 3 0.795609 3 0 \r\nC 3 -0.795609 2.683901 -1.55874 2.12132 -2.12132 \r\nC 1.55874 -2.683901 0.795609 -3 0 -3 \r\nC -0.795609 -3 -1.55874 -2.683901 -2.12132 -2.12132 \r\nC -2.683901 -1.55874 -3 -0.795609 -3 0 \r\nC -3 0.795609 -2.683901 1.55874 -2.12132 2.12132 \r\nC -1.55874 2.683901 -0.795609 3 0 3 \r\nz\r\n\" id=\"md520baa65c\" style=\"stroke:#1f77b4;\"/>\r\n    </defs>\r\n    <g clip-path=\"url(#p8076e5cfb0)\">\r\n     <use style=\"fill:#1f77b4;stroke:#1f77b4;\" x=\"170.043471\" xlink:href=\"#md520baa65c\" y=\"198.220341\"/>\r\n     <use style=\"fill:#1f77b4;stroke:#1f77b4;\" x=\"194.452052\" xlink:href=\"#md520baa65c\" y=\"77.248756\"/>\r\n     <use style=\"fill:#1f77b4;stroke:#1f77b4;\" x=\"173.094544\" xlink:href=\"#md520baa65c\" y=\"150.624963\"/>\r\n     <use style=\"fill:#1f77b4;stroke:#1f77b4;\" x=\"322.597104\" xlink:href=\"#md520baa65c\" y=\"97.080163\"/>\r\n     <use style=\"fill:#1f77b4;stroke:#1f77b4;\" x=\"285.984232\" xlink:href=\"#md520baa65c\" y=\"140.709259\"/>\r\n     <use style=\"fill:#1f77b4;stroke:#1f77b4;\" x=\"228.013852\" xlink:href=\"#md520baa65c\" y=\"19.737674\"/>\r\n     <use style=\"fill:#1f77b4;stroke:#1f77b4;\" x=\"48.000564\" xlink:href=\"#md520baa65c\" y=\"140.709259\"/>\r\n     <use style=\"fill:#1f77b4;stroke:#1f77b4;\" x=\"212.758488\" xlink:href=\"#md520baa65c\" y=\"37.585941\"/>\r\n     <use style=\"fill:#1f77b4;stroke:#1f77b4;\" x=\"301.239596\" xlink:href=\"#md520baa65c\" y=\"204.169763\"/>\r\n     <use style=\"fill:#1f77b4;stroke:#1f77b4;\" x=\"334.801395\" xlink:href=\"#md520baa65c\" y=\"87.164459\"/>\r\n     <use style=\"fill:#1f77b4;stroke:#1f77b4;\" x=\"298.188523\" xlink:href=\"#md520baa65c\" y=\"87.164459\"/>\r\n     <use style=\"fill:#1f77b4;stroke:#1f77b4;\" x=\"87.664509\" xlink:href=\"#md520baa65c\" y=\"83.198178\"/>\r\n     <use style=\"fill:#1f77b4;stroke:#1f77b4;\" x=\"72.409146\" xlink:href=\"#md520baa65c\" y=\"198.220341\"/>\r\n     <use style=\"fill:#1f77b4;stroke:#1f77b4;\" x=\"179.196689\" xlink:href=\"#md520baa65c\" y=\"77.248756\"/>\r\n     <use style=\"fill:#1f77b4;stroke:#1f77b4;\" x=\"160.890253\" xlink:href=\"#md520baa65c\" y=\"146.658681\"/>\r\n     <use style=\"fill:#1f77b4;stroke:#1f77b4;\" x=\"273.779942\" xlink:href=\"#md520baa65c\" y=\"122.860993\"/>\r\n     <use style=\"fill:#1f77b4;stroke:#1f77b4;\" x=\"93.766654\" xlink:href=\"#md520baa65c\" y=\"200.203481\"/>\r\n     <use style=\"fill:#1f77b4;stroke:#1f77b4;\" x=\"133.430599\" xlink:href=\"#md520baa65c\" y=\"212.102326\"/>\r\n     <use style=\"fill:#1f77b4;stroke:#1f77b4;\" x=\"176.145616\" xlink:href=\"#md520baa65c\" y=\"99.063304\"/>\r\n     <use style=\"fill:#1f77b4;stroke:#1f77b4;\" x=\"142.583817\" xlink:href=\"#md520baa65c\" y=\"126.827274\"/>\r\n     <use style=\"fill:#1f77b4;stroke:#1f77b4;\" x=\"194.452052\" xlink:href=\"#md520baa65c\" y=\"110.962148\"/>\r\n     <use style=\"fill:#1f77b4;stroke:#1f77b4;\" x=\"231.064924\" xlink:href=\"#md520baa65c\" y=\"83.198178\"/>\r\n     <use style=\"fill:#1f77b4;stroke:#1f77b4;\" x=\"234.115997\" xlink:href=\"#md520baa65c\" y=\"136.742978\"/>\r\n     <use style=\"fill:#1f77b4;stroke:#1f77b4;\" x=\"237.16707\" xlink:href=\"#md520baa65c\" y=\"184.338356\"/>\r\n     <use style=\"fill:#1f77b4;stroke:#1f77b4;\" x=\"57.153782\" xlink:href=\"#md520baa65c\" y=\"174.422652\"/>\r\n     <use style=\"fill:#1f77b4;stroke:#1f77b4;\" x=\"127.328454\" xlink:href=\"#md520baa65c\" y=\"99.063304\"/>\r\n     <use style=\"fill:#1f77b4;stroke:#1f77b4;\" x=\"154.788108\" xlink:href=\"#md520baa65c\" y=\"198.220341\"/>\r\n     <use style=\"fill:#1f77b4;stroke:#1f77b4;\" x=\"69.358073\" xlink:href=\"#md520baa65c\" y=\"196.2372\"/>\r\n     <use style=\"fill:#1f77b4;stroke:#1f77b4;\" x=\"295.13745\" xlink:href=\"#md520baa65c\" y=\"43.535363\"/>\r\n     <use style=\"fill:#1f77b4;stroke:#1f77b4;\" x=\"63.255928\" xlink:href=\"#md520baa65c\" y=\"79.231896\"/>\r\n     <use style=\"fill:#1f77b4;stroke:#1f77b4;\" x=\"57.153782\" xlink:href=\"#md520baa65c\" y=\"89.1476\"/>\r\n     <use style=\"fill:#1f77b4;stroke:#1f77b4;\" x=\"130.379526\" xlink:href=\"#md520baa65c\" y=\"152.608104\"/>\r\n     <use style=\"fill:#1f77b4;stroke:#1f77b4;\" x=\"209.707416\" xlink:href=\"#md520baa65c\" y=\"47.501644\"/>\r\n     <use style=\"fill:#1f77b4;stroke:#1f77b4;\" x=\"133.430599\" xlink:href=\"#md520baa65c\" y=\"59.400489\"/>\r\n     <use style=\"fill:#1f77b4;stroke:#1f77b4;\" x=\"273.779942\" xlink:href=\"#md520baa65c\" y=\"188.304637\"/>\r\n     <use style=\"fill:#1f77b4;stroke:#1f77b4;\" x=\"295.13745\" xlink:href=\"#md520baa65c\" y=\"206.152904\"/>\r\n     <use style=\"fill:#1f77b4;stroke:#1f77b4;\" x=\"148.685962\" xlink:href=\"#md520baa65c\" y=\"188.304637\"/>\r\n     <use style=\"fill:#1f77b4;stroke:#1f77b4;\" x=\"148.685962\" xlink:href=\"#md520baa65c\" y=\"160.540667\"/>\r\n     <use style=\"fill:#1f77b4;stroke:#1f77b4;\" x=\"206.656343\" xlink:href=\"#md520baa65c\" y=\"204.169763\"/>\r\n     <use style=\"fill:#1f77b4;stroke:#1f77b4;\" x=\"118.175236\" xlink:href=\"#md520baa65c\" y=\"164.506948\"/>\r\n     <use style=\"fill:#1f77b4;stroke:#1f77b4;\" x=\"84.613436\" xlink:href=\"#md520baa65c\" y=\"31.636519\"/>\r\n     <use style=\"fill:#1f77b4;stroke:#1f77b4;\" x=\"160.890253\" xlink:href=\"#md520baa65c\" y=\"105.012726\"/>\r\n     <use style=\"fill:#1f77b4;stroke:#1f77b4;\" x=\"237.16707\" xlink:href=\"#md520baa65c\" y=\"85.181319\"/>\r\n     <use style=\"fill:#1f77b4;stroke:#1f77b4;\" x=\"124.277381\" xlink:href=\"#md520baa65c\" y=\"101.046444\"/>\r\n     <use style=\"fill:#1f77b4;stroke:#1f77b4;\" x=\"224.962779\" xlink:href=\"#md520baa65c\" y=\"144.675541\"/>\r\n     <use style=\"fill:#1f77b4;stroke:#1f77b4;\" x=\"255.473506\" xlink:href=\"#md520baa65c\" y=\"140.709259\"/>\r\n     <use style=\"fill:#1f77b4;stroke:#1f77b4;\" x=\"84.613436\" xlink:href=\"#md520baa65c\" y=\"206.152904\"/>\r\n     <use style=\"fill:#1f77b4;stroke:#1f77b4;\" x=\"347.005686\" xlink:href=\"#md520baa65c\" y=\"23.703956\"/>\r\n     <use style=\"fill:#1f77b4;stroke:#1f77b4;\" x=\"221.911706\" xlink:href=\"#md520baa65c\" y=\"99.063304\"/>\r\n     <use style=\"fill:#1f77b4;stroke:#1f77b4;\" x=\"285.984232\" xlink:href=\"#md520baa65c\" y=\"158.557526\"/>\r\n    </g>\r\n   </g>\r\n   <g id=\"matplotlib.axis_1\">\r\n    <g id=\"xtick_1\">\r\n     <g id=\"line2d_1\">\r\n      <defs>\r\n       <path d=\"M 0 0 \r\nL 0 3.5 \r\n\" id=\"m640720c609\" style=\"stroke:#000000;stroke-width:0.8;\"/>\r\n      </defs>\r\n      <g>\r\n       <use style=\"stroke:#000000;stroke-width:0.8;\" x=\"48.000564\" xlink:href=\"#m640720c609\" y=\"224.64\"/>\r\n      </g>\r\n     </g>\r\n     <g id=\"text_1\">\r\n      <!-- 0.0 -->\r\n      <defs>\r\n       <path d=\"M 31.78125 66.40625 \r\nQ 24.171875 66.40625 20.328125 58.90625 \r\nQ 16.5 51.421875 16.5 36.375 \r\nQ 16.5 21.390625 20.328125 13.890625 \r\nQ 24.171875 6.390625 31.78125 6.390625 \r\nQ 39.453125 6.390625 43.28125 13.890625 \r\nQ 47.125 21.390625 47.125 36.375 \r\nQ 47.125 51.421875 43.28125 58.90625 \r\nQ 39.453125 66.40625 31.78125 66.40625 \r\nz\r\nM 31.78125 74.21875 \r\nQ 44.046875 74.21875 50.515625 64.515625 \r\nQ 56.984375 54.828125 56.984375 36.375 \r\nQ 56.984375 17.96875 50.515625 8.265625 \r\nQ 44.046875 -1.421875 31.78125 -1.421875 \r\nQ 19.53125 -1.421875 13.0625 8.265625 \r\nQ 6.59375 17.96875 6.59375 36.375 \r\nQ 6.59375 54.828125 13.0625 64.515625 \r\nQ 19.53125 74.21875 31.78125 74.21875 \r\nz\r\n\" id=\"DejaVuSans-48\"/>\r\n       <path d=\"M 10.6875 12.40625 \r\nL 21 12.40625 \r\nL 21 0 \r\nL 10.6875 0 \r\nz\r\n\" id=\"DejaVuSans-46\"/>\r\n      </defs>\r\n      <g transform=\"translate(40.049002 239.238437)scale(0.1 -0.1)\">\r\n       <use xlink:href=\"#DejaVuSans-48\"/>\r\n       <use x=\"63.623047\" xlink:href=\"#DejaVuSans-46\"/>\r\n       <use x=\"95.410156\" xlink:href=\"#DejaVuSans-48\"/>\r\n      </g>\r\n     </g>\r\n    </g>\r\n    <g id=\"xtick_2\">\r\n     <g id=\"line2d_2\">\r\n      <g>\r\n       <use style=\"stroke:#000000;stroke-width:0.8;\" x=\"107.801589\" xlink:href=\"#m640720c609\" y=\"224.64\"/>\r\n      </g>\r\n     </g>\r\n     <g id=\"text_2\">\r\n      <!-- 0.2 -->\r\n      <defs>\r\n       <path d=\"M 19.1875 8.296875 \r\nL 53.609375 8.296875 \r\nL 53.609375 0 \r\nL 7.328125 0 \r\nL 7.328125 8.296875 \r\nQ 12.9375 14.109375 22.625 23.890625 \r\nQ 32.328125 33.6875 34.8125 36.53125 \r\nQ 39.546875 41.84375 41.421875 45.53125 \r\nQ 43.3125 49.21875 43.3125 52.78125 \r\nQ 43.3125 58.59375 39.234375 62.25 \r\nQ 35.15625 65.921875 28.609375 65.921875 \r\nQ 23.96875 65.921875 18.8125 64.3125 \r\nQ 13.671875 62.703125 7.8125 59.421875 \r\nL 7.8125 69.390625 \r\nQ 13.765625 71.78125 18.9375 73 \r\nQ 24.125 74.21875 28.421875 74.21875 \r\nQ 39.75 74.21875 46.484375 68.546875 \r\nQ 53.21875 62.890625 53.21875 53.421875 \r\nQ 53.21875 48.921875 51.53125 44.890625 \r\nQ 49.859375 40.875 45.40625 35.40625 \r\nQ 44.1875 33.984375 37.640625 27.21875 \r\nQ 31.109375 20.453125 19.1875 8.296875 \r\nz\r\n\" id=\"DejaVuSans-50\"/>\r\n      </defs>\r\n      <g transform=\"translate(99.850026 239.238437)scale(0.1 -0.1)\">\r\n       <use xlink:href=\"#DejaVuSans-48\"/>\r\n       <use x=\"63.623047\" xlink:href=\"#DejaVuSans-46\"/>\r\n       <use x=\"95.410156\" xlink:href=\"#DejaVuSans-50\"/>\r\n      </g>\r\n     </g>\r\n    </g>\r\n    <g id=\"xtick_3\">\r\n     <g id=\"line2d_3\">\r\n      <g>\r\n       <use style=\"stroke:#000000;stroke-width:0.8;\" x=\"167.602613\" xlink:href=\"#m640720c609\" y=\"224.64\"/>\r\n      </g>\r\n     </g>\r\n     <g id=\"text_3\">\r\n      <!-- 0.4 -->\r\n      <defs>\r\n       <path d=\"M 37.796875 64.3125 \r\nL 12.890625 25.390625 \r\nL 37.796875 25.390625 \r\nz\r\nM 35.203125 72.90625 \r\nL 47.609375 72.90625 \r\nL 47.609375 25.390625 \r\nL 58.015625 25.390625 \r\nL 58.015625 17.1875 \r\nL 47.609375 17.1875 \r\nL 47.609375 0 \r\nL 37.796875 0 \r\nL 37.796875 17.1875 \r\nL 4.890625 17.1875 \r\nL 4.890625 26.703125 \r\nz\r\n\" id=\"DejaVuSans-52\"/>\r\n      </defs>\r\n      <g transform=\"translate(159.65105 239.238437)scale(0.1 -0.1)\">\r\n       <use xlink:href=\"#DejaVuSans-48\"/>\r\n       <use x=\"63.623047\" xlink:href=\"#DejaVuSans-46\"/>\r\n       <use x=\"95.410156\" xlink:href=\"#DejaVuSans-52\"/>\r\n      </g>\r\n     </g>\r\n    </g>\r\n    <g id=\"xtick_4\">\r\n     <g id=\"line2d_4\">\r\n      <g>\r\n       <use style=\"stroke:#000000;stroke-width:0.8;\" x=\"227.403637\" xlink:href=\"#m640720c609\" y=\"224.64\"/>\r\n      </g>\r\n     </g>\r\n     <g id=\"text_4\">\r\n      <!-- 0.6 -->\r\n      <defs>\r\n       <path d=\"M 33.015625 40.375 \r\nQ 26.375 40.375 22.484375 35.828125 \r\nQ 18.609375 31.296875 18.609375 23.390625 \r\nQ 18.609375 15.53125 22.484375 10.953125 \r\nQ 26.375 6.390625 33.015625 6.390625 \r\nQ 39.65625 6.390625 43.53125 10.953125 \r\nQ 47.40625 15.53125 47.40625 23.390625 \r\nQ 47.40625 31.296875 43.53125 35.828125 \r\nQ 39.65625 40.375 33.015625 40.375 \r\nz\r\nM 52.59375 71.296875 \r\nL 52.59375 62.3125 \r\nQ 48.875 64.0625 45.09375 64.984375 \r\nQ 41.3125 65.921875 37.59375 65.921875 \r\nQ 27.828125 65.921875 22.671875 59.328125 \r\nQ 17.53125 52.734375 16.796875 39.40625 \r\nQ 19.671875 43.65625 24.015625 45.921875 \r\nQ 28.375 48.1875 33.59375 48.1875 \r\nQ 44.578125 48.1875 50.953125 41.515625 \r\nQ 57.328125 34.859375 57.328125 23.390625 \r\nQ 57.328125 12.15625 50.6875 5.359375 \r\nQ 44.046875 -1.421875 33.015625 -1.421875 \r\nQ 20.359375 -1.421875 13.671875 8.265625 \r\nQ 6.984375 17.96875 6.984375 36.375 \r\nQ 6.984375 53.65625 15.1875 63.9375 \r\nQ 23.390625 74.21875 37.203125 74.21875 \r\nQ 40.921875 74.21875 44.703125 73.484375 \r\nQ 48.484375 72.75 52.59375 71.296875 \r\nz\r\n\" id=\"DejaVuSans-54\"/>\r\n      </defs>\r\n      <g transform=\"translate(219.452075 239.238437)scale(0.1 -0.1)\">\r\n       <use xlink:href=\"#DejaVuSans-48\"/>\r\n       <use x=\"63.623047\" xlink:href=\"#DejaVuSans-46\"/>\r\n       <use x=\"95.410156\" xlink:href=\"#DejaVuSans-54\"/>\r\n      </g>\r\n     </g>\r\n    </g>\r\n    <g id=\"xtick_5\">\r\n     <g id=\"line2d_5\">\r\n      <g>\r\n       <use style=\"stroke:#000000;stroke-width:0.8;\" x=\"287.204661\" xlink:href=\"#m640720c609\" y=\"224.64\"/>\r\n      </g>\r\n     </g>\r\n     <g id=\"text_5\">\r\n      <!-- 0.8 -->\r\n      <defs>\r\n       <path d=\"M 31.78125 34.625 \r\nQ 24.75 34.625 20.71875 30.859375 \r\nQ 16.703125 27.09375 16.703125 20.515625 \r\nQ 16.703125 13.921875 20.71875 10.15625 \r\nQ 24.75 6.390625 31.78125 6.390625 \r\nQ 38.8125 6.390625 42.859375 10.171875 \r\nQ 46.921875 13.96875 46.921875 20.515625 \r\nQ 46.921875 27.09375 42.890625 30.859375 \r\nQ 38.875 34.625 31.78125 34.625 \r\nz\r\nM 21.921875 38.8125 \r\nQ 15.578125 40.375 12.03125 44.71875 \r\nQ 8.5 49.078125 8.5 55.328125 \r\nQ 8.5 64.0625 14.71875 69.140625 \r\nQ 20.953125 74.21875 31.78125 74.21875 \r\nQ 42.671875 74.21875 48.875 69.140625 \r\nQ 55.078125 64.0625 55.078125 55.328125 \r\nQ 55.078125 49.078125 51.53125 44.71875 \r\nQ 48 40.375 41.703125 38.8125 \r\nQ 48.828125 37.15625 52.796875 32.3125 \r\nQ 56.78125 27.484375 56.78125 20.515625 \r\nQ 56.78125 9.90625 50.3125 4.234375 \r\nQ 43.84375 -1.421875 31.78125 -1.421875 \r\nQ 19.734375 -1.421875 13.25 4.234375 \r\nQ 6.78125 9.90625 6.78125 20.515625 \r\nQ 6.78125 27.484375 10.78125 32.3125 \r\nQ 14.796875 37.15625 21.921875 38.8125 \r\nz\r\nM 18.3125 54.390625 \r\nQ 18.3125 48.734375 21.84375 45.5625 \r\nQ 25.390625 42.390625 31.78125 42.390625 \r\nQ 38.140625 42.390625 41.71875 45.5625 \r\nQ 45.3125 48.734375 45.3125 54.390625 \r\nQ 45.3125 60.0625 41.71875 63.234375 \r\nQ 38.140625 66.40625 31.78125 66.40625 \r\nQ 25.390625 66.40625 21.84375 63.234375 \r\nQ 18.3125 60.0625 18.3125 54.390625 \r\nz\r\n\" id=\"DejaVuSans-56\"/>\r\n      </defs>\r\n      <g transform=\"translate(279.253099 239.238437)scale(0.1 -0.1)\">\r\n       <use xlink:href=\"#DejaVuSans-48\"/>\r\n       <use x=\"63.623047\" xlink:href=\"#DejaVuSans-46\"/>\r\n       <use x=\"95.410156\" xlink:href=\"#DejaVuSans-56\"/>\r\n      </g>\r\n     </g>\r\n    </g>\r\n    <g id=\"xtick_6\">\r\n     <g id=\"line2d_6\">\r\n      <g>\r\n       <use style=\"stroke:#000000;stroke-width:0.8;\" x=\"347.005686\" xlink:href=\"#m640720c609\" y=\"224.64\"/>\r\n      </g>\r\n     </g>\r\n     <g id=\"text_6\">\r\n      <!-- 1.0 -->\r\n      <defs>\r\n       <path d=\"M 12.40625 8.296875 \r\nL 28.515625 8.296875 \r\nL 28.515625 63.921875 \r\nL 10.984375 60.40625 \r\nL 10.984375 69.390625 \r\nL 28.421875 72.90625 \r\nL 38.28125 72.90625 \r\nL 38.28125 8.296875 \r\nL 54.390625 8.296875 \r\nL 54.390625 0 \r\nL 12.40625 0 \r\nz\r\n\" id=\"DejaVuSans-49\"/>\r\n      </defs>\r\n      <g transform=\"translate(339.054123 239.238437)scale(0.1 -0.1)\">\r\n       <use xlink:href=\"#DejaVuSans-49\"/>\r\n       <use x=\"63.623047\" xlink:href=\"#DejaVuSans-46\"/>\r\n       <use x=\"95.410156\" xlink:href=\"#DejaVuSans-48\"/>\r\n      </g>\r\n     </g>\r\n    </g>\r\n   </g>\r\n   <g id=\"matplotlib.axis_2\">\r\n    <g id=\"ytick_1\">\r\n     <g id=\"line2d_7\">\r\n      <defs>\r\n       <path d=\"M 0 0 \r\nL -3.5 0 \r\n\" id=\"m430092c435\" style=\"stroke:#000000;stroke-width:0.8;\"/>\r\n      </defs>\r\n      <g>\r\n       <use style=\"stroke:#000000;stroke-width:0.8;\" x=\"30.103125\" xlink:href=\"#m430092c435\" y=\"212.102326\"/>\r\n      </g>\r\n     </g>\r\n     <g id=\"text_7\">\r\n      <!-- 0.0 -->\r\n      <g transform=\"translate(7.2 215.901545)scale(0.1 -0.1)\">\r\n       <use xlink:href=\"#DejaVuSans-48\"/>\r\n       <use x=\"63.623047\" xlink:href=\"#DejaVuSans-46\"/>\r\n       <use x=\"95.410156\" xlink:href=\"#DejaVuSans-48\"/>\r\n      </g>\r\n     </g>\r\n    </g>\r\n    <g id=\"ytick_2\">\r\n     <g id=\"line2d_8\">\r\n      <g>\r\n       <use style=\"stroke:#000000;stroke-width:0.8;\" x=\"30.103125\" xlink:href=\"#m430092c435\" y=\"173.629396\"/>\r\n      </g>\r\n     </g>\r\n     <g id=\"text_8\">\r\n      <!-- 0.2 -->\r\n      <g transform=\"translate(7.2 177.428614)scale(0.1 -0.1)\">\r\n       <use xlink:href=\"#DejaVuSans-48\"/>\r\n       <use x=\"63.623047\" xlink:href=\"#DejaVuSans-46\"/>\r\n       <use x=\"95.410156\" xlink:href=\"#DejaVuSans-50\"/>\r\n      </g>\r\n     </g>\r\n    </g>\r\n    <g id=\"ytick_3\">\r\n     <g id=\"line2d_9\">\r\n      <g>\r\n       <use style=\"stroke:#000000;stroke-width:0.8;\" x=\"30.103125\" xlink:href=\"#m430092c435\" y=\"135.156465\"/>\r\n      </g>\r\n     </g>\r\n     <g id=\"text_9\">\r\n      <!-- 0.4 -->\r\n      <g transform=\"translate(7.2 138.955684)scale(0.1 -0.1)\">\r\n       <use xlink:href=\"#DejaVuSans-48\"/>\r\n       <use x=\"63.623047\" xlink:href=\"#DejaVuSans-46\"/>\r\n       <use x=\"95.410156\" xlink:href=\"#DejaVuSans-52\"/>\r\n      </g>\r\n     </g>\r\n    </g>\r\n    <g id=\"ytick_4\">\r\n     <g id=\"line2d_10\">\r\n      <g>\r\n       <use style=\"stroke:#000000;stroke-width:0.8;\" x=\"30.103125\" xlink:href=\"#m430092c435\" y=\"96.683535\"/>\r\n      </g>\r\n     </g>\r\n     <g id=\"text_10\">\r\n      <!-- 0.6 -->\r\n      <g transform=\"translate(7.2 100.482754)scale(0.1 -0.1)\">\r\n       <use xlink:href=\"#DejaVuSans-48\"/>\r\n       <use x=\"63.623047\" xlink:href=\"#DejaVuSans-46\"/>\r\n       <use x=\"95.410156\" xlink:href=\"#DejaVuSans-54\"/>\r\n      </g>\r\n     </g>\r\n    </g>\r\n    <g id=\"ytick_5\">\r\n     <g id=\"line2d_11\">\r\n      <g>\r\n       <use style=\"stroke:#000000;stroke-width:0.8;\" x=\"30.103125\" xlink:href=\"#m430092c435\" y=\"58.210604\"/>\r\n      </g>\r\n     </g>\r\n     <g id=\"text_11\">\r\n      <!-- 0.8 -->\r\n      <g transform=\"translate(7.2 62.009823)scale(0.1 -0.1)\">\r\n       <use xlink:href=\"#DejaVuSans-48\"/>\r\n       <use x=\"63.623047\" xlink:href=\"#DejaVuSans-46\"/>\r\n       <use x=\"95.410156\" xlink:href=\"#DejaVuSans-56\"/>\r\n      </g>\r\n     </g>\r\n    </g>\r\n    <g id=\"ytick_6\">\r\n     <g id=\"line2d_12\">\r\n      <g>\r\n       <use style=\"stroke:#000000;stroke-width:0.8;\" x=\"30.103125\" xlink:href=\"#m430092c435\" y=\"19.737674\"/>\r\n      </g>\r\n     </g>\r\n     <g id=\"text_12\">\r\n      <!-- 1.0 -->\r\n      <g transform=\"translate(7.2 23.536893)scale(0.1 -0.1)\">\r\n       <use xlink:href=\"#DejaVuSans-49\"/>\r\n       <use x=\"63.623047\" xlink:href=\"#DejaVuSans-46\"/>\r\n       <use x=\"95.410156\" xlink:href=\"#DejaVuSans-48\"/>\r\n      </g>\r\n     </g>\r\n    </g>\r\n   </g>\r\n   <g id=\"patch_3\">\r\n    <path d=\"M 30.103125 224.64 \r\nL 30.103125 7.2 \r\n\" style=\"fill:none;stroke:#000000;stroke-linecap:square;stroke-linejoin:miter;stroke-width:0.8;\"/>\r\n   </g>\r\n   <g id=\"patch_4\">\r\n    <path d=\"M 364.903125 224.64 \r\nL 364.903125 7.2 \r\n\" style=\"fill:none;stroke:#000000;stroke-linecap:square;stroke-linejoin:miter;stroke-width:0.8;\"/>\r\n   </g>\r\n   <g id=\"patch_5\">\r\n    <path d=\"M 30.103125 224.64 \r\nL 364.903125 224.64 \r\n\" style=\"fill:none;stroke:#000000;stroke-linecap:square;stroke-linejoin:miter;stroke-width:0.8;\"/>\r\n   </g>\r\n   <g id=\"patch_6\">\r\n    <path d=\"M 30.103125 7.2 \r\nL 364.903125 7.2 \r\n\" style=\"fill:none;stroke:#000000;stroke-linecap:square;stroke-linejoin:miter;stroke-width:0.8;\"/>\r\n   </g>\r\n  </g>\r\n </g>\r\n <defs>\r\n  <clipPath id=\"p8076e5cfb0\">\r\n   <rect height=\"217.44\" width=\"334.8\" x=\"30.103125\" y=\"7.2\"/>\r\n  </clipPath>\r\n </defs>\r\n</svg>\r\n",
      "image/png": "[encoded data removed]"
     },
     "metadata": {
      "needs_background": "light"
     }
    }
   ],
   "source": [
    "plt.scatter(X[:,0], X[:,1])\n",
    "plt.show()"
   ]
  },
  {
   "cell_type": "code",
   "execution_count": 39,
   "metadata": {},
   "outputs": [
    {
     "output_type": "execute_result",
     "data": {
      "text/plain": "0.4616326530612245"
     },
     "metadata": {},
     "execution_count": 39
    }
   ],
   "source": [
    "np.mean(X[:,0])"
   ]
  },
  {
   "cell_type": "code",
   "execution_count": 40,
   "metadata": {},
   "outputs": [
    {
     "output_type": "execute_result",
     "data": {
      "text/plain": "0.27299349393366956"
     },
     "metadata": {},
     "execution_count": 40
    }
   ],
   "source": [
    "np.std(X[:,0])"
   ]
  },
  {
   "cell_type": "code",
   "execution_count": 41,
   "metadata": {},
   "outputs": [
    {
     "output_type": "execute_result",
     "data": {
      "text/plain": "0.4404123711340206"
     },
     "metadata": {},
     "execution_count": 41
    }
   ],
   "source": [
    "np.mean(X[:,1])"
   ]
  },
  {
   "cell_type": "code",
   "execution_count": 42,
   "metadata": {},
   "outputs": [
    {
     "output_type": "execute_result",
     "data": {
      "text/plain": "0.2898212275283304"
     },
     "metadata": {},
     "execution_count": 42
    }
   ],
   "source": [
    "np.std(X[:,1])"
   ]
  },
  {
   "cell_type": "markdown",
   "metadata": {},
   "source": [
    "### 均值方差归一化 Standardization"
   ]
  },
  {
   "cell_type": "code",
   "execution_count": 43,
   "metadata": {
    "collapsed": true
   },
   "outputs": [],
   "source": [
    "X2 = np.random.randint(0, 100, (50, 2))"
   ]
  },
  {
   "cell_type": "code",
   "execution_count": 44,
   "metadata": {
    "collapsed": true
   },
   "outputs": [],
   "source": [
    "X2 = np.array(X2, dtype=float)"
   ]
  },
  {
   "cell_type": "code",
   "execution_count": 45,
   "metadata": {},
   "outputs": [
    {
     "output_type": "execute_result",
     "data": {
      "text/plain": "array([[80.,  1.],\n       [ 0., 99.],\n       [63.,  1.],\n       [64., 25.],\n       [50., 72.],\n       [57., 90.],\n       [77., 37.],\n       [74., 15.],\n       [71., 74.],\n       [63., 36.]])"
     },
     "metadata": {},
     "execution_count": 45
    }
   ],
   "source": [
    "X2[:10,:]"
   ]
  },
  {
   "cell_type": "code",
   "execution_count": 46,
   "metadata": {
    "collapsed": true
   },
   "outputs": [],
   "source": [
    "# 均值方差归一化，使用numpy中的std函数\n",
    "X2[:,0] = (X2[:,0] - np.mean(X2[:,0])) / np.std(X2[:,0])\n",
    "X2[:,1] = (X2[:,1] - np.mean(X2[:,1])) / np.std(X2[:,1])"
   ]
  },
  {
   "cell_type": "code",
   "execution_count": 47,
   "metadata": {},
   "outputs": [
    {
     "output_type": "display_data",
     "data": {
      "text/plain": "<Figure size 432x288 with 1 Axes>",
      "image/svg+xml": "<?xml version=\"1.0\" encoding=\"utf-8\" standalone=\"no\"?>\r\n<!DOCTYPE svg PUBLIC \"-//W3C//DTD SVG 1.1//EN\"\r\n  \"http://www.w3.org/Graphics/SVG/1.1/DTD/svg11.dtd\">\r\n<!-- Created with matplotlib (https://matplotlib.org/) -->\r\n<svg height=\"248.518125pt\" version=\"1.1\" viewBox=\"0 0 380.482813 248.518125\" width=\"380.482813pt\" xmlns=\"http://www.w3.org/2000/svg\" xmlns:xlink=\"http://www.w3.org/1999/xlink\">\r\n <defs>\r\n  <style type=\"text/css\">\r\n*{stroke-linecap:butt;stroke-linejoin:round;}\r\n  </style>\r\n </defs>\r\n <g id=\"figure_1\">\r\n  <g id=\"patch_1\">\r\n   <path d=\"M -0 248.518125 \r\nL 380.482813 248.518125 \r\nL 380.482813 0 \r\nL -0 0 \r\nz\r\n\" style=\"fill:none;\"/>\r\n  </g>\r\n  <g id=\"axes_1\">\r\n   <g id=\"patch_2\">\r\n    <path d=\"M 38.482813 224.64 \r\nL 373.282813 224.64 \r\nL 373.282813 7.2 \r\nL 38.482813 7.2 \r\nz\r\n\" style=\"fill:#ffffff;\"/>\r\n   </g>\r\n   <g id=\"PathCollection_1\">\r\n    <defs>\r\n     <path d=\"M 0 3 \r\nC 0.795609 3 1.55874 2.683901 2.12132 2.12132 \r\nC 2.683901 1.55874 3 0.795609 3 0 \r\nC 3 -0.795609 2.683901 -1.55874 2.12132 -2.12132 \r\nC 1.55874 -2.683901 0.795609 -3 0 -3 \r\nC -0.795609 -3 -1.55874 -2.683901 -2.12132 -2.12132 \r\nC -2.683901 -1.55874 -3 -0.795609 -3 0 \r\nC -3 0.795609 -2.683901 1.55874 -2.12132 2.12132 \r\nC -1.55874 2.683901 -0.795609 3 0 3 \r\nz\r\n\" id=\"m13314ba0dd\" style=\"stroke:#1f77b4;\"/>\r\n    </defs>\r\n    <g clip-path=\"url(#p982f5055b0)\">\r\n     <use style=\"fill:#1f77b4;stroke:#1f77b4;\" x=\"304.230327\" xlink:href=\"#m13314ba0dd\" y=\"211.925521\"/>\r\n     <use style=\"fill:#1f77b4;stroke:#1f77b4;\" x=\"54.458862\" xlink:href=\"#m13314ba0dd\" y=\"17.934984\"/>\r\n     <use style=\"fill:#1f77b4;stroke:#1f77b4;\" x=\"251.15389\" xlink:href=\"#m13314ba0dd\" y=\"211.925521\"/>\r\n     <use style=\"fill:#1f77b4;stroke:#1f77b4;\" x=\"254.276034\" xlink:href=\"#m13314ba0dd\" y=\"164.417634\"/>\r\n     <use style=\"fill:#1f77b4;stroke:#1f77b4;\" x=\"210.566027\" xlink:href=\"#m13314ba0dd\" y=\"71.381356\"/>\r\n     <use style=\"fill:#1f77b4;stroke:#1f77b4;\" x=\"232.421031\" xlink:href=\"#m13314ba0dd\" y=\"35.750441\"/>\r\n     <use style=\"fill:#1f77b4;stroke:#1f77b4;\" x=\"294.863897\" xlink:href=\"#m13314ba0dd\" y=\"140.663691\"/>\r\n     <use style=\"fill:#1f77b4;stroke:#1f77b4;\" x=\"285.497467\" xlink:href=\"#m13314ba0dd\" y=\"184.212587\"/>\r\n     <use style=\"fill:#1f77b4;stroke:#1f77b4;\" x=\"276.131037\" xlink:href=\"#m13314ba0dd\" y=\"67.422366\"/>\r\n     <use style=\"fill:#1f77b4;stroke:#1f77b4;\" x=\"251.15389\" xlink:href=\"#m13314ba0dd\" y=\"142.643186\"/>\r\n     <use style=\"fill:#1f77b4;stroke:#1f77b4;\" x=\"248.031747\" xlink:href=\"#m13314ba0dd\" y=\"156.499653\"/>\r\n     <use style=\"fill:#1f77b4;stroke:#1f77b4;\" x=\"269.88675\" xlink:href=\"#m13314ba0dd\" y=\"69.401861\"/>\r\n     <use style=\"fill:#1f77b4;stroke:#1f77b4;\" x=\"113.779585\" xlink:href=\"#m13314ba0dd\" y=\"196.089559\"/>\r\n     <use style=\"fill:#1f77b4;stroke:#1f77b4;\" x=\"341.696046\" xlink:href=\"#m13314ba0dd\" y=\"162.438139\"/>\r\n     <use style=\"fill:#1f77b4;stroke:#1f77b4;\" x=\"322.963186\" xlink:href=\"#m13314ba0dd\" y=\"202.028044\"/>\r\n     <use style=\"fill:#1f77b4;stroke:#1f77b4;\" x=\"322.963186\" xlink:href=\"#m13314ba0dd\" y=\"209.946026\"/>\r\n     <use style=\"fill:#1f77b4;stroke:#1f77b4;\" x=\"151.245305\" xlink:href=\"#m13314ba0dd\" y=\"101.073785\"/>\r\n     <use style=\"fill:#1f77b4;stroke:#1f77b4;\" x=\"73.191722\" xlink:href=\"#m13314ba0dd\" y=\"146.602177\"/>\r\n     <use style=\"fill:#1f77b4;stroke:#1f77b4;\" x=\"307.35247\" xlink:href=\"#m13314ba0dd\" y=\"126.807224\"/>\r\n     <use style=\"fill:#1f77b4;stroke:#1f77b4;\" x=\"332.329616\" xlink:href=\"#m13314ba0dd\" y=\"162.438139\"/>\r\n     <use style=\"fill:#1f77b4;stroke:#1f77b4;\" x=\"204.321741\" xlink:href=\"#m13314ba0dd\" y=\"45.647918\"/>\r\n     <use style=\"fill:#1f77b4;stroke:#1f77b4;\" x=\"241.78746\" xlink:href=\"#m13314ba0dd\" y=\"21.893974\"/>\r\n     <use style=\"fill:#1f77b4;stroke:#1f77b4;\" x=\"232.421031\" xlink:href=\"#m13314ba0dd\" y=\"29.811956\"/>\r\n     <use style=\"fill:#1f77b4;stroke:#1f77b4;\" x=\"57.581006\" xlink:href=\"#m13314ba0dd\" y=\"164.417634\"/>\r\n     <use style=\"fill:#1f77b4;stroke:#1f77b4;\" x=\"107.535298\" xlink:href=\"#m13314ba0dd\" y=\"110.971262\"/>\r\n     <use style=\"fill:#1f77b4;stroke:#1f77b4;\" x=\"126.268158\" xlink:href=\"#m13314ba0dd\" y=\"148.581672\"/>\r\n     <use style=\"fill:#1f77b4;stroke:#1f77b4;\" x=\"198.077454\" xlink:href=\"#m13314ba0dd\" y=\"192.130568\"/>\r\n     <use style=\"fill:#1f77b4;stroke:#1f77b4;\" x=\"148.123161\" xlink:href=\"#m13314ba0dd\" y=\"39.709432\"/>\r\n     <use style=\"fill:#1f77b4;stroke:#1f77b4;\" x=\"229.298887\" xlink:href=\"#m13314ba0dd\" y=\"211.925521\"/>\r\n     <use style=\"fill:#1f77b4;stroke:#1f77b4;\" x=\"260.52032\" xlink:href=\"#m13314ba0dd\" y=\"97.114795\"/>\r\n     <use style=\"fill:#1f77b4;stroke:#1f77b4;\" x=\"288.61961\" xlink:href=\"#m13314ba0dd\" y=\"105.032776\"/>\r\n     <use style=\"fill:#1f77b4;stroke:#1f77b4;\" x=\"70.069579\" xlink:href=\"#m13314ba0dd\" y=\"211.925521\"/>\r\n     <use style=\"fill:#1f77b4;stroke:#1f77b4;\" x=\"241.78746\" xlink:href=\"#m13314ba0dd\" y=\"205.987035\"/>\r\n     <use style=\"fill:#1f77b4;stroke:#1f77b4;\" x=\"341.696046\" xlink:href=\"#m13314ba0dd\" y=\"166.39713\"/>\r\n     <use style=\"fill:#1f77b4;stroke:#1f77b4;\" x=\"282.375323\" xlink:href=\"#m13314ba0dd\" y=\"99.09429\"/>\r\n     <use style=\"fill:#1f77b4;stroke:#1f77b4;\" x=\"232.421031\" xlink:href=\"#m13314ba0dd\" y=\"110.971262\"/>\r\n     <use style=\"fill:#1f77b4;stroke:#1f77b4;\" x=\"244.909604\" xlink:href=\"#m13314ba0dd\" y=\"213.905016\"/>\r\n     <use style=\"fill:#1f77b4;stroke:#1f77b4;\" x=\"357.306763\" xlink:href=\"#m13314ba0dd\" y=\"55.545394\"/>\r\n     <use style=\"fill:#1f77b4;stroke:#1f77b4;\" x=\"269.88675\" xlink:href=\"#m13314ba0dd\" y=\"138.684196\"/>\r\n     <use style=\"fill:#1f77b4;stroke:#1f77b4;\" x=\"116.901728\" xlink:href=\"#m13314ba0dd\" y=\"107.012271\"/>\r\n     <use style=\"fill:#1f77b4;stroke:#1f77b4;\" x=\"276.131037\" xlink:href=\"#m13314ba0dd\" y=\"77.319842\"/>\r\n     <use style=\"fill:#1f77b4;stroke:#1f77b4;\" x=\"357.306763\" xlink:href=\"#m13314ba0dd\" y=\"47.627413\"/>\r\n     <use style=\"fill:#1f77b4;stroke:#1f77b4;\" x=\"257.398177\" xlink:href=\"#m13314ba0dd\" y=\"73.360852\"/>\r\n     <use style=\"fill:#1f77b4;stroke:#1f77b4;\" x=\"266.764607\" xlink:href=\"#m13314ba0dd\" y=\"81.278833\"/>\r\n     <use style=\"fill:#1f77b4;stroke:#1f77b4;\" x=\"329.207473\" xlink:href=\"#m13314ba0dd\" y=\"27.83246\"/>\r\n     <use style=\"fill:#1f77b4;stroke:#1f77b4;\" x=\"116.901728\" xlink:href=\"#m13314ba0dd\" y=\"124.827729\"/>\r\n     <use style=\"fill:#1f77b4;stroke:#1f77b4;\" x=\"319.841043\" xlink:href=\"#m13314ba0dd\" y=\"23.87347\"/>\r\n     <use style=\"fill:#1f77b4;stroke:#1f77b4;\" x=\"151.245305\" xlink:href=\"#m13314ba0dd\" y=\"192.130568\"/>\r\n     <use style=\"fill:#1f77b4;stroke:#1f77b4;\" x=\"95.046725\" xlink:href=\"#m13314ba0dd\" y=\"152.540663\"/>\r\n     <use style=\"fill:#1f77b4;stroke:#1f77b4;\" x=\"276.131037\" xlink:href=\"#m13314ba0dd\" y=\"162.438139\"/>\r\n    </g>\r\n   </g>\r\n   <g id=\"matplotlib.axis_1\">\r\n    <g id=\"xtick_1\">\r\n     <g id=\"line2d_1\">\r\n      <defs>\r\n       <path d=\"M 0 0 \r\nL 0 3.5 \r\n\" id=\"ma510583db0\" style=\"stroke:#000000;stroke-width:0.8;\"/>\r\n      </defs>\r\n      <g>\r\n       <use style=\"stroke:#000000;stroke-width:0.8;\" x=\"62.765342\" xlink:href=\"#ma510583db0\" y=\"224.64\"/>\r\n      </g>\r\n     </g>\r\n     <g id=\"text_1\">\r\n      <!-- −2.0 -->\r\n      <defs>\r\n       <path d=\"M 10.59375 35.5 \r\nL 73.1875 35.5 \r\nL 73.1875 27.203125 \r\nL 10.59375 27.203125 \r\nz\r\n\" id=\"DejaVuSans-8722\"/>\r\n       <path d=\"M 19.1875 8.296875 \r\nL 53.609375 8.296875 \r\nL 53.609375 0 \r\nL 7.328125 0 \r\nL 7.328125 8.296875 \r\nQ 12.9375 14.109375 22.625 23.890625 \r\nQ 32.328125 33.6875 34.8125 36.53125 \r\nQ 39.546875 41.84375 41.421875 45.53125 \r\nQ 43.3125 49.21875 43.3125 52.78125 \r\nQ 43.3125 58.59375 39.234375 62.25 \r\nQ 35.15625 65.921875 28.609375 65.921875 \r\nQ 23.96875 65.921875 18.8125 64.3125 \r\nQ 13.671875 62.703125 7.8125 59.421875 \r\nL 7.8125 69.390625 \r\nQ 13.765625 71.78125 18.9375 73 \r\nQ 24.125 74.21875 28.421875 74.21875 \r\nQ 39.75 74.21875 46.484375 68.546875 \r\nQ 53.21875 62.890625 53.21875 53.421875 \r\nQ 53.21875 48.921875 51.53125 44.890625 \r\nQ 49.859375 40.875 45.40625 35.40625 \r\nQ 44.1875 33.984375 37.640625 27.21875 \r\nQ 31.109375 20.453125 19.1875 8.296875 \r\nz\r\n\" id=\"DejaVuSans-50\"/>\r\n       <path d=\"M 10.6875 12.40625 \r\nL 21 12.40625 \r\nL 21 0 \r\nL 10.6875 0 \r\nz\r\n\" id=\"DejaVuSans-46\"/>\r\n       <path d=\"M 31.78125 66.40625 \r\nQ 24.171875 66.40625 20.328125 58.90625 \r\nQ 16.5 51.421875 16.5 36.375 \r\nQ 16.5 21.390625 20.328125 13.890625 \r\nQ 24.171875 6.390625 31.78125 6.390625 \r\nQ 39.453125 6.390625 43.28125 13.890625 \r\nQ 47.125 21.390625 47.125 36.375 \r\nQ 47.125 51.421875 43.28125 58.90625 \r\nQ 39.453125 66.40625 31.78125 66.40625 \r\nz\r\nM 31.78125 74.21875 \r\nQ 44.046875 74.21875 50.515625 64.515625 \r\nQ 56.984375 54.828125 56.984375 36.375 \r\nQ 56.984375 17.96875 50.515625 8.265625 \r\nQ 44.046875 -1.421875 31.78125 -1.421875 \r\nQ 19.53125 -1.421875 13.0625 8.265625 \r\nQ 6.59375 17.96875 6.59375 36.375 \r\nQ 6.59375 54.828125 13.0625 64.515625 \r\nQ 19.53125 74.21875 31.78125 74.21875 \r\nz\r\n\" id=\"DejaVuSans-48\"/>\r\n      </defs>\r\n      <g transform=\"translate(50.623936 239.238437)scale(0.1 -0.1)\">\r\n       <use xlink:href=\"#DejaVuSans-8722\"/>\r\n       <use x=\"83.789062\" xlink:href=\"#DejaVuSans-50\"/>\r\n       <use x=\"147.412109\" xlink:href=\"#DejaVuSans-46\"/>\r\n       <use x=\"179.199219\" xlink:href=\"#DejaVuSans-48\"/>\r\n      </g>\r\n     </g>\r\n    </g>\r\n    <g id=\"xtick_2\">\r\n     <g id=\"line2d_2\">\r\n      <g>\r\n       <use style=\"stroke:#000000;stroke-width:0.8;\" x=\"105.054379\" xlink:href=\"#ma510583db0\" y=\"224.64\"/>\r\n      </g>\r\n     </g>\r\n     <g id=\"text_2\">\r\n      <!-- −1.5 -->\r\n      <defs>\r\n       <path d=\"M 12.40625 8.296875 \r\nL 28.515625 8.296875 \r\nL 28.515625 63.921875 \r\nL 10.984375 60.40625 \r\nL 10.984375 69.390625 \r\nL 28.421875 72.90625 \r\nL 38.28125 72.90625 \r\nL 38.28125 8.296875 \r\nL 54.390625 8.296875 \r\nL 54.390625 0 \r\nL 12.40625 0 \r\nz\r\n\" id=\"DejaVuSans-49\"/>\r\n       <path d=\"M 10.796875 72.90625 \r\nL 49.515625 72.90625 \r\nL 49.515625 64.59375 \r\nL 19.828125 64.59375 \r\nL 19.828125 46.734375 \r\nQ 21.96875 47.46875 24.109375 47.828125 \r\nQ 26.265625 48.1875 28.421875 48.1875 \r\nQ 40.625 48.1875 47.75 41.5 \r\nQ 54.890625 34.8125 54.890625 23.390625 \r\nQ 54.890625 11.625 47.5625 5.09375 \r\nQ 40.234375 -1.421875 26.90625 -1.421875 \r\nQ 22.3125 -1.421875 17.546875 -0.640625 \r\nQ 12.796875 0.140625 7.71875 1.703125 \r\nL 7.71875 11.625 \r\nQ 12.109375 9.234375 16.796875 8.0625 \r\nQ 21.484375 6.890625 26.703125 6.890625 \r\nQ 35.15625 6.890625 40.078125 11.328125 \r\nQ 45.015625 15.765625 45.015625 23.390625 \r\nQ 45.015625 31 40.078125 35.4375 \r\nQ 35.15625 39.890625 26.703125 39.890625 \r\nQ 22.75 39.890625 18.8125 39.015625 \r\nQ 14.890625 38.140625 10.796875 36.28125 \r\nz\r\n\" id=\"DejaVuSans-53\"/>\r\n      </defs>\r\n      <g transform=\"translate(92.912973 239.238437)scale(0.1 -0.1)\">\r\n       <use xlink:href=\"#DejaVuSans-8722\"/>\r\n       <use x=\"83.789062\" xlink:href=\"#DejaVuSans-49\"/>\r\n       <use x=\"147.412109\" xlink:href=\"#DejaVuSans-46\"/>\r\n       <use x=\"179.199219\" xlink:href=\"#DejaVuSans-53\"/>\r\n      </g>\r\n     </g>\r\n    </g>\r\n    <g id=\"xtick_3\">\r\n     <g id=\"line2d_3\">\r\n      <g>\r\n       <use style=\"stroke:#000000;stroke-width:0.8;\" x=\"147.343415\" xlink:href=\"#ma510583db0\" y=\"224.64\"/>\r\n      </g>\r\n     </g>\r\n     <g id=\"text_3\">\r\n      <!-- −1.0 -->\r\n      <g transform=\"translate(135.202009 239.238437)scale(0.1 -0.1)\">\r\n       <use xlink:href=\"#DejaVuSans-8722\"/>\r\n       <use x=\"83.789062\" xlink:href=\"#DejaVuSans-49\"/>\r\n       <use x=\"147.412109\" xlink:href=\"#DejaVuSans-46\"/>\r\n       <use x=\"179.199219\" xlink:href=\"#DejaVuSans-48\"/>\r\n      </g>\r\n     </g>\r\n    </g>\r\n    <g id=\"xtick_4\">\r\n     <g id=\"line2d_4\">\r\n      <g>\r\n       <use style=\"stroke:#000000;stroke-width:0.8;\" x=\"189.632451\" xlink:href=\"#ma510583db0\" y=\"224.64\"/>\r\n      </g>\r\n     </g>\r\n     <g id=\"text_4\">\r\n      <!-- −0.5 -->\r\n      <g transform=\"translate(177.491045 239.238437)scale(0.1 -0.1)\">\r\n       <use xlink:href=\"#DejaVuSans-8722\"/>\r\n       <use x=\"83.789062\" xlink:href=\"#DejaVuSans-48\"/>\r\n       <use x=\"147.412109\" xlink:href=\"#DejaVuSans-46\"/>\r\n       <use x=\"179.199219\" xlink:href=\"#DejaVuSans-53\"/>\r\n      </g>\r\n     </g>\r\n    </g>\r\n    <g id=\"xtick_5\">\r\n     <g id=\"line2d_5\">\r\n      <g>\r\n       <use style=\"stroke:#000000;stroke-width:0.8;\" x=\"231.921488\" xlink:href=\"#ma510583db0\" y=\"224.64\"/>\r\n      </g>\r\n     </g>\r\n     <g id=\"text_5\">\r\n      <!-- 0.0 -->\r\n      <g transform=\"translate(223.969925 239.238437)scale(0.1 -0.1)\">\r\n       <use xlink:href=\"#DejaVuSans-48\"/>\r\n       <use x=\"63.623047\" xlink:href=\"#DejaVuSans-46\"/>\r\n       <use x=\"95.410156\" xlink:href=\"#DejaVuSans-48\"/>\r\n      </g>\r\n     </g>\r\n    </g>\r\n    <g id=\"xtick_6\">\r\n     <g id=\"line2d_6\">\r\n      <g>\r\n       <use style=\"stroke:#000000;stroke-width:0.8;\" x=\"274.210524\" xlink:href=\"#ma510583db0\" y=\"224.64\"/>\r\n      </g>\r\n     </g>\r\n     <g id=\"text_6\">\r\n      <!-- 0.5 -->\r\n      <g transform=\"translate(266.258961 239.238437)scale(0.1 -0.1)\">\r\n       <use xlink:href=\"#DejaVuSans-48\"/>\r\n       <use x=\"63.623047\" xlink:href=\"#DejaVuSans-46\"/>\r\n       <use x=\"95.410156\" xlink:href=\"#DejaVuSans-53\"/>\r\n      </g>\r\n     </g>\r\n    </g>\r\n    <g id=\"xtick_7\">\r\n     <g id=\"line2d_7\">\r\n      <g>\r\n       <use style=\"stroke:#000000;stroke-width:0.8;\" x=\"316.49956\" xlink:href=\"#ma510583db0\" y=\"224.64\"/>\r\n      </g>\r\n     </g>\r\n     <g id=\"text_7\">\r\n      <!-- 1.0 -->\r\n      <g transform=\"translate(308.547998 239.238437)scale(0.1 -0.1)\">\r\n       <use xlink:href=\"#DejaVuSans-49\"/>\r\n       <use x=\"63.623047\" xlink:href=\"#DejaVuSans-46\"/>\r\n       <use x=\"95.410156\" xlink:href=\"#DejaVuSans-48\"/>\r\n      </g>\r\n     </g>\r\n    </g>\r\n    <g id=\"xtick_8\">\r\n     <g id=\"line2d_8\">\r\n      <g>\r\n       <use style=\"stroke:#000000;stroke-width:0.8;\" x=\"358.788597\" xlink:href=\"#ma510583db0\" y=\"224.64\"/>\r\n      </g>\r\n     </g>\r\n     <g id=\"text_8\">\r\n      <!-- 1.5 -->\r\n      <g transform=\"translate(350.837034 239.238437)scale(0.1 -0.1)\">\r\n       <use xlink:href=\"#DejaVuSans-49\"/>\r\n       <use x=\"63.623047\" xlink:href=\"#DejaVuSans-46\"/>\r\n       <use x=\"95.410156\" xlink:href=\"#DejaVuSans-53\"/>\r\n      </g>\r\n     </g>\r\n    </g>\r\n   </g>\r\n   <g id=\"matplotlib.axis_2\">\r\n    <g id=\"ytick_1\">\r\n     <g id=\"line2d_9\">\r\n      <defs>\r\n       <path d=\"M 0 0 \r\nL -3.5 0 \r\n\" id=\"me4dc14adfa\" style=\"stroke:#000000;stroke-width:0.8;\"/>\r\n      </defs>\r\n      <g>\r\n       <use style=\"stroke:#000000;stroke-width:0.8;\" x=\"38.482813\" xlink:href=\"#me4dc14adfa\" y=\"216.990328\"/>\r\n      </g>\r\n     </g>\r\n     <g id=\"text_9\">\r\n      <!-- −1.5 -->\r\n      <g transform=\"translate(7.2 220.789547)scale(0.1 -0.1)\">\r\n       <use xlink:href=\"#DejaVuSans-8722\"/>\r\n       <use x=\"83.789062\" xlink:href=\"#DejaVuSans-49\"/>\r\n       <use x=\"147.412109\" xlink:href=\"#DejaVuSans-46\"/>\r\n       <use x=\"179.199219\" xlink:href=\"#DejaVuSans-53\"/>\r\n      </g>\r\n     </g>\r\n    </g>\r\n    <g id=\"ytick_2\">\r\n     <g id=\"line2d_10\">\r\n      <g>\r\n       <use style=\"stroke:#000000;stroke-width:0.8;\" x=\"38.482813\" xlink:href=\"#me4dc14adfa\" y=\"186.137495\"/>\r\n      </g>\r\n     </g>\r\n     <g id=\"text_10\">\r\n      <!-- −1.0 -->\r\n      <g transform=\"translate(7.2 189.936714)scale(0.1 -0.1)\">\r\n       <use xlink:href=\"#DejaVuSans-8722\"/>\r\n       <use x=\"83.789062\" xlink:href=\"#DejaVuSans-49\"/>\r\n       <use x=\"147.412109\" xlink:href=\"#DejaVuSans-46\"/>\r\n       <use x=\"179.199219\" xlink:href=\"#DejaVuSans-48\"/>\r\n      </g>\r\n     </g>\r\n    </g>\r\n    <g id=\"ytick_3\">\r\n     <g id=\"line2d_11\">\r\n      <g>\r\n       <use style=\"stroke:#000000;stroke-width:0.8;\" x=\"38.482813\" xlink:href=\"#me4dc14adfa\" y=\"155.284662\"/>\r\n      </g>\r\n     </g>\r\n     <g id=\"text_11\">\r\n      <!-- −0.5 -->\r\n      <g transform=\"translate(7.2 159.083881)scale(0.1 -0.1)\">\r\n       <use xlink:href=\"#DejaVuSans-8722\"/>\r\n       <use x=\"83.789062\" xlink:href=\"#DejaVuSans-48\"/>\r\n       <use x=\"147.412109\" xlink:href=\"#DejaVuSans-46\"/>\r\n       <use x=\"179.199219\" xlink:href=\"#DejaVuSans-53\"/>\r\n      </g>\r\n     </g>\r\n    </g>\r\n    <g id=\"ytick_4\">\r\n     <g id=\"line2d_12\">\r\n      <g>\r\n       <use style=\"stroke:#000000;stroke-width:0.8;\" x=\"38.482813\" xlink:href=\"#me4dc14adfa\" y=\"124.43183\"/>\r\n      </g>\r\n     </g>\r\n     <g id=\"text_12\">\r\n      <!-- 0.0 -->\r\n      <g transform=\"translate(15.579688 128.231048)scale(0.1 -0.1)\">\r\n       <use xlink:href=\"#DejaVuSans-48\"/>\r\n       <use x=\"63.623047\" xlink:href=\"#DejaVuSans-46\"/>\r\n       <use x=\"95.410156\" xlink:href=\"#DejaVuSans-48\"/>\r\n      </g>\r\n     </g>\r\n    </g>\r\n    <g id=\"ytick_5\">\r\n     <g id=\"line2d_13\">\r\n      <g>\r\n       <use style=\"stroke:#000000;stroke-width:0.8;\" x=\"38.482813\" xlink:href=\"#me4dc14adfa\" y=\"93.578997\"/>\r\n      </g>\r\n     </g>\r\n     <g id=\"text_13\">\r\n      <!-- 0.5 -->\r\n      <g transform=\"translate(15.579688 97.378216)scale(0.1 -0.1)\">\r\n       <use xlink:href=\"#DejaVuSans-48\"/>\r\n       <use x=\"63.623047\" xlink:href=\"#DejaVuSans-46\"/>\r\n       <use x=\"95.410156\" xlink:href=\"#DejaVuSans-53\"/>\r\n      </g>\r\n     </g>\r\n    </g>\r\n    <g id=\"ytick_6\">\r\n     <g id=\"line2d_14\">\r\n      <g>\r\n       <use style=\"stroke:#000000;stroke-width:0.8;\" x=\"38.482813\" xlink:href=\"#me4dc14adfa\" y=\"62.726164\"/>\r\n      </g>\r\n     </g>\r\n     <g id=\"text_14\">\r\n      <!-- 1.0 -->\r\n      <g transform=\"translate(15.579688 66.525383)scale(0.1 -0.1)\">\r\n       <use xlink:href=\"#DejaVuSans-49\"/>\r\n       <use x=\"63.623047\" xlink:href=\"#DejaVuSans-46\"/>\r\n       <use x=\"95.410156\" xlink:href=\"#DejaVuSans-48\"/>\r\n      </g>\r\n     </g>\r\n    </g>\r\n    <g id=\"ytick_7\">\r\n     <g id=\"line2d_15\">\r\n      <g>\r\n       <use style=\"stroke:#000000;stroke-width:0.8;\" x=\"38.482813\" xlink:href=\"#me4dc14adfa\" y=\"31.873331\"/>\r\n      </g>\r\n     </g>\r\n     <g id=\"text_15\">\r\n      <!-- 1.5 -->\r\n      <g transform=\"translate(15.579688 35.67255)scale(0.1 -0.1)\">\r\n       <use xlink:href=\"#DejaVuSans-49\"/>\r\n       <use x=\"63.623047\" xlink:href=\"#DejaVuSans-46\"/>\r\n       <use x=\"95.410156\" xlink:href=\"#DejaVuSans-53\"/>\r\n      </g>\r\n     </g>\r\n    </g>\r\n   </g>\r\n   <g id=\"patch_3\">\r\n    <path d=\"M 38.482813 224.64 \r\nL 38.482813 7.2 \r\n\" style=\"fill:none;stroke:#000000;stroke-linecap:square;stroke-linejoin:miter;stroke-width:0.8;\"/>\r\n   </g>\r\n   <g id=\"patch_4\">\r\n    <path d=\"M 373.282813 224.64 \r\nL 373.282813 7.2 \r\n\" style=\"fill:none;stroke:#000000;stroke-linecap:square;stroke-linejoin:miter;stroke-width:0.8;\"/>\r\n   </g>\r\n   <g id=\"patch_5\">\r\n    <path d=\"M 38.482813 224.64 \r\nL 373.282813 224.64 \r\n\" style=\"fill:none;stroke:#000000;stroke-linecap:square;stroke-linejoin:miter;stroke-width:0.8;\"/>\r\n   </g>\r\n   <g id=\"patch_6\">\r\n    <path d=\"M 38.482813 7.2 \r\nL 373.282813 7.2 \r\n\" style=\"fill:none;stroke:#000000;stroke-linecap:square;stroke-linejoin:miter;stroke-width:0.8;\"/>\r\n   </g>\r\n  </g>\r\n </g>\r\n <defs>\r\n  <clipPath id=\"p982f5055b0\">\r\n   <rect height=\"217.44\" width=\"334.8\" x=\"38.482813\" y=\"7.2\"/>\r\n  </clipPath>\r\n </defs>\r\n</svg>\r\n",
      "image/png": "[encoded data removed]"
     },
     "metadata": {
      "needs_background": "light"
     }
    }
   ],
   "source": [
    "plt.scatter(X2[:,0], X2[:,1])\n",
    "plt.show()"
   ]
  },
  {
   "cell_type": "code",
   "execution_count": 48,
   "metadata": {},
   "outputs": [
    {
     "output_type": "execute_result",
     "data": {
      "text/plain": "-1.1102230246251565e-16"
     },
     "metadata": {},
     "execution_count": 48
    }
   ],
   "source": [
    "np.mean(X2[:,0])"
   ]
  },
  {
   "cell_type": "code",
   "execution_count": 49,
   "metadata": {},
   "outputs": [
    {
     "output_type": "execute_result",
     "data": {
      "text/plain": "0.9999999999999998"
     },
     "metadata": {},
     "execution_count": 49
    }
   ],
   "source": [
    "np.std(X2[:,0])"
   ]
  },
  {
   "cell_type": "code",
   "execution_count": 50,
   "metadata": {},
   "outputs": [
    {
     "output_type": "execute_result",
     "data": {
      "text/plain": "-1.021405182655144e-16"
     },
     "metadata": {},
     "execution_count": 50
    }
   ],
   "source": [
    "np.mean(X2[:,1])"
   ]
  },
  {
   "cell_type": "code",
   "execution_count": 51,
   "metadata": {},
   "outputs": [
    {
     "output_type": "execute_result",
     "data": {
      "text/plain": "1.0"
     },
     "metadata": {},
     "execution_count": 51
    }
   ],
   "source": [
    "np.std(X2[:,1])"
   ]
  }
 ],
 "metadata": {
  "kernelspec": {
   "display_name": "Python 3.6.8 64-bit ('anaconda': conda)",
   "language": "python",
   "name": "python36864bitanacondaconda085db2e8b14649f4b32196068f7124e9"
  },
  "language_info": {
   "codemirror_mode": {
    "name": "ipython",
    "version": 3
   },
   "file_extension": ".py",
   "mimetype": "text/x-python",
   "name": "python",
   "nbconvert_exporter": "python",
   "pygments_lexer": "ipython3",
   "version": "3.7.7-final"
  }
 },
 "nbformat": 4,
 "nbformat_minor": 2
}